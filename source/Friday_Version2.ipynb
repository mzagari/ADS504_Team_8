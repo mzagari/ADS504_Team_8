{
  "nbformat": 4,
  "nbformat_minor": 0,
  "metadata": {
    "colab": {
      "name": "Friday Version2",
      "provenance": [],
      "collapsed_sections": [],
      "mount_file_id": "1URTi9fwkKI0A-QX_702XwZKNkzXd1Ozo",
      "authorship_tag": "ABX9TyOjLhFbqOsH4Ma1C8E8lyBv",
      "include_colab_link": true
    },
    "kernelspec": {
      "name": "python3",
      "display_name": "Python 3"
    },
    "language_info": {
      "name": "python"
    }
  },
  "cells": [
    {
      "cell_type": "markdown",
      "metadata": {
        "id": "view-in-github",
        "colab_type": "text"
      },
      "source": [
        "<a href=\"https://colab.research.google.com/github/mzagari/ADS504_Team_8/blob/main/Friday_Version2.ipynb\" target=\"_parent\"><img src=\"https://colab.research.google.com/assets/colab-badge.svg\" alt=\"Open In Colab\"/></a>"
      ]
    },
    {
      "cell_type": "code",
      "source": [
        "__author__ = 'Martin Zagari, Summer Purschke, Dave Friesen'\n",
        "__email__ = 'mzagari@sandiego.edu, spurschke@sandiego.edu, dfriesen@sandiego.edu'\n",
        "__version__ = '1.0'\n",
        "__date__ = 'August 2022'\n",
        "__license__ = 'MIT'"
      ],
      "metadata": {
        "id": "JfRb1OwBBYD7"
      },
      "execution_count": 71,
      "outputs": []
    },
    {
      "cell_type": "code",
      "source": [
        "# Basics\n",
        "import numpy as np\n",
        "import pandas as pd\n",
        "\n",
        "# Visualization\n",
        "import matplotlib.pyplot as plt\n",
        "from matplotlib.pyplot import figure\n",
        "import seaborn as sns\n",
        "\n",
        "# Modeling\n",
        "from sklearn.preprocessing import LabelEncoder, OneHotEncoder, StandardScaler\n",
        "\n",
        "from sklearn.model_selection import train_test_split, GridSearchCV, cross_val_score\n",
        "from sklearn.pipeline import Pipeline, make_pipeline\n",
        "\n",
        "from sklearn.compose import ColumnTransformer\n",
        "\n",
        "from sklearn.tree import DecisionTreeClassifier\n",
        "from sklearn.linear_model import Perceptron\n",
        "from sklearn.neighbors import KNeighborsClassifier\n",
        "from sklearn.linear_model import LogisticRegression\n",
        "from sklearn.svm import LinearSVC\n",
        "\n",
        "from sklearn.metrics import accuracy_score, confusion_matrix, ConfusionMatrixDisplay, classification_report, roc_curve, auc\n",
        "\n",
        "# Utilities\n",
        "import joblib\n",
        "import re\n",
        "from time import time\n",
        "import warnings\n",
        "#warnings.filterwarnings('ignore')\n",
        "#warnings.resetwarnings()\n",
        "\n",
        "# Set basic options for consistent output\n",
        "PRECISION = 2\n",
        "np.set_printoptions(precision = PRECISION)\n",
        "pd.set_option('display.float_format', lambda x: '%.2f' % x)\n",
        "pd.set_option('display.precision', PRECISION)\n",
        "pd.set_option('display.width', 1000)\n",
        "pd.set_option('display.colheader_justify', 'center')\n",
        "\n",
        "# Set Matplotlib defaults for consistent visualization look 'n' feel\n",
        "FONTSIZE_S = 10\n",
        "FONTSIZE_M = 12\n",
        "FONTSIZE_L = 14\n",
        "plt.style.use('default')\n",
        "plt.rcParams['figure.titlesize'] = FONTSIZE_L\n",
        "plt.rcParams['figure.figsize'] = (7, 7 / (16 / 9))\n",
        "plt.rcParams['figure.subplot.left'] = '0.1'\n",
        "plt.rcParams['figure.subplot.bottom'] = '0.1'\n",
        "plt.rcParams['figure.subplot.top'] = '0.9'\n",
        "plt.rcParams['figure.subplot.wspace'] = '0.4'\n",
        "plt.rcParams['lines.linewidth'] = '2'\n",
        "plt.rcParams['axes.linewidth'] = '2'\n",
        "plt.rcParams['axes.titlesize'] = '8'\n",
        "#plt.rcParams['axes.titleweight'] = 'bold'\n",
        "plt.rcParams['axes.labelsize'] = FONTSIZE_M\n",
        "plt.rcParams['xtick.labelsize'] = FONTSIZE_S\n",
        "plt.rcParams['ytick.labelsize'] = FONTSIZE_S\n",
        "plt.rcParams['grid.linewidth'] = '1'\n",
        "plt.rcParams['legend.fontsize'] = FONTSIZE_S\n",
        "plt.rcParams['legend.title_fontsize'] = FONTSIZE_S"
      ],
      "metadata": {
        "id": "6v0SDmdwFwfd"
      },
      "execution_count": 72,
      "outputs": []
    },
    {
      "cell_type": "code",
      "source": [
        "from google.colab import drive\n",
        "drive.mount('/content/drive')"
      ],
      "metadata": {
        "colab": {
          "base_uri": "https://localhost:8080/"
        },
        "id": "MJe-v159IkeM",
        "outputId": "f9496232-894c-4ce6-abc6-d629a9ef89d9"
      },
      "execution_count": 73,
      "outputs": [
        {
          "output_type": "stream",
          "name": "stdout",
          "text": [
            "Drive already mounted at /content/drive; to attempt to forcibly remount, call drive.mount(\"/content/drive\", force_remount=True).\n"
          ]
        }
      ]
    },
    {
      "cell_type": "markdown",
      "source": [
        "# RUN for Local File Retrieval"
      ],
      "metadata": {
        "id": "_xJ3DhrKKeXA"
      }
    },
    {
      "cell_type": "code",
      "source": [
        "'''\n",
        "# Set working directory (depending on coder)\n",
        "#%cd '/Users/davidfriesen/Desktop/OneDrive/projects/ADS504_Team_8/data'\n",
        "\n",
        "# Set row count control totals\n",
        "structure_ctrl = sum(1 for line in open('csv_building_structure.csv'))\n",
        "ownership_ctrl = sum(1 for line in open('csv_building_ownership_and_use.csv'))\n",
        "damage_ctrl = sum(1 for line in open('csv_building_damage_assessment_featex.csv'))\n",
        "'''"
      ],
      "metadata": {
        "colab": {
          "base_uri": "https://localhost:8080/",
          "height": 70
        },
        "id": "kUUl2lD4Fw6c",
        "outputId": "25804da4-93a8-412b-cbad-3cee14dbc6da"
      },
      "execution_count": 74,
      "outputs": [
        {
          "output_type": "execute_result",
          "data": {
            "text/plain": [
              "\"\\n# Set working directory (depending on coder)\\n#%cd '/Users/davidfriesen/Desktop/OneDrive/projects/ADS504_Team_8/data'\\n\\n# Set row count control totals\\nstructure_ctrl = sum(1 for line in open('csv_building_structure.csv'))\\nownership_ctrl = sum(1 for line in open('csv_building_ownership_and_use.csv'))\\ndamage_ctrl = sum(1 for line in open('csv_building_damage_assessment_featex.csv'))\\n\""
            ],
            "application/vnd.google.colaboratory.intrinsic+json": {
              "type": "string"
            }
          },
          "metadata": {},
          "execution_count": 74
        }
      ]
    },
    {
      "cell_type": "code",
      "source": [
        "'''\n",
        "# Read files, accomodating any 'bad' rows\n",
        "structure_df = pd.read_csv('csv_building_structure.csv', on_bad_lines = 'skip', low_memory = False)\n",
        "ownership_df = pd.read_csv('csv_building_ownership_and_use.csv', on_bad_lines = 'skip', low_memory = False)\n",
        "damage_df = pd.read_csv('csv_building_damage_assessment_featex.csv', on_bad_lines = 'skip', low_memory = False)\n",
        "'''"
      ],
      "metadata": {
        "colab": {
          "base_uri": "https://localhost:8080/",
          "height": 70
        },
        "id": "2w01t3YYLY5w",
        "outputId": "a6882360-a78b-4b91-bc17-16f87aa2c89e"
      },
      "execution_count": 75,
      "outputs": [
        {
          "output_type": "execute_result",
          "data": {
            "text/plain": [
              "\"\\n# Read files, accomodating any 'bad' rows\\nstructure_df = pd.read_csv('csv_building_structure.csv', on_bad_lines = 'skip', low_memory = False)\\nownership_df = pd.read_csv('csv_building_ownership_and_use.csv', on_bad_lines = 'skip', low_memory = False)\\ndamage_df = pd.read_csv('csv_building_damage_assessment_featex.csv', on_bad_lines = 'skip', low_memory = False)\\n\""
            ],
            "application/vnd.google.colaboratory.intrinsic+json": {
              "type": "string"
            }
          },
          "metadata": {},
          "execution_count": 75
        }
      ]
    },
    {
      "cell_type": "markdown",
      "source": [
        "# Run for Google Drive/Colab/Cloud File Retrieval"
      ],
      "metadata": {
        "id": "xweFOlArKjQ4"
      }
    },
    {
      "cell_type": "code",
      "source": [
        "# Set row count control totals\n",
        "structure_ctrl = sum(1 for line in open('drive/MyDrive/ADS504/csv_building_structure.csv'))\n",
        "ownership_ctrl = sum(1 for line in open('drive/MyDrive/ADS504/csv_building_ownership_and_use.csv'))\n",
        "damage_ctrl = sum(1 for line in open('drive/MyDrive/ADS504/csv_building_damage_assessment_featex.csv'))\n",
        "\n",
        "damage_df = pd.read_csv('drive/MyDrive/ADS504/csv_building_damage_assessment_featex.csv', on_bad_lines = 'skip', low_memory = False)\n",
        "ownership_df = pd.read_csv('drive/MyDrive/ADS504/csv_building_ownership_and_use.csv', on_bad_lines = 'skip', low_memory = False)\n",
        "structure_df = pd.read_csv('drive/MyDrive/ADS504/csv_building_structure.csv', on_bad_lines = 'skip', low_memory = False)"
      ],
      "metadata": {
        "id": "52cU5NqRJQqA"
      },
      "execution_count": 76,
      "outputs": []
    },
    {
      "cell_type": "markdown",
      "source": [
        "# Confirm load counts"
      ],
      "metadata": {
        "id": "zoW5s5M7JZV3"
      }
    },
    {
      "cell_type": "code",
      "source": [
        "# Confirm load counts\n",
        "print('Structure: file=%0d, import=%0d, delta=%0d' %\n",
        "      (structure_ctrl, len(structure_df), structure_ctrl - len(structure_df)))\n",
        "print('Ownership: file=%0d, import=%0d, delta=%0d' %\n",
        "      (ownership_ctrl, len(ownership_df), ownership_ctrl - len(ownership_df)))\n",
        "print('Damage: file=%0d, import=%0d, delta=%0d' %\n",
        "      (damage_ctrl, len(damage_df), damage_ctrl - len(damage_df)))"
      ],
      "metadata": {
        "colab": {
          "base_uri": "https://localhost:8080/"
        },
        "id": "R3a74zwRJZv6",
        "outputId": "bd9c56fa-d37c-4043-8a1c-1dd9e1b6fa79"
      },
      "execution_count": 77,
      "outputs": [
        {
          "output_type": "stream",
          "name": "stdout",
          "text": [
            "Structure: file=762106, import=762105, delta=1\n",
            "Ownership: file=762106, import=762105, delta=1\n",
            "Damage: file=762106, import=762105, delta=1\n"
          ]
        }
      ]
    },
    {
      "cell_type": "code",
      "source": [
        "structure_df.info()"
      ],
      "metadata": {
        "colab": {
          "base_uri": "https://localhost:8080/"
        },
        "id": "aiCbcNmRFxAV",
        "outputId": "ede4e4a9-4915-44ad-f557-fd1511c4a743"
      },
      "execution_count": 78,
      "outputs": [
        {
          "output_type": "stream",
          "name": "stdout",
          "text": [
            "<class 'pandas.core.frame.DataFrame'>\n",
            "RangeIndex: 762105 entries, 0 to 762104\n",
            "Data columns (total 31 columns):\n",
            " #   Column                                  Non-Null Count   Dtype  \n",
            "---  ------                                  --------------   -----  \n",
            " 0   building_id                             762105 non-null  float64\n",
            " 1   district_id                             762105 non-null  int64  \n",
            " 2   vdcmun_id                               762105 non-null  int64  \n",
            " 3   ward_id                                 762105 non-null  int64  \n",
            " 4   count_floors_pre_eq                     762105 non-null  int64  \n",
            " 5   count_floors_post_eq                    762105 non-null  int64  \n",
            " 6   age_building                            762105 non-null  int64  \n",
            " 7   plinth_area_sq_ft                       762105 non-null  int64  \n",
            " 8   height_ft_pre_eq                        762105 non-null  int64  \n",
            " 9   height_ft_post_eq                       762105 non-null  int64  \n",
            " 10  land_surface_condition                  762105 non-null  object \n",
            " 11  foundation_type                         762105 non-null  object \n",
            " 12  roof_type                               762105 non-null  object \n",
            " 13  ground_floor_type                       762105 non-null  object \n",
            " 14  other_floor_type                        762105 non-null  object \n",
            " 15  position                                762104 non-null  object \n",
            " 16  plan_configuration                      762104 non-null  object \n",
            " 17  has_superstructure_adobe_mud            762105 non-null  int64  \n",
            " 18  has_superstructure_mud_mortar_stone     762105 non-null  int64  \n",
            " 19  has_superstructure_stone_flag           762105 non-null  int64  \n",
            " 20  has_superstructure_cement_mortar_stone  762105 non-null  int64  \n",
            " 21  has_superstructure_mud_mortar_brick     762105 non-null  int64  \n",
            " 22  has_superstructure_cement_mortar_brick  762105 non-null  int64  \n",
            " 23  has_superstructure_timber               762105 non-null  int64  \n",
            " 24  has_superstructure_bamboo               762105 non-null  int64  \n",
            " 25  has_superstructure_rc_non_engineered    762105 non-null  int64  \n",
            " 26  has_superstructure_rc_engineered        762105 non-null  int64  \n",
            " 27  has_superstructure_other                762105 non-null  int64  \n",
            " 28  condition_post_eq                       762105 non-null  object \n",
            " 29  damage_grade                            762093 non-null  object \n",
            " 30  technical_solution_proposed             762093 non-null  object \n",
            "dtypes: float64(1), int64(20), object(10)\n",
            "memory usage: 180.2+ MB\n"
          ]
        }
      ]
    },
    {
      "cell_type": "code",
      "source": [
        "ownership_df.info()"
      ],
      "metadata": {
        "colab": {
          "base_uri": "https://localhost:8080/"
        },
        "id": "_Dg8F8xlFxDC",
        "outputId": "ceeb87a9-e8c8-41d1-87c7-903efcf6c11e"
      },
      "execution_count": 79,
      "outputs": [
        {
          "output_type": "stream",
          "name": "stdout",
          "text": [
            "<class 'pandas.core.frame.DataFrame'>\n",
            "RangeIndex: 762105 entries, 0 to 762104\n",
            "Data columns (total 17 columns):\n",
            " #   Column                         Non-Null Count   Dtype  \n",
            "---  ------                         --------------   -----  \n",
            " 0   building_id                    762105 non-null  float64\n",
            " 1   district_id                    762105 non-null  int64  \n",
            " 2   vdcmun_id                      762105 non-null  int64  \n",
            " 3   ward_id                        762105 non-null  int64  \n",
            " 4   legal_ownership_status         762105 non-null  object \n",
            " 5   count_families                 762103 non-null  float64\n",
            " 6   has_secondary_use              762095 non-null  float64\n",
            " 7   has_secondary_use_agriculture  762105 non-null  int64  \n",
            " 8   has_secondary_use_hotel        762105 non-null  int64  \n",
            " 9   has_secondary_use_rental       762105 non-null  int64  \n",
            " 10  has_secondary_use_institution  762105 non-null  int64  \n",
            " 11  has_secondary_use_school       762105 non-null  int64  \n",
            " 12  has_secondary_use_industry     762105 non-null  int64  \n",
            " 13  has_secondary_use_health_post  762105 non-null  int64  \n",
            " 14  has_secondary_use_gov_office   762105 non-null  int64  \n",
            " 15  has_secondary_use_use_police   762105 non-null  int64  \n",
            " 16  has_secondary_use_other        762105 non-null  int64  \n",
            "dtypes: float64(3), int64(13), object(1)\n",
            "memory usage: 98.8+ MB\n"
          ]
        }
      ]
    },
    {
      "cell_type": "code",
      "source": [
        "damage_df.info()"
      ],
      "metadata": {
        "colab": {
          "base_uri": "https://localhost:8080/"
        },
        "id": "91_NSzLSFxFY",
        "outputId": "e2cf5448-e1e7-4d0b-88ce-3a4ba18896ef"
      },
      "execution_count": 80,
      "outputs": [
        {
          "output_type": "stream",
          "name": "stdout",
          "text": [
            "<class 'pandas.core.frame.DataFrame'>\n",
            "RangeIndex: 762105 entries, 0 to 762104\n",
            "Data columns (total 17 columns):\n",
            " #   Column                                 Non-Null Count   Dtype  \n",
            "---  ------                                 --------------   -----  \n",
            " 0   building_id                            762105 non-null  float64\n",
            " 1   district_id                            762105 non-null  int64  \n",
            " 2   vdcmun_id                              762105 non-null  int64  \n",
            " 3   ward_id                                762105 non-null  int64  \n",
            " 4   damage_overall_collapse                500743 non-null  object \n",
            " 5   damage_overall_leaning                 500742 non-null  object \n",
            " 6   area_assesed                           762093 non-null  object \n",
            " 7   damage_grade                           762093 non-null  object \n",
            " 8   technical_solution_proposed            762093 non-null  object \n",
            " 9   has_geotechnical_risk                  762093 non-null  float64\n",
            " 10  has_geotechnical_risk_land_settlement  762105 non-null  int64  \n",
            " 11  has_geotechnical_risk_fault_crack      762105 non-null  int64  \n",
            " 12  has_geotechnical_risk_liquefaction     762105 non-null  int64  \n",
            " 13  has_geotechnical_risk_landslide        762105 non-null  int64  \n",
            " 14  has_geotechnical_risk_rock_fall        762105 non-null  int64  \n",
            " 15  has_geotechnical_risk_flood            762105 non-null  int64  \n",
            " 16  has_geotechnical_risk_other            762105 non-null  int64  \n",
            "dtypes: float64(2), int64(10), object(5)\n",
            "memory usage: 98.8+ MB\n"
          ]
        }
      ]
    },
    {
      "cell_type": "markdown",
      "source": [
        "# Build the primary working df for processing: 'building_df'"
      ],
      "metadata": {
        "id": "psN9QpoA65DU"
      }
    },
    {
      "cell_type": "code",
      "source": [
        "from pandas.core.arrays import numeric\n",
        "binary_class = False\n",
        "trinary_class = True\n",
        "quintary_class = False\n",
        "\n",
        "# Eliminate features considered n/a to problem statement and hypothesis, or contaminated by post-earthquake data\n",
        "structure_dr = structure_df.drop(columns = ['vdcmun_id', 'ward_id',\n",
        "                                            'height_ft_post_eq', 'condition_post_eq', 'technical_solution_proposed'])\n",
        "\n",
        "##################Drop Addl Cols with Post Earthquake Contamination\n",
        "structure_dr = structure_dr.drop(columns = ['count_floors_post_eq'])\n",
        "##################\n",
        "\n",
        "ownership_dr = ownership_df.drop(columns = ['district_id', 'vdcmun_id', 'ward_id']\n",
        ")\n",
        "damage_dr = damage_df.drop(columns=['district_id', 'vdcmun_id', 'ward_id', 'damage_grade'])\n",
        "\n",
        "##################Drop Addl Cols with Post Earthquake Contamination\n",
        "damage_dr = damage_dr.drop(columns=['area_assesed','damage_overall_collapse','damage_overall_leaning','technical_solution_proposed'])\n",
        "##################\n",
        "\n",
        "#Convert damage_grade to a numeric variable and map to number of classes:\n",
        "\n",
        "if binary_class is True:\n",
        "  print(\"2\")\n",
        "  dict = {'Grade 1' : 0,\n",
        "          'Grade 2' : 0,\n",
        "          'Grade 3' : 0,\n",
        "          'Grade 4' : 1,\n",
        "          'Grade 5' : 1\n",
        "          }\n",
        "\n",
        "if trinary_class is True:\n",
        "  print(\"3\")\n",
        "  dict = {'Grade 1' : 0,\n",
        "          'Grade 2' : 0,\n",
        "          'Grade 3' : 0,\n",
        "          'Grade 4' : 1,\n",
        "          'Grade 5' : 2\n",
        "          }\n",
        "\n",
        "if quintary_class is True:\n",
        "  print(\"5\")\n",
        "  dict = {'Grade 1' : 1,\n",
        "          'Grade 2' : 2,\n",
        "          'Grade 3' : 3,\n",
        "          'Grade 4' : 4,\n",
        "          'Grade 5' : 5\n",
        "          }\n",
        "  \n",
        "# Merge all three dataframes into common set of label and prospective features\n",
        "temp_df = pd.merge(structure_dr, ownership_dr, how = 'inner', on = 'building_id')\n",
        "building_df = pd.merge(temp_df, damage_dr, how = 'inner', on = 'building_id')\n",
        "building_df.drop('building_id', axis = 1, inplace = True)\n",
        "building_df.info()\n",
        "\n",
        "# Remap the values of the dataframe\n",
        "building_df = building_df.replace({'damage_grade': dict})\n",
        "building_df['damage_grade'] = pd.to_numeric(building_df['damage_grade'])"
      ],
      "metadata": {
        "colab": {
          "base_uri": "https://localhost:8080/"
        },
        "id": "UXE6_BZcFxHw",
        "outputId": "fe5032bd-c93f-48cc-cdf3-f8d8f509292a"
      },
      "execution_count": 81,
      "outputs": [
        {
          "output_type": "stream",
          "name": "stdout",
          "text": [
            "3\n",
            "<class 'pandas.core.frame.DataFrame'>\n",
            "Int64Index: 762104 entries, 0 to 762103\n",
            "Data columns (total 45 columns):\n",
            " #   Column                                  Non-Null Count   Dtype  \n",
            "---  ------                                  --------------   -----  \n",
            " 0   district_id                             762104 non-null  int64  \n",
            " 1   count_floors_pre_eq                     762104 non-null  int64  \n",
            " 2   age_building                            762104 non-null  int64  \n",
            " 3   plinth_area_sq_ft                       762104 non-null  int64  \n",
            " 4   height_ft_pre_eq                        762104 non-null  int64  \n",
            " 5   land_surface_condition                  762104 non-null  object \n",
            " 6   foundation_type                         762104 non-null  object \n",
            " 7   roof_type                               762104 non-null  object \n",
            " 8   ground_floor_type                       762104 non-null  object \n",
            " 9   other_floor_type                        762104 non-null  object \n",
            " 10  position                                762103 non-null  object \n",
            " 11  plan_configuration                      762103 non-null  object \n",
            " 12  has_superstructure_adobe_mud            762104 non-null  int64  \n",
            " 13  has_superstructure_mud_mortar_stone     762104 non-null  int64  \n",
            " 14  has_superstructure_stone_flag           762104 non-null  int64  \n",
            " 15  has_superstructure_cement_mortar_stone  762104 non-null  int64  \n",
            " 16  has_superstructure_mud_mortar_brick     762104 non-null  int64  \n",
            " 17  has_superstructure_cement_mortar_brick  762104 non-null  int64  \n",
            " 18  has_superstructure_timber               762104 non-null  int64  \n",
            " 19  has_superstructure_bamboo               762104 non-null  int64  \n",
            " 20  has_superstructure_rc_non_engineered    762104 non-null  int64  \n",
            " 21  has_superstructure_rc_engineered        762104 non-null  int64  \n",
            " 22  has_superstructure_other                762104 non-null  int64  \n",
            " 23  damage_grade                            762092 non-null  object \n",
            " 24  legal_ownership_status                  762104 non-null  object \n",
            " 25  count_families                          762102 non-null  float64\n",
            " 26  has_secondary_use                       762094 non-null  float64\n",
            " 27  has_secondary_use_agriculture           762104 non-null  int64  \n",
            " 28  has_secondary_use_hotel                 762104 non-null  int64  \n",
            " 29  has_secondary_use_rental                762104 non-null  int64  \n",
            " 30  has_secondary_use_institution           762104 non-null  int64  \n",
            " 31  has_secondary_use_school                762104 non-null  int64  \n",
            " 32  has_secondary_use_industry              762104 non-null  int64  \n",
            " 33  has_secondary_use_health_post           762104 non-null  int64  \n",
            " 34  has_secondary_use_gov_office            762104 non-null  int64  \n",
            " 35  has_secondary_use_use_police            762104 non-null  int64  \n",
            " 36  has_secondary_use_other                 762104 non-null  int64  \n",
            " 37  has_geotechnical_risk                   762092 non-null  float64\n",
            " 38  has_geotechnical_risk_land_settlement   762104 non-null  int64  \n",
            " 39  has_geotechnical_risk_fault_crack       762104 non-null  int64  \n",
            " 40  has_geotechnical_risk_liquefaction      762104 non-null  int64  \n",
            " 41  has_geotechnical_risk_landslide         762104 non-null  int64  \n",
            " 42  has_geotechnical_risk_rock_fall         762104 non-null  int64  \n",
            " 43  has_geotechnical_risk_flood             762104 non-null  int64  \n",
            " 44  has_geotechnical_risk_other             762104 non-null  int64  \n",
            "dtypes: float64(3), int64(33), object(9)\n",
            "memory usage: 267.5+ MB\n"
          ]
        }
      ]
    },
    {
      "cell_type": "code",
      "source": [
        "#building_df10 = building_df.sample(frac=.1, random_state=42)\n",
        "#sns.pairplot(building_df10, hue = \"damage_grade\", corner = True, diag_kind = 'hist')  # Based on looking at the data, plot feature separation"
      ],
      "metadata": {
        "id": "uYwnM2Uwn0vN"
      },
      "execution_count": 82,
      "outputs": []
    },
    {
      "cell_type": "code",
      "source": [
        "building_df['damage_grade'].value_counts()"
      ],
      "metadata": {
        "colab": {
          "base_uri": "https://localhost:8080/"
        },
        "id": "mGour09wCWTY",
        "outputId": "68636355-fc47-45a4-bbd0-04ffa5ba3d86"
      },
      "execution_count": 83,
      "outputs": [
        {
          "output_type": "execute_result",
          "data": {
            "text/plain": [
              "0.00    302484\n",
              "2.00    275764\n",
              "1.00    183844\n",
              "Name: damage_grade, dtype: int64"
            ]
          },
          "metadata": {},
          "execution_count": 83
        }
      ]
    },
    {
      "cell_type": "code",
      "source": [
        "# Identify prospective feature columns by 'type'\n",
        "num_cols = [\n",
        "    'count_floors_pre_eq',\n",
        "    'age_building',\n",
        "    'plinth_area_sq_ft',\n",
        "    'height_ft_pre_eq',\n",
        "    'count_families',\n",
        "    'damage_grade'\n",
        "    ]                       #6         \n",
        "cat_cols = [\n",
        "    'land_surface_condition',\n",
        "    'foundation_type',\n",
        "    'roof_type',\n",
        "    'ground_floor_type',\n",
        "    'other_floor_type',\n",
        "    'position',\n",
        "    'plan_configuration',\n",
        "    'legal_ownership_status',\n",
        "    'district_id'\n",
        "    ]                           #9\n",
        "bin_cols = [\n",
        "    'has_superstructure_adobe_mud',\n",
        "    'has_superstructure_mud_mortar_stone',\n",
        "    'has_superstructure_stone_flag',\n",
        "    'has_superstructure_cement_mortar_stone',\n",
        "    'has_superstructure_mud_mortar_brick',\n",
        "    'has_superstructure_cement_mortar_brick',\n",
        "    'has_superstructure_timber',\n",
        "    'has_superstructure_bamboo',\n",
        "    'has_superstructure_rc_non_engineered',\n",
        "    'has_superstructure_rc_engineered',\n",
        "    'has_superstructure_other',\n",
        "    'has_secondary_use',\n",
        "    'has_secondary_use_agriculture',\n",
        "    'has_secondary_use_hotel',\n",
        "    'has_secondary_use_rental',\n",
        "    'has_secondary_use_institution',\n",
        "    'has_secondary_use_school',\n",
        "    'has_secondary_use_industry',\n",
        "    'has_secondary_use_health_post',\n",
        "    'has_secondary_use_gov_office',\n",
        "    'has_secondary_use_use_police',\n",
        "    'has_secondary_use_other',\n",
        "    'has_geotechnical_risk',\n",
        "    'has_geotechnical_risk_land_settlement',\n",
        "    'has_geotechnical_risk_fault_crack',\n",
        "    'has_geotechnical_risk_liquefaction',\n",
        "    'has_geotechnical_risk_landslide',\n",
        "    'has_geotechnical_risk_rock_fall',\n",
        "    'has_geotechnical_risk_flood',\n",
        "    'has_geotechnical_risk_other'\n",
        "    ]                                   #30 (11, 11, 8 )"
      ],
      "metadata": {
        "id": "siJpAOVHqMpf"
      },
      "execution_count": 84,
      "outputs": []
    },
    {
      "cell_type": "markdown",
      "source": [
        "#Numerical Features"
      ],
      "metadata": {
        "id": "35pTCRaoDRyI"
      }
    },
    {
      "cell_type": "code",
      "source": [
        "# Plot numeric histograms here\n",
        "\n",
        "sns.set(font_scale=0.5)\n",
        "fig, axs = plt.subplots(3, 2, figsize=(12, 12))\n",
        "fig.subplots_adjust(hspace=0.5, top = 0.75)\n",
        "\n",
        "sns.histplot(building_df['count_floors_pre_eq'], color=\"red\", ax=axs[0, 0])\n",
        "sns.histplot(building_df['age_building'], color=\"red\", ax=axs[0, 1])\n",
        "sns.histplot(building_df['plinth_area_sq_ft'], color=\"red\", ax=axs[1, 0])\n",
        "sns.histplot(building_df['height_ft_pre_eq'], color=\"red\", ax=axs[1, 1])\n",
        "sns.histplot(building_df['count_families'], color=\"red\", ax=axs[2, 0])\n",
        "sns.histplot(building_df['damage_grade'], color=\"red\", ax=axs[2, 1])\n",
        "\n",
        "plt.show()"
      ],
      "metadata": {
        "colab": {
          "base_uri": "https://localhost:8080/",
          "height": 853
        },
        "id": "qsnTtsViqHhy",
        "outputId": "0aa07aa2-10b4-44b7-97bf-382dd7e13a79"
      },
      "execution_count": 85,
      "outputs": [
        {
          "output_type": "display_data",
          "data": {
            "text/plain": [
              "<Figure size 1200x1200 with 6 Axes>"
            ],
            "image/png": "[encoded data removed]"
          },
          "metadata": {}
        }
      ]
    },
    {
      "cell_type": "markdown",
      "source": [
        "#Plot Outliers"
      ],
      "metadata": {
        "id": "T3rmx98u8O1u"
      }
    },
    {
      "cell_type": "code",
      "source": [
        "sns.set(font_scale=0.5)\n",
        "fig, axs = plt.subplots(2, 3, figsize=(12, 12))\n",
        "fig.subplots_adjust(hspace=0.5, top = 0.75)\n",
        "\n",
        "outfloor=building_df[building_df['count_floors_pre_eq']>3]\n",
        "sns.histplot(outfloor['count_floors_pre_eq'], color=\"red\", ax=axs[0, 0])\n",
        "\n",
        "outage=building_df[building_df['age_building']>200]\n",
        "sns.histplot(outage['age_building'], color=\"red\", ax=axs[0, 1])\n",
        "\n",
        "outplinth=building_df[building_df['plinth_area_sq_ft']>3000]\n",
        "sns.histplot(outplinth['plinth_area_sq_ft'], color=\"red\", ax=axs[0, 2])\n",
        "\n",
        "outheight=building_df[building_df['height_ft_pre_eq']>60]\n",
        "sns.histplot(outheight['height_ft_pre_eq'], color=\"red\", ax=axs[1, 0])\n",
        "\n",
        "outfam=building_df[building_df['count_families']>10]\n",
        "sns.histplot(outfam['count_families'], color=\"red\", ax=axs[1, 1])\n",
        "\n",
        "plt.show()"
      ],
      "metadata": {
        "colab": {
          "base_uri": "https://localhost:8080/",
          "height": 853
        },
        "id": "_reCaDDx6Pk6",
        "outputId": "97fdb92b-0534-41e4-a151-b2bf32d47bbf"
      },
      "execution_count": 86,
      "outputs": [
        {
          "output_type": "display_data",
          "data": {
            "text/plain": [
              "<Figure size 1200x1200 with 6 Axes>"
            ],
            "image/png": "[encoded data removed]"
          },
          "metadata": {}
        }
      ]
    },
    {
      "cell_type": "markdown",
      "source": [
        "#Investigate Building with Age = 999"
      ],
      "metadata": {
        "id": "8sMevYWgDBQ7"
      }
    },
    {
      "cell_type": "code",
      "source": [
        "print(outage)"
      ],
      "metadata": {
        "colab": {
          "base_uri": "https://localhost:8080/"
        },
        "id": "IvC0aYLCBuBf",
        "outputId": "d0e4b59f-721e-40df-a127-6687e4660693"
      },
      "execution_count": 87,
      "outputs": [
        {
          "output_type": "stream",
          "name": "stdout",
          "text": [
            "        district_id  count_floors_pre_eq  age_building  plinth_area_sq_ft  height_ft_pre_eq land_surface_condition     foundation_type             roof_type         ground_floor_type  other_floor_type   ... has_secondary_use_use_police has_secondary_use_other  has_geotechnical_risk  has_geotechnical_risk_land_settlement  has_geotechnical_risk_fault_crack  has_geotechnical_risk_liquefaction  has_geotechnical_risk_landslide  has_geotechnical_risk_rock_fall  has_geotechnical_risk_flood  has_geotechnical_risk_other\n",
            "2004        12                2                999             225                25                 Flat                    Bamboo/Timber  Bamboo/Timber-Light roof         Mud        TImber/Bamboo-Mud  ...               0                          0                    0.00                             0                                    0                                   0                                 0                                0                              0                            0             \n",
            "6112        12                2                999             347                17                 Flat           Mud mortar-Stone/Brick  Bamboo/Timber-Heavy roof         Mud        TImber/Bamboo-Mud  ...               0                          0                    0.00                             0                                    0                                   0                                 0                                0                              0                            0             \n",
            "12067       12                2                999             540                16                 Flat           Mud mortar-Stone/Brick  Bamboo/Timber-Light roof         Mud            Timber-Planck  ...               0                          0                    0.00                             0                                    0                                   0                                 0                                0                              0                            0             \n",
            "12089       12                2                999             540                18                 Flat           Mud mortar-Stone/Brick  Bamboo/Timber-Light roof         Mud            Timber-Planck  ...               0                          0                    0.00                             0                                    0                                   0                                 0                                0                              0                            0             \n",
            "12123       12                1                999             540                 8                 Flat           Mud mortar-Stone/Brick  Bamboo/Timber-Light roof         Mud           Not applicable  ...               0                          0                    0.00                             0                                    0                                   0                                 0                                0                              0                            0             \n",
            "...             ...                  ...           ...                ...               ...                    ...                     ...                       ...               ...                ...  ...                          ...                     ...                    ...                                    ...                                ...                                 ...                              ...                              ...                          ...                          ...\n",
            "757637      36                2                999             280                16                 Flat           Mud mortar-Stone/Brick  Bamboo/Timber-Light roof         Mud        TImber/Bamboo-Mud  ...               0                          0                    0.00                             0                                    0                                   0                                 0                                0                              0                            0             \n",
            "757704      36                2                999             310                14                 Flat           Mud mortar-Stone/Brick  Bamboo/Timber-Light roof         Mud        TImber/Bamboo-Mud  ...               0                          0                    0.00                             0                                    0                                   0                                 0                                0                              0                            0             \n",
            "757722      36                2                999             320                16                 Flat           Mud mortar-Stone/Brick  Bamboo/Timber-Light roof         Mud        TImber/Bamboo-Mud  ...               0                          0                    0.00                             0                                    0                                   0                                 0                                0                              0                            0             \n",
            "757788      36                2                999             240                15                 Flat           Mud mortar-Stone/Brick  Bamboo/Timber-Light roof         Mud        TImber/Bamboo-Mud  ...               0                          0                    0.00                             0                                    0                                   0                                 0                                0                              0                            0             \n",
            "757789      36                2                999             290                15                 Flat           Mud mortar-Stone/Brick  Bamboo/Timber-Light roof         Mud            Timber-Planck  ...               0                          0                    0.00                             0                                    0                                   0                                 0                                0                              0                            0             \n",
            "\n",
            "[3145 rows x 45 columns]\n"
          ]
        }
      ]
    },
    {
      "cell_type": "code",
      "source": [
        "corr_df = building_df[['age_building', 'damage_grade']].corr()\n",
        "#corr_df.rename(columns = lambda s: s[0:19], index = lambda s: s[0:19], inplace = True)\n",
        "print(corr_df)"
      ],
      "metadata": {
        "colab": {
          "base_uri": "https://localhost:8080/"
        },
        "id": "VzyUKlSyCRaO",
        "outputId": "fc000b5c-69ba-4f9d-8548-39495632f0f5"
      },
      "execution_count": 88,
      "outputs": [
        {
          "output_type": "stream",
          "name": "stdout",
          "text": [
            "              age_building  damage_grade\n",
            "age_building      1.00          0.04    \n",
            "damage_grade      0.04          1.00    \n"
          ]
        }
      ]
    },
    {
      "cell_type": "code",
      "source": [
        "print(building_df.shape)\n",
        "building_df.drop(building_df[building_df['age_building'] > 900].index, inplace = True)\n",
        "building_df.shape"
      ],
      "metadata": {
        "colab": {
          "base_uri": "https://localhost:8080/"
        },
        "id": "Qcwd_EctEEZs",
        "outputId": "fb44c561-65e8-42fb-ee71-52cbe57c06eb"
      },
      "execution_count": 89,
      "outputs": [
        {
          "output_type": "stream",
          "name": "stdout",
          "text": [
            "(762104, 45)\n"
          ]
        },
        {
          "output_type": "execute_result",
          "data": {
            "text/plain": [
              "(758959, 45)"
            ]
          },
          "metadata": {},
          "execution_count": 89
        }
      ]
    },
    {
      "cell_type": "markdown",
      "source": [
        "#Categorical Features"
      ],
      "metadata": {
        "id": "fPLXD4L8DKpT"
      }
    },
    {
      "cell_type": "code",
      "source": [
        "# Plot categorical histograms here\n",
        "\n",
        "sns.set(font_scale=0.5)\n",
        "fig, axs = plt.subplots(3, 3, figsize=(12, 12))\n",
        "fig.subplots_adjust(hspace=0.5, top = 0.75)\n",
        "\n",
        "chart = sns.countplot(x=building_df['land_surface_condition'], color=\"red\", ax=axs[0, 0])\n",
        "chart.set_xticklabels(chart.get_xticklabels(), rotation=20, horizontalalignment='right')\n",
        "chart = sns.countplot(x=building_df['foundation_type'], color=\"red\", ax=axs[0, 1])\n",
        "chart.set_xticklabels(chart.get_xticklabels(), rotation=20, horizontalalignment='right')\n",
        "chart = sns.countplot(x=building_df['roof_type'], color=\"red\", ax=axs[0, 2])\n",
        "chart.set_xticklabels(chart.get_xticklabels(), rotation=20, horizontalalignment='right')\n",
        "chart = sns.countplot(x=building_df['ground_floor_type'], color=\"red\", ax=axs[1, 0])\n",
        "chart.set_xticklabels(chart.get_xticklabels(), rotation=20, horizontalalignment='right')\n",
        "chart = sns.countplot(x=building_df['other_floor_type'], color=\"red\", ax=axs[1, 1])\n",
        "chart.set_xticklabels(chart.get_xticklabels(), rotation=20, horizontalalignment='right')\n",
        "chart = sns.countplot(x=building_df['position'], color=\"red\", ax=axs[1, 2])\n",
        "chart.set_xticklabels(chart.get_xticklabels(), rotation=20, horizontalalignment='right')\n",
        "chart = sns.countplot(x=building_df['plan_configuration'], color=\"red\", ax=axs[2, 0])\n",
        "chart.set_xticklabels(chart.get_xticklabels(), rotation=20, horizontalalignment='right')\n",
        "chart = sns.countplot(x=building_df['legal_ownership_status'], color=\"red\", ax=axs[2, 1])\n",
        "chart.set_xticklabels(chart.get_xticklabels(), rotation=20, horizontalalignment='right')\n",
        "chart = sns.countplot(x=building_df['district_id'], color=\"red\", ax=axs[2, 2])\n",
        "chart.set_xticklabels(chart.get_xticklabels(), rotation=20, horizontalalignment='right')\n",
        "\n",
        "plt.show()"
      ],
      "metadata": {
        "colab": {
          "base_uri": "https://localhost:8080/",
          "height": 894
        },
        "id": "jweSL5NTru1v",
        "outputId": "d686c6ad-9dc1-4cd0-d643-36d244ea016d"
      },
      "execution_count": 90,
      "outputs": [
        {
          "output_type": "display_data",
          "data": {
            "text/plain": [
              "<Figure size 1200x1200 with 9 Axes>"
            ],
            "image/png": "[encoded data removed]"
          },
          "metadata": {}
        }
      ]
    },
    {
      "cell_type": "markdown",
      "source": [
        "#Binary Features (Superstructure)"
      ],
      "metadata": {
        "id": "qSdc2TpmDalz"
      }
    },
    {
      "cell_type": "code",
      "source": [
        "# Plot superstructure histograms here\n",
        "\n",
        "sns.set(font_scale=0.5)\n",
        "fig, axs = plt.subplots(3, 4, figsize=(12, 12))\n",
        "fig.subplots_adjust(hspace=0.25, top = 0.75)\n",
        "\n",
        "chart = sns.countplot(x=building_df['has_superstructure_adobe_mud'], color=\"red\", ax=axs[0, 0])\n",
        "chart = sns.countplot(x=building_df['has_superstructure_mud_mortar_stone'], color=\"red\", ax=axs[0, 1])\n",
        "chart = sns.countplot(x=building_df['has_superstructure_stone_flag'], color=\"red\", ax=axs[0, 2])\n",
        "chart = sns.countplot(x=building_df['has_superstructure_cement_mortar_stone'], color=\"red\", ax=axs[0, 3])\n",
        "\n",
        "chart = sns.countplot(x=building_df['has_superstructure_mud_mortar_brick'], color=\"red\", ax=axs[1, 0])\n",
        "chart = sns.countplot(x=building_df['has_superstructure_cement_mortar_brick'], color=\"red\", ax=axs[1, 1])\n",
        "chart = sns.countplot(x=building_df['has_superstructure_timber'], color=\"red\", ax=axs[1, 2])\n",
        "chart = sns.countplot(x=building_df['has_superstructure_bamboo'], color=\"red\", ax=axs[1, 3])\n",
        "\n",
        "chart = sns.countplot(x=building_df['has_superstructure_rc_non_engineered'], color=\"red\", ax=axs[2, 0])\n",
        "chart = sns.countplot(x=building_df['has_superstructure_rc_engineered'], color=\"red\", ax=axs[2, 1])\n",
        "chart = sns.countplot(x=building_df['has_superstructure_other'], color=\"red\", ax=axs[2, 2])\n",
        "\n",
        "plt.show()"
      ],
      "metadata": {
        "colab": {
          "base_uri": "https://localhost:8080/",
          "height": 853
        },
        "id": "RWWlVA9k01vq",
        "outputId": "fa722874-2599-4d6a-e690-68386782b374"
      },
      "execution_count": 91,
      "outputs": [
        {
          "output_type": "display_data",
          "data": {
            "text/plain": [
              "<Figure size 1200x1200 with 12 Axes>"
            ],
            "image/png": "[encoded data removed]"
          },
          "metadata": {}
        }
      ]
    },
    {
      "cell_type": "markdown",
      "source": [
        "#Binary Features (Secondary Use)"
      ],
      "metadata": {
        "id": "M4_F2PXODiYK"
      }
    },
    {
      "cell_type": "code",
      "source": [
        "# Plot secondary use histograms here\n",
        "\n",
        "sns.set(font_scale=0.5)\n",
        "fig, axs = plt.subplots(3, 4, figsize=(12, 12))\n",
        "fig.subplots_adjust(hspace=0.25, top = 0.75)\n",
        "\n",
        "chart = sns.countplot(x=building_df['has_secondary_use'], color=\"red\", ax=axs[0, 0])\n",
        "chart = sns.countplot(x=building_df['has_secondary_use_agriculture'], color=\"red\", ax=axs[0, 1])\n",
        "chart = sns.countplot(x=building_df['has_secondary_use_hotel'], color=\"red\", ax=axs[0, 2])\n",
        "chart = sns.countplot(x=building_df['has_secondary_use_rental'], color=\"red\", ax=axs[0, 3])\n",
        "\n",
        "chart = sns.countplot(x=building_df['has_secondary_use_institution'], color=\"red\", ax=axs[1, 0])\n",
        "chart = sns.countplot(x=building_df['has_secondary_use_school'], color=\"red\", ax=axs[1, 1])\n",
        "chart = sns.countplot(x=building_df['has_secondary_use_industry'], color=\"red\", ax=axs[1, 2])\n",
        "chart = sns.countplot(x=building_df['has_secondary_use_health_post'], color=\"red\", ax=axs[1, 3])\n",
        "\n",
        "chart = sns.countplot(x=building_df['has_secondary_use_gov_office'], color=\"red\", ax=axs[2, 0])\n",
        "chart = sns.countplot(x=building_df['has_secondary_use_use_police'], color=\"red\", ax=axs[2, 1])\n",
        "chart = sns.countplot(x=building_df['has_secondary_use_other'], color=\"red\", ax=axs[2, 2])\n",
        "\n",
        "plt.show()"
      ],
      "metadata": {
        "colab": {
          "base_uri": "https://localhost:8080/",
          "height": 857
        },
        "id": "nYyth4cu015q",
        "outputId": "3daff94e-46ff-4c87-9f6f-9da0b3dd788e"
      },
      "execution_count": 92,
      "outputs": [
        {
          "output_type": "display_data",
          "data": {
            "text/plain": [
              "<Figure size 1200x1200 with 12 Axes>"
            ],
            "image/png": "[encoded data removed]"
          },
          "metadata": {}
        }
      ]
    },
    {
      "cell_type": "markdown",
      "source": [
        "#Binary Features (Geotechnical Risk)"
      ],
      "metadata": {
        "id": "Vgixjpi6DmD3"
      }
    },
    {
      "cell_type": "code",
      "source": [
        "# Plot geotechnical risk histograms here\n",
        "\n",
        "sns.set(font_scale=0.5)\n",
        "fig, axs = plt.subplots(2, 4, figsize=(12, 8))\n",
        "fig.subplots_adjust(hspace=0.25, top = 0.75)\n",
        "\n",
        "chart = sns.countplot(x=building_df['has_geotechnical_risk'], color=\"red\", ax=axs[0, 0])\n",
        "chart = sns.countplot(x=building_df['has_geotechnical_risk_land_settlement'], color=\"red\", ax=axs[0, 1])\n",
        "chart = sns.countplot(x=building_df['has_geotechnical_risk_fault_crack'], color=\"red\", ax=axs[0, 2])\n",
        "chart = sns.countplot(x=building_df['has_geotechnical_risk_liquefaction'], color=\"red\", ax=axs[0, 3])\n",
        "\n",
        "chart = sns.countplot(x=building_df['has_geotechnical_risk_landslide'], color=\"red\", ax=axs[1, 0])\n",
        "chart = sns.countplot(x=building_df['has_geotechnical_risk_rock_fall'], color=\"red\", ax=axs[1, 1])\n",
        "chart = sns.countplot(x=building_df['has_geotechnical_risk_flood'], color=\"red\", ax=axs[1, 2])\n",
        "chart = sns.countplot(x=building_df['has_geotechnical_risk_other'], color=\"red\", ax=axs[1, 3])\n",
        "\n",
        "plt.show()"
      ],
      "metadata": {
        "id": "N0k0nlJC02D0",
        "colab": {
          "base_uri": "https://localhost:8080/",
          "height": 593
        },
        "outputId": "59c967e2-3b57-4004-b8b1-dcbf22699c1f"
      },
      "execution_count": 93,
      "outputs": [
        {
          "output_type": "display_data",
          "data": {
            "text/plain": [
              "<Figure size 1200x800 with 8 Axes>"
            ],
            "image/png": "[encoded data removed]"
          },
          "metadata": {}
        }
      ]
    },
    {
      "cell_type": "markdown",
      "source": [
        "# Count building by district\n",
        "## 11 districts suffered different damage"
      ],
      "metadata": {
        "id": "Ei4s_ZavRxF2"
      }
    },
    {
      "cell_type": "code",
      "source": [
        "if binary_class:\n",
        "  print(building_df.assign(Grade1_2_3= np.where(building_df['damage_grade']<0.5,1,0),\n",
        "                     Grade4_5= np.where(building_df['damage_grade']>0.5,1,0),\n",
        "                     Total=np.where(building_df['damage_grade']<0,0,1)).\\\n",
        "                     groupby('district_id',as_index=False).agg({'Grade1_2_3':sum,\n",
        "                                                                'Grade4_5':sum,\n",
        "                                                                'Total':sum}))\n",
        "elif trinary_class:\n",
        "  print(building_df.assign(Grade1_2_3= np.where(building_df['damage_grade']<0.5,1,0),\n",
        "                     Grade4= np.where(building_df['damage_grade']==1,1,0),\n",
        "                     Grade5= np.where(building_df['damage_grade']==2,1,0),\n",
        "                     Total=np.where(building_df['damage_grade']<0,0,1)).\\\n",
        "                     groupby('district_id',as_index=False).agg({'Grade1_2_3':sum,\n",
        "                                                                'Grade4':sum,\n",
        "                                                                'Grade5':sum,\n",
        "                                                                'Total':sum}))\n",
        "elif quintary_class:\n",
        "  print(building_df.assign(Grade1= np.where(building_df['damage_grade']==1,1,0),\n",
        "                     Grade2= np.where(building_df['damage_grade']==2,1,0),\n",
        "                     Grade3= np.where(building_df['damage_grade']==3,1,0),\n",
        "                     Grade4= np.where(building_df['damage_grade']==4,1,0),\n",
        "                     Grade5= np.where(building_df['damage_grade']==5,1,0),\n",
        "                     Total=np.where(building_df['damage_grade']<0,0,1)).\\\n",
        "                     groupby('district_id',as_index=False).agg({'Grade1':sum,\n",
        "                                                                'Grade2':sum,\n",
        "                                                                'Grade3':sum,\n",
        "                                                                'Grade4':sum,\n",
        "                                                                'Grade5':sum,\n",
        "                                                                'Total':sum}))"
      ],
      "metadata": {
        "colab": {
          "base_uri": "https://localhost:8080/"
        },
        "id": "k4S6M7iEO-ks",
        "outputId": "aa9dcf9a-d9b1-4107-d353-6e27ea9ad61a"
      },
      "execution_count": 94,
      "outputs": [
        {
          "output_type": "stream",
          "name": "stdout",
          "text": [
            "    district_id  Grade1_2_3  Grade4  Grade5  Total\n",
            "0       12          25716      7943    5614  39273\n",
            "1       20          44639     15916    8189  68744\n",
            "2       21          26200     20850   11470  58531\n",
            "3       22          10860     14385   35236  60481\n",
            "4       23           6504     10769   71241  88514\n",
            "5       24          44654     28701   23645  97000\n",
            "6       28          13557     23196   40165  76918\n",
            "7       29           1399      2054    9020  12473\n",
            "8       30          27606     26001   35286  88893\n",
            "9       31          71669     10862    7817  90348\n",
            "10      36          28351     22482   26951  77784\n"
          ]
        }
      ]
    },
    {
      "cell_type": "markdown",
      "source": [
        "##Use This Code Block to Select an Individual District (or Other Subgroup)"
      ],
      "metadata": {
        "id": "AjZrfbVq3xpU"
      }
    },
    {
      "cell_type": "code",
      "source": [
        "'''\n",
        "building_df = building_df[building_df['district_id']==12]\n",
        "building_df.shape\n",
        "building_df = building_df.drop(columns = ['district_id'])\n",
        "building_df.shape\n",
        "'''"
      ],
      "metadata": {
        "colab": {
          "base_uri": "https://localhost:8080/",
          "height": 35
        },
        "id": "u4JGmv0KXoQW",
        "outputId": "33d4466c-03ea-4bee-a19b-14609d1c9bab"
      },
      "execution_count": 95,
      "outputs": [
        {
          "output_type": "execute_result",
          "data": {
            "text/plain": [
              "\"\\nbuilding_df = building_df[building_df['district_id']==12]\\nbuilding_df.shape\\nbuilding_df = building_df.drop(columns = ['district_id'])\\nbuilding_df.shape\\n\""
            ],
            "application/vnd.google.colaboratory.intrinsic+json": {
              "type": "string"
            }
          },
          "metadata": {},
          "execution_count": 95
        }
      ]
    },
    {
      "cell_type": "markdown",
      "source": [
        "#Set Target Name for Later Functions and Summarize Target"
      ],
      "metadata": {
        "id": "9BLb59pp4Fmy"
      }
    },
    {
      "cell_type": "code",
      "source": [
        "# Identify target (y)\n",
        "target_col = 'damage_grade'\n",
        "\n",
        "# Summarize target class balance\n",
        "label_count = len(building_df)\n",
        "label_props = (building_df.groupby(target_col, dropna = False)[target_col].count() / label_count * 100).sort_values(ascending = False)\n",
        "print('Target class (label) proportions:'); print(label_props.to_string(header = False))\n",
        "\n",
        "\n",
        "for field in ['damage_grade']:\n",
        "  fig,ax = plt.subplots()\n",
        "  sns.countplot(building_df[field])\n",
        "  xticks = ax.get_yticklabels()\n",
        "  ax.tick_params(axis = 'x', rotation = 45)"
      ],
      "metadata": {
        "colab": {
          "base_uri": "https://localhost:8080/",
          "height": 536
        },
        "id": "Q-dYPCuORxSn",
        "outputId": "cc0b17c2-aaa7-4b7b-ca27-290d477b6654"
      },
      "execution_count": 96,
      "outputs": [
        {
          "output_type": "stream",
          "name": "stdout",
          "text": [
            "Target class (label) proportions:\n",
            "0.00   39.68\n",
            "2.00   36.19\n",
            "1.00   24.13\n",
            "NaN     0.00\n"
          ]
        },
        {
          "output_type": "stream",
          "name": "stderr",
          "text": [
            "/usr/local/lib/python3.7/dist-packages/seaborn/_decorators.py:43: FutureWarning: Pass the following variable as a keyword arg: x. From version 0.12, the only valid positional argument will be `data`, and passing other arguments without an explicit keyword will result in an error or misinterpretation.\n",
            "  FutureWarning\n"
          ]
        },
        {
          "output_type": "display_data",
          "data": {
            "text/plain": [
              "<Figure size 700x393.75 with 1 Axes>"
            ],
            "image/png": "[encoded data removed]"
          },
          "metadata": {}
        }
      ]
    },
    {
      "cell_type": "markdown",
      "source": [
        "#Drop Small Number of Rows with Missing"
      ],
      "metadata": {
        "id": "IvCQxrM8ReNm"
      }
    },
    {
      "cell_type": "code",
      "source": [
        "# Drop (relatively immaterial number of) null labels\n",
        "print('Starting rows:', len(building_df), end = ' ')\n",
        "\n",
        "#building_df.dropna(axis = 0, subset = [target_col], inplace = True)\n",
        "building_df.dropna(axis = 0, inplace = True)\n",
        "\n",
        "print('Ending rows:', len(building_df))\n",
        "\n",
        "target_classes = sorted(building_df[target_col].unique())"
      ],
      "metadata": {
        "colab": {
          "base_uri": "https://localhost:8080/"
        },
        "id": "JNJNwo9CReXY",
        "outputId": "be3aef0a-f231-4503-aeba-bf197264540a"
      },
      "execution_count": 97,
      "outputs": [
        {
          "output_type": "stream",
          "name": "stdout",
          "text": [
            "Starting rows: 758959 Ending rows: 758947\n"
          ]
        }
      ]
    },
    {
      "cell_type": "markdown",
      "source": [
        "# Use this Area to Drop Specific Features"
      ],
      "metadata": {
        "id": "T6ZRIG0MP5-p"
      }
    },
    {
      "cell_type": "code",
      "source": [
        "#################### Edited to allow easy selection of features\n",
        "\n",
        "# Identify prospective feature columns by 'type'\n",
        "num_cols = [\n",
        "    'count_floors_pre_eq',\n",
        "    'age_building',\n",
        "    'plinth_area_sq_ft',\n",
        "    'height_ft_pre_eq',\n",
        "    'count_families',\n",
        "    ]                       #6         \n",
        "cat_cols = [\n",
        "    'land_surface_condition',\n",
        "    'foundation_type',\n",
        "    'roof_type',\n",
        "    'ground_floor_type',\n",
        "    'other_floor_type',\n",
        "    'position',\n",
        "    #'plan_configuration',         # NEAR ZERO VAR\n",
        "    #'legal_ownership_status',         # NEAR ZERO VAR\n",
        "    'district_id'\n",
        "    ]                           #9\n",
        "bin_cols = [\n",
        "    'has_superstructure_adobe_mud',\n",
        "    'has_superstructure_mud_mortar_stone',\n",
        "    'has_superstructure_stone_flag',\n",
        "    'has_superstructure_cement_mortar_stone',\n",
        "    'has_superstructure_mud_mortar_brick',\n",
        "    'has_superstructure_cement_mortar_brick',\n",
        "    'has_superstructure_timber',\n",
        "    'has_superstructure_bamboo',\n",
        "    'has_superstructure_rc_non_engineered',\n",
        "    'has_superstructure_rc_engineered',\n",
        "    'has_superstructure_other',\n",
        "    'has_secondary_use',\n",
        "    #'has_secondary_use_agriculture',         # NEAR ZERO VAR\n",
        "    #'has_secondary_use_hotel',         # NEAR ZERO VAR\n",
        "    #'has_secondary_use_rental',         # NEAR ZERO VAR\n",
        "    #'has_secondary_use_institution',         # NEAR ZERO VAR\n",
        "    #'has_secondary_use_school',         # NEAR ZERO VAR\n",
        "    #'has_secondary_use_industry',         # NEAR ZERO VAR\n",
        "    #'has_secondary_use_health_post',         # NEAR ZERO VAR\n",
        "    #'has_secondary_use_gov_office',         # NEAR ZERO VAR\n",
        "    #'has_secondary_use_use_police',         # NEAR ZERO VAR\n",
        "    #'has_secondary_use_other',          # NEAR ZERO VAR\n",
        "    'has_geotechnical_risk',\n",
        "    'has_geotechnical_risk_land_settlement',\n",
        "    'has_geotechnical_risk_fault_crack',\n",
        "    #'has_geotechnical_risk_liquefaction',         # NEAR ZERO VAR\n",
        "    'has_geotechnical_risk_landslide',\n",
        "    'has_geotechnical_risk_rock_fall',\n",
        "    #'has_geotechnical_risk_flood',         # NEAR ZERO VAR\n",
        "    #'has_geotechnical_risk_other'         # NEAR ZERO VAR\n",
        "    ]                                   #30 (11, 11, 8 )"
      ],
      "metadata": {
        "id": "fIGa_AaVFxPA"
      },
      "execution_count": 98,
      "outputs": []
    },
    {
      "cell_type": "code",
      "source": [
        "# Confirm [uniform] types\n",
        "print(building_df.dtypes[num_cols].to_string())\n",
        "print(building_df.dtypes[cat_cols].to_string())\n",
        "print(building_df.dtypes[bin_cols].to_string())"
      ],
      "metadata": {
        "colab": {
          "base_uri": "https://localhost:8080/"
        },
        "id": "_SmObLWbFxRa",
        "outputId": "12d6b997-40d2-47b7-ec44-0c1d3aed53a7"
      },
      "execution_count": 99,
      "outputs": [
        {
          "output_type": "stream",
          "name": "stdout",
          "text": [
            "count_floors_pre_eq      int64\n",
            "age_building             int64\n",
            "plinth_area_sq_ft        int64\n",
            "height_ft_pre_eq         int64\n",
            "count_families         float64\n",
            "land_surface_condition    object\n",
            "foundation_type           object\n",
            "roof_type                 object\n",
            "ground_floor_type         object\n",
            "other_floor_type          object\n",
            "position                  object\n",
            "district_id                int64\n",
            "has_superstructure_adobe_mud                int64\n",
            "has_superstructure_mud_mortar_stone         int64\n",
            "has_superstructure_stone_flag               int64\n",
            "has_superstructure_cement_mortar_stone      int64\n",
            "has_superstructure_mud_mortar_brick         int64\n",
            "has_superstructure_cement_mortar_brick      int64\n",
            "has_superstructure_timber                   int64\n",
            "has_superstructure_bamboo                   int64\n",
            "has_superstructure_rc_non_engineered        int64\n",
            "has_superstructure_rc_engineered            int64\n",
            "has_superstructure_other                    int64\n",
            "has_secondary_use                         float64\n",
            "has_geotechnical_risk                     float64\n",
            "has_geotechnical_risk_land_settlement       int64\n",
            "has_geotechnical_risk_fault_crack           int64\n",
            "has_geotechnical_risk_landslide             int64\n",
            "has_geotechnical_risk_rock_fall             int64\n"
          ]
        }
      ]
    },
    {
      "cell_type": "markdown",
      "source": [
        "# Merging only selected features (from lists above)"
      ],
      "metadata": {
        "id": "RppEMfbS1QKl"
      }
    },
    {
      "cell_type": "code",
      "source": [
        "#################### New block that edits out columns with '#' in above block\n",
        "\n",
        "building_df= pd.concat([building_df[num_cols], \n",
        "                        building_df[cat_cols],\n",
        "                        building_df[bin_cols], \n",
        "                        building_df['damage_grade']], axis = 1)\n",
        "building_df.head()"
      ],
      "metadata": {
        "colab": {
          "base_uri": "https://localhost:8080/",
          "height": 386
        },
        "id": "Q0l9hi-npSxB",
        "outputId": "e6f62916-a178-459a-d4e4-c08c923e9fc4"
      },
      "execution_count": 100,
      "outputs": [
        {
          "output_type": "execute_result",
          "data": {
            "text/plain": [
              "   count_floors_pre_eq  age_building  plinth_area_sq_ft  height_ft_pre_eq  count_families land_surface_condition foundation_type         roof_type         ground_floor_type other_floor_type  ... has_superstructure_rc_non_engineered  has_superstructure_rc_engineered  has_superstructure_other  has_secondary_use  has_geotechnical_risk  has_geotechnical_risk_land_settlement  has_geotechnical_risk_fault_crack  has_geotechnical_risk_landslide  has_geotechnical_risk_rock_fall  damage_grade\n",
              "0           1                 9              288                 9              1.00               Flat                Other      Bamboo/Timber-Light roof         Mud        Not applicable   ...                   0                                   0                             0                   0.00                 0.00                             0                                    0                                 0                                0                     0.00    \n",
              "1           1                15              364                 9              1.00               Flat                Other      Bamboo/Timber-Light roof         Mud        Not applicable   ...                   0                                   0                             0                   0.00                 0.00                             0                                    0                                 0                                0                     2.00    \n",
              "2           1                20              384                 9              1.00               Flat                Other      Bamboo/Timber-Light roof         Mud        Not applicable   ...                   0                                   0                             0                   0.00                 0.00                             0                                    0                                 0                                0                     0.00    \n",
              "3           1                20              312                 9              1.00               Flat                Other      Bamboo/Timber-Light roof         Mud        Not applicable   ...                   0                                   0                             0                   0.00                 0.00                             0                                    0                                 0                                0                     0.00    \n",
              "4           1                30              308                 9              1.00               Flat                Other      Bamboo/Timber-Light roof         Mud        Not applicable   ...                   0                                   0                             0                   0.00                 0.00                             0                                    0                                 0                                0                     0.00    \n",
              "\n",
              "[5 rows x 30 columns]"
            ],
            "text/html": [
              "\n",
              "  <div id=\"df-4b15e2db-6407-4425-87ae-853399d5e4ec\">\n",
              "    <div class=\"colab-df-container\">\n",
              "      <div>\n",
              "<style scoped>\n",
              "    .dataframe tbody tr th:only-of-type {\n",
              "        vertical-align: middle;\n",
              "    }\n",
              "\n",
              "    .dataframe tbody tr th {\n",
              "        vertical-align: top;\n",
              "    }\n",
              "\n",
              "    .dataframe thead th {\n",
              "        text-align: right;\n",
              "    }\n",
              "</style>\n",
              "<table border=\"1\" class=\"dataframe\">\n",
              "  <thead>\n",
              "    <tr style=\"text-align: center;\">\n",
              "      <th></th>\n",
              "      <th>count_floors_pre_eq</th>\n",
              "      <th>age_building</th>\n",
              "      <th>plinth_area_sq_ft</th>\n",
              "      <th>height_ft_pre_eq</th>\n",
              "      <th>count_families</th>\n",
              "      <th>land_surface_condition</th>\n",
              "      <th>foundation_type</th>\n",
              "      <th>roof_type</th>\n",
              "      <th>ground_floor_type</th>\n",
              "      <th>other_floor_type</th>\n",
              "      <th>...</th>\n",
              "      <th>has_superstructure_rc_non_engineered</th>\n",
              "      <th>has_superstructure_rc_engineered</th>\n",
              "      <th>has_superstructure_other</th>\n",
              "      <th>has_secondary_use</th>\n",
              "      <th>has_geotechnical_risk</th>\n",
              "      <th>has_geotechnical_risk_land_settlement</th>\n",
              "      <th>has_geotechnical_risk_fault_crack</th>\n",
              "      <th>has_geotechnical_risk_landslide</th>\n",
              "      <th>has_geotechnical_risk_rock_fall</th>\n",
              "      <th>damage_grade</th>\n",
              "    </tr>\n",
              "  </thead>\n",
              "  <tbody>\n",
              "    <tr>\n",
              "      <th>0</th>\n",
              "      <td>1</td>\n",
              "      <td>9</td>\n",
              "      <td>288</td>\n",
              "      <td>9</td>\n",
              "      <td>1.00</td>\n",
              "      <td>Flat</td>\n",
              "      <td>Other</td>\n",
              "      <td>Bamboo/Timber-Light roof</td>\n",
              "      <td>Mud</td>\n",
              "      <td>Not applicable</td>\n",
              "      <td>...</td>\n",
              "      <td>0</td>\n",
              "      <td>0</td>\n",
              "      <td>0</td>\n",
              "      <td>0.00</td>\n",
              "      <td>0.00</td>\n",
              "      <td>0</td>\n",
              "      <td>0</td>\n",
              "      <td>0</td>\n",
              "      <td>0</td>\n",
              "      <td>0.00</td>\n",
              "    </tr>\n",
              "    <tr>\n",
              "      <th>1</th>\n",
              "      <td>1</td>\n",
              "      <td>15</td>\n",
              "      <td>364</td>\n",
              "      <td>9</td>\n",
              "      <td>1.00</td>\n",
              "      <td>Flat</td>\n",
              "      <td>Other</td>\n",
              "      <td>Bamboo/Timber-Light roof</td>\n",
              "      <td>Mud</td>\n",
              "      <td>Not applicable</td>\n",
              "      <td>...</td>\n",
              "      <td>0</td>\n",
              "      <td>0</td>\n",
              "      <td>0</td>\n",
              "      <td>0.00</td>\n",
              "      <td>0.00</td>\n",
              "      <td>0</td>\n",
              "      <td>0</td>\n",
              "      <td>0</td>\n",
              "      <td>0</td>\n",
              "      <td>2.00</td>\n",
              "    </tr>\n",
              "    <tr>\n",
              "      <th>2</th>\n",
              "      <td>1</td>\n",
              "      <td>20</td>\n",
              "      <td>384</td>\n",
              "      <td>9</td>\n",
              "      <td>1.00</td>\n",
              "      <td>Flat</td>\n",
              "      <td>Other</td>\n",
              "      <td>Bamboo/Timber-Light roof</td>\n",
              "      <td>Mud</td>\n",
              "      <td>Not applicable</td>\n",
              "      <td>...</td>\n",
              "      <td>0</td>\n",
              "      <td>0</td>\n",
              "      <td>0</td>\n",
              "      <td>0.00</td>\n",
              "      <td>0.00</td>\n",
              "      <td>0</td>\n",
              "      <td>0</td>\n",
              "      <td>0</td>\n",
              "      <td>0</td>\n",
              "      <td>0.00</td>\n",
              "    </tr>\n",
              "    <tr>\n",
              "      <th>3</th>\n",
              "      <td>1</td>\n",
              "      <td>20</td>\n",
              "      <td>312</td>\n",
              "      <td>9</td>\n",
              "      <td>1.00</td>\n",
              "      <td>Flat</td>\n",
              "      <td>Other</td>\n",
              "      <td>Bamboo/Timber-Light roof</td>\n",
              "      <td>Mud</td>\n",
              "      <td>Not applicable</td>\n",
              "      <td>...</td>\n",
              "      <td>0</td>\n",
              "      <td>0</td>\n",
              "      <td>0</td>\n",
              "      <td>0.00</td>\n",
              "      <td>0.00</td>\n",
              "      <td>0</td>\n",
              "      <td>0</td>\n",
              "      <td>0</td>\n",
              "      <td>0</td>\n",
              "      <td>0.00</td>\n",
              "    </tr>\n",
              "    <tr>\n",
              "      <th>4</th>\n",
              "      <td>1</td>\n",
              "      <td>30</td>\n",
              "      <td>308</td>\n",
              "      <td>9</td>\n",
              "      <td>1.00</td>\n",
              "      <td>Flat</td>\n",
              "      <td>Other</td>\n",
              "      <td>Bamboo/Timber-Light roof</td>\n",
              "      <td>Mud</td>\n",
              "      <td>Not applicable</td>\n",
              "      <td>...</td>\n",
              "      <td>0</td>\n",
              "      <td>0</td>\n",
              "      <td>0</td>\n",
              "      <td>0.00</td>\n",
              "      <td>0.00</td>\n",
              "      <td>0</td>\n",
              "      <td>0</td>\n",
              "      <td>0</td>\n",
              "      <td>0</td>\n",
              "      <td>0.00</td>\n",
              "    </tr>\n",
              "  </tbody>\n",
              "</table>\n",
              "<p>5 rows × 30 columns</p>\n",
              "</div>\n",
              "      <button class=\"colab-df-convert\" onclick=\"convertToInteractive('df-4b15e2db-6407-4425-87ae-853399d5e4ec')\"\n",
              "              title=\"Convert this dataframe to an interactive table.\"\n",
              "              style=\"display:none;\">\n",
              "        \n",
              "  <svg xmlns=\"http://www.w3.org/2000/svg\" height=\"24px\"viewBox=\"0 0 24 24\"\n",
              "       width=\"24px\">\n",
              "    <path d=\"M0 0h24v24H0V0z\" fill=\"none\"/>\n",
              "    <path d=\"M18.56 5.44l.94 2.06.94-2.06 2.06-.94-2.06-.94-.94-2.06-.94 2.06-2.06.94zm-11 1L8.5 8.5l.94-2.06 2.06-.94-2.06-.94L8.5 2.5l-.94 2.06-2.06.94zm10 10l.94 2.06.94-2.06 2.06-.94-2.06-.94-.94-2.06-.94 2.06-2.06.94z\"/><path d=\"M17.41 7.96l-1.37-1.37c-.4-.4-.92-.59-1.43-.59-.52 0-1.04.2-1.43.59L10.3 9.45l-7.72 7.72c-.78.78-.78 2.05 0 2.83L4 21.41c.39.39.9.59 1.41.59.51 0 1.02-.2 1.41-.59l7.78-7.78 2.81-2.81c.8-.78.8-2.07 0-2.86zM5.41 20L4 18.59l7.72-7.72 1.47 1.35L5.41 20z\"/>\n",
              "  </svg>\n",
              "      </button>\n",
              "      \n",
              "  <style>\n",
              "    .colab-df-container {\n",
              "      display:flex;\n",
              "      flex-wrap:wrap;\n",
              "      gap: 12px;\n",
              "    }\n",
              "\n",
              "    .colab-df-convert {\n",
              "      background-color: #E8F0FE;\n",
              "      border: none;\n",
              "      border-radius: 50%;\n",
              "      cursor: pointer;\n",
              "      display: none;\n",
              "      fill: #1967D2;\n",
              "      height: 32px;\n",
              "      padding: 0 0 0 0;\n",
              "      width: 32px;\n",
              "    }\n",
              "\n",
              "    .colab-df-convert:hover {\n",
              "      background-color: #E2EBFA;\n",
              "      box-shadow: 0px 1px 2px rgba(60, 64, 67, 0.3), 0px 1px 3px 1px rgba(60, 64, 67, 0.15);\n",
              "      fill: #174EA6;\n",
              "    }\n",
              "\n",
              "    [theme=dark] .colab-df-convert {\n",
              "      background-color: #3B4455;\n",
              "      fill: #D2E3FC;\n",
              "    }\n",
              "\n",
              "    [theme=dark] .colab-df-convert:hover {\n",
              "      background-color: #434B5C;\n",
              "      box-shadow: 0px 1px 3px 1px rgba(0, 0, 0, 0.15);\n",
              "      filter: drop-shadow(0px 1px 2px rgba(0, 0, 0, 0.3));\n",
              "      fill: #FFFFFF;\n",
              "    }\n",
              "  </style>\n",
              "\n",
              "      <script>\n",
              "        const buttonEl =\n",
              "          document.querySelector('#df-4b15e2db-6407-4425-87ae-853399d5e4ec button.colab-df-convert');\n",
              "        buttonEl.style.display =\n",
              "          google.colab.kernel.accessAllowed ? 'block' : 'none';\n",
              "\n",
              "        async function convertToInteractive(key) {\n",
              "          const element = document.querySelector('#df-4b15e2db-6407-4425-87ae-853399d5e4ec');\n",
              "          const dataTable =\n",
              "            await google.colab.kernel.invokeFunction('convertToInteractive',\n",
              "                                                     [key], {});\n",
              "          if (!dataTable) return;\n",
              "\n",
              "          const docLinkHtml = 'Like what you see? Visit the ' +\n",
              "            '<a target=\"_blank\" href=https://colab.research.google.com/notebooks/data_table.ipynb>data table notebook</a>'\n",
              "            + ' to learn more about interactive tables.';\n",
              "          element.innerHTML = '';\n",
              "          dataTable['output_type'] = 'display_data';\n",
              "          await google.colab.output.renderOutput(dataTable, element);\n",
              "          const docLink = document.createElement('div');\n",
              "          docLink.innerHTML = docLinkHtml;\n",
              "          element.appendChild(docLink);\n",
              "        }\n",
              "      </script>\n",
              "    </div>\n",
              "  </div>\n",
              "  "
            ]
          },
          "metadata": {},
          "execution_count": 100
        }
      ]
    },
    {
      "cell_type": "code",
      "source": [
        "################# No longer need to name columns\n",
        "\n",
        "# Update types as needed (for consistency)\n",
        "\n",
        "building_df[num_cols] = building_df[num_cols].astype(int)\n",
        "building_df[bin_cols] = building_df[bin_cols].astype(int)\n",
        "#building_df['has_secondary_use'] = building_df['has_secondary_use'].astype(int)\n",
        "#building_df['has_geotechnical_risk'] = building_df['has_geotechnical_risk'].astype(int)"
      ],
      "metadata": {
        "id": "vaT6FQgrmJpf"
      },
      "execution_count": 101,
      "outputs": []
    },
    {
      "cell_type": "code",
      "source": [
        "# Confirm [uniform] types\n",
        "print(building_df.dtypes[num_cols].to_string())\n",
        "print(building_df.dtypes[cat_cols].to_string())\n",
        "print(building_df.dtypes[bin_cols].to_string())"
      ],
      "metadata": {
        "colab": {
          "base_uri": "https://localhost:8080/"
        },
        "id": "1vEHAQPpqrAS",
        "outputId": "9f356d13-a7a1-4722-b5ea-e83b37788762"
      },
      "execution_count": 102,
      "outputs": [
        {
          "output_type": "stream",
          "name": "stdout",
          "text": [
            "count_floors_pre_eq    int64\n",
            "age_building           int64\n",
            "plinth_area_sq_ft      int64\n",
            "height_ft_pre_eq       int64\n",
            "count_families         int64\n",
            "land_surface_condition    object\n",
            "foundation_type           object\n",
            "roof_type                 object\n",
            "ground_floor_type         object\n",
            "other_floor_type          object\n",
            "position                  object\n",
            "district_id                int64\n",
            "has_superstructure_adobe_mud              int64\n",
            "has_superstructure_mud_mortar_stone       int64\n",
            "has_superstructure_stone_flag             int64\n",
            "has_superstructure_cement_mortar_stone    int64\n",
            "has_superstructure_mud_mortar_brick       int64\n",
            "has_superstructure_cement_mortar_brick    int64\n",
            "has_superstructure_timber                 int64\n",
            "has_superstructure_bamboo                 int64\n",
            "has_superstructure_rc_non_engineered      int64\n",
            "has_superstructure_rc_engineered          int64\n",
            "has_superstructure_other                  int64\n",
            "has_secondary_use                         int64\n",
            "has_geotechnical_risk                     int64\n",
            "has_geotechnical_risk_land_settlement     int64\n",
            "has_geotechnical_risk_fault_crack         int64\n",
            "has_geotechnical_risk_landslide           int64\n",
            "has_geotechnical_risk_rock_fall           int64\n"
          ]
        }
      ]
    },
    {
      "cell_type": "code",
      "source": [
        "building_df['district_id'] = building_df['district_id'].astype('object')"
      ],
      "metadata": {
        "id": "4wVoyICbH1_A"
      },
      "execution_count": 103,
      "outputs": []
    },
    {
      "cell_type": "code",
      "source": [
        "# Confirm [uniform] types\n",
        "print(building_df.dtypes[num_cols].to_string())\n",
        "print(building_df.dtypes[cat_cols].to_string())\n",
        "print(building_df.dtypes[bin_cols].to_string())"
      ],
      "metadata": {
        "colab": {
          "base_uri": "https://localhost:8080/"
        },
        "id": "Hn87lEkDKXgp",
        "outputId": "17a52a4a-0aab-40d2-c2bf-1fd31f7b27c6"
      },
      "execution_count": 104,
      "outputs": [
        {
          "output_type": "stream",
          "name": "stdout",
          "text": [
            "count_floors_pre_eq    int64\n",
            "age_building           int64\n",
            "plinth_area_sq_ft      int64\n",
            "height_ft_pre_eq       int64\n",
            "count_families         int64\n",
            "land_surface_condition    object\n",
            "foundation_type           object\n",
            "roof_type                 object\n",
            "ground_floor_type         object\n",
            "other_floor_type          object\n",
            "position                  object\n",
            "district_id               object\n",
            "has_superstructure_adobe_mud              int64\n",
            "has_superstructure_mud_mortar_stone       int64\n",
            "has_superstructure_stone_flag             int64\n",
            "has_superstructure_cement_mortar_stone    int64\n",
            "has_superstructure_mud_mortar_brick       int64\n",
            "has_superstructure_cement_mortar_brick    int64\n",
            "has_superstructure_timber                 int64\n",
            "has_superstructure_bamboo                 int64\n",
            "has_superstructure_rc_non_engineered      int64\n",
            "has_superstructure_rc_engineered          int64\n",
            "has_superstructure_other                  int64\n",
            "has_secondary_use                         int64\n",
            "has_geotechnical_risk                     int64\n",
            "has_geotechnical_risk_land_settlement     int64\n",
            "has_geotechnical_risk_fault_crack         int64\n",
            "has_geotechnical_risk_landslide           int64\n",
            "has_geotechnical_risk_rock_fall           int64\n"
          ]
        }
      ]
    },
    {
      "cell_type": "code",
      "source": [
        "'''\n",
        "# Update types as needed (for consistency)\n",
        "\n",
        "building_df['count_families'] = building_df['count_families'].astype(int)\n",
        "building_df['has_superstructure_other'] = building_df['has_superstructure_other'].astype(int)\n",
        "building_df['has_secondary_use'] = building_df['has_secondary_use'].astype(int)\n",
        "building_df['has_geotechnical_risk'] = building_df['has_geotechnical_risk'].astype(int)\n",
        "'''"
      ],
      "metadata": {
        "id": "HJ3Xr79sFxUW",
        "colab": {
          "base_uri": "https://localhost:8080/",
          "height": 70
        },
        "outputId": "e99dc8c6-f9c2-4689-e2ca-e6126eed7194"
      },
      "execution_count": 105,
      "outputs": [
        {
          "output_type": "execute_result",
          "data": {
            "text/plain": [
              "\"\\n# Update types as needed (for consistency)\\n\\nbuilding_df['count_families'] = building_df['count_families'].astype(int)\\nbuilding_df['has_superstructure_other'] = building_df['has_superstructure_other'].astype(int)\\nbuilding_df['has_secondary_use'] = building_df['has_secondary_use'].astype(int)\\nbuilding_df['has_geotechnical_risk'] = building_df['has_geotechnical_risk'].astype(int)\\n\""
            ],
            "application/vnd.google.colaboratory.intrinsic+json": {
              "type": "string"
            }
          },
          "metadata": {},
          "execution_count": 105
        }
      ]
    },
    {
      "cell_type": "markdown",
      "source": [
        "# Sample the full df to run model tests"
      ],
      "metadata": {
        "id": "cO_F8-3ZziS7"
      }
    },
    {
      "cell_type": "code",
      "source": [
        "building_df = building_df.sample(frac=.1, random_state=42)"
      ],
      "metadata": {
        "id": "3z1Y8uWPzh27"
      },
      "execution_count": 106,
      "outputs": []
    },
    {
      "cell_type": "markdown",
      "source": [
        "#Remap the target before splitting"
      ],
      "metadata": {
        "id": "5XWH8heN2kij"
      }
    },
    {
      "cell_type": "code",
      "source": [
        "building_df.columns"
      ],
      "metadata": {
        "id": "GX6ImTn-2kun",
        "colab": {
          "base_uri": "https://localhost:8080/"
        },
        "outputId": "bbbbba29-06cb-4656-a5a7-85cbd97367d8"
      },
      "execution_count": 107,
      "outputs": [
        {
          "output_type": "execute_result",
          "data": {
            "text/plain": [
              "Index(['count_floors_pre_eq', 'age_building', 'plinth_area_sq_ft', 'height_ft_pre_eq', 'count_families', 'land_surface_condition', 'foundation_type', 'roof_type', 'ground_floor_type', 'other_floor_type', 'position', 'district_id', 'has_superstructure_adobe_mud', 'has_superstructure_mud_mortar_stone', 'has_superstructure_stone_flag', 'has_superstructure_cement_mortar_stone', 'has_superstructure_mud_mortar_brick', 'has_superstructure_cement_mortar_brick', 'has_superstructure_timber', 'has_superstructure_bamboo', 'has_superstructure_rc_non_engineered', 'has_superstructure_rc_engineered', 'has_superstructure_other', 'has_secondary_use', 'has_geotechnical_risk', 'has_geotechnical_risk_land_settlement', 'has_geotechnical_risk_fault_crack', 'has_geotechnical_risk_landslide', 'has_geotechnical_risk_rock_fall', 'damage_grade'], dtype='object')"
            ]
          },
          "metadata": {},
          "execution_count": 107
        }
      ]
    },
    {
      "cell_type": "code",
      "source": [
        "\n",
        "\n",
        "# Segregate data into predictor (X) and target (y) dataframes\n",
        "building_X = building_df.loc[:, building_df.columns != 'damage_grade'].copy()\n",
        "building_y = building_df['damage_grade']\n",
        "\n",
        "# Partition data 70/30, stratifying for class balance (ref. above)\n",
        "X_train, X_test, y_train, y_test = train_test_split(\n",
        "    building_X, building_y, test_size = 0.3, random_state = 42, stratify = building_y\n",
        ")"
      ],
      "metadata": {
        "id": "MF-t6OqwFxXF"
      },
      "execution_count": 108,
      "outputs": []
    },
    {
      "cell_type": "code",
      "source": [
        "building_y.head()"
      ],
      "metadata": {
        "colab": {
          "base_uri": "https://localhost:8080/"
        },
        "id": "GPSOwFfO3nlL",
        "outputId": "a2db6a50-0dc3-41ea-c3e7-ad268deaf5d5"
      },
      "execution_count": 109,
      "outputs": [
        {
          "output_type": "execute_result",
          "data": {
            "text/plain": [
              "77543    0.00\n",
              "46583    0.00\n",
              "442676   1.00\n",
              "326571   0.00\n",
              "457269   1.00\n",
              "Name: damage_grade, dtype: float64"
            ]
          },
          "metadata": {},
          "execution_count": 109
        }
      ]
    },
    {
      "cell_type": "code",
      "source": [
        "na_df = pd.DataFrame(X_train[num_cols + cat_cols + bin_cols].isna().sum()) / len(X_train) * 100\n",
        "na_df.index.name = 'column'; na_df.reset_index(inplace = True)\n",
        "print('Proportion of nulls:'); print(na_df[na_df[0] > 0].to_string(index = False, header = False))"
      ],
      "metadata": {
        "id": "DLhJGx_HFxZk",
        "colab": {
          "base_uri": "https://localhost:8080/"
        },
        "outputId": "e8303fb7-dc66-4d01-d7e3-807fa9bb4931"
      },
      "execution_count": 110,
      "outputs": [
        {
          "output_type": "stream",
          "name": "stdout",
          "text": [
            "Proportion of nulls:\n",
            "Empty DataFrame\n",
            "Columns: [column, 0]\n",
            "Index: []\n"
          ]
        }
      ]
    },
    {
      "cell_type": "code",
      "source": [
        "# Address missing/null values here? Or, pipeline? For both train, test. . .\n",
        "\n",
        "############## Eliminated\n",
        "'''\n",
        "X_train['damage_overall_collapse'].fillna('[missing]', inplace = True)\n",
        "X_test['damage_overall_collapse'].fillna('[missing]', inplace = True)\n",
        "\n",
        "X_train['damage_overall_leaning'].fillna('[missing]', inplace = True)\n",
        "X_test['damage_overall_leaning'].fillna('[missing]', inplace = True)\n",
        "'''"
      ],
      "metadata": {
        "id": "mOXnTJiSFxcK",
        "colab": {
          "base_uri": "https://localhost:8080/",
          "height": 52
        },
        "outputId": "5515ae1c-1855-4353-f634-3c700e81cfc9"
      },
      "execution_count": 111,
      "outputs": [
        {
          "output_type": "execute_result",
          "data": {
            "text/plain": [
              "\"\\nX_train['damage_overall_collapse'].fillna('[missing]', inplace = True)\\nX_test['damage_overall_collapse'].fillna('[missing]', inplace = True)\\n\\nX_train['damage_overall_leaning'].fillna('[missing]', inplace = True)\\nX_test['damage_overall_leaning'].fillna('[missing]', inplace = True)\\n\""
            ],
            "application/vnd.google.colaboratory.intrinsic+json": {
              "type": "string"
            }
          },
          "metadata": {},
          "execution_count": 111
        }
      ]
    },
    {
      "cell_type": "code",
      "source": [
        "cat_count = len(X_train)\n",
        "for cc in cat_cols:\n",
        "    print()\n",
        "    print(cc, '-')\n",
        "    for cv in pd.unique(X_train[cc]):\n",
        "        if isinstance(cv, float) != True:\n",
        "            print(cv, '(%.2f)' % (X_train[X_train[cc] == cv][cc].count() / cat_count * 100))"
      ],
      "metadata": {
        "id": "Xh1R8Iu8Fxes",
        "colab": {
          "base_uri": "https://localhost:8080/"
        },
        "outputId": "6b590ba5-56e2-47cf-a507-dfa8237dab65"
      },
      "execution_count": 112,
      "outputs": [
        {
          "output_type": "stream",
          "name": "stdout",
          "text": [
            "\n",
            "land_surface_condition -\n",
            "Flat (83.03)\n",
            "Moderate slope (13.58)\n",
            "Steep slope (3.39)\n",
            "\n",
            "foundation_type -\n",
            "Mud mortar-Stone/Brick (82.26)\n",
            "Bamboo/Timber (7.62)\n",
            "Cement-Stone/Brick (5.26)\n",
            "RC (4.24)\n",
            "Other (0.63)\n",
            "\n",
            "roof_type -\n",
            "Bamboo/Timber-Heavy roof (28.36)\n",
            "Bamboo/Timber-Light roof (65.75)\n",
            "RCC/RB/RBC (5.89)\n",
            "\n",
            "ground_floor_type -\n",
            "Mud (80.81)\n",
            "RC (9.68)\n",
            "Brick/Stone (8.86)\n",
            "Timber (0.50)\n",
            "Other (0.15)\n",
            "\n",
            "other_floor_type -\n",
            "TImber/Bamboo-Mud (64.13)\n",
            "Timber-Planck (16.24)\n",
            "Not applicable (15.29)\n",
            "RCC/RB/RBC (4.34)\n",
            "\n",
            "position -\n",
            "Attached-1 side (17.32)\n",
            "Not attached (79.08)\n",
            "Attached-2 side (3.44)\n",
            "Attached-3 side (0.16)\n",
            "\n",
            "district_id -\n",
            "24 (12.75)\n",
            "20 (9.10)\n",
            "12 (5.03)\n",
            "23 (11.59)\n",
            "28 (10.36)\n",
            "30 (11.69)\n",
            "31 (11.88)\n",
            "36 (10.34)\n",
            "22 (7.75)\n",
            "21 (7.89)\n",
            "29 (1.62)\n"
          ]
        }
      ]
    },
    {
      "cell_type": "code",
      "source": [
        "# Encode categorical label (y)\n",
        "label_enc = LabelEncoder().fit(y_train)\n",
        "y_train = label_enc.transform(y_train)\n",
        "y_test = label_enc.transform(y_test)\n",
        "\n",
        "# Encode other here? Or, pipeline (currently handled in pipeline)?"
      ],
      "metadata": {
        "id": "wTg0PXWfFxhR"
      },
      "execution_count": 113,
      "outputs": []
    },
    {
      "cell_type": "code",
      "source": [
        "print('Skewness:'); print(pd.DataFrame(building_X[num_cols].skew()).to_string(header = False))"
      ],
      "metadata": {
        "id": "BVlW6dmLFxjs",
        "colab": {
          "base_uri": "https://localhost:8080/"
        },
        "outputId": "89b9aa75-4abd-4d76-e01b-b939a58f02f6"
      },
      "execution_count": 114,
      "outputs": [
        {
          "output_type": "stream",
          "name": "stdout",
          "text": [
            "Skewness:\n",
            "count_floors_pre_eq 0.41\n",
            "age_building        2.22\n",
            "plinth_area_sq_ft   3.82\n",
            "height_ft_pre_eq    2.51\n",
            "count_families      1.54\n"
          ]
        }
      ]
    },
    {
      "cell_type": "code",
      "source": [
        "# Address outliers here?"
      ],
      "metadata": {
        "id": "9xA9K9NeFxl2"
      },
      "execution_count": 115,
      "outputs": []
    },
    {
      "cell_type": "code",
      "source": [
        "# Address centering/scaling here? Or, pipeline (currently handled in pipeline)?"
      ],
      "metadata": {
        "id": "9-u2iv_fFxob"
      },
      "execution_count": 116,
      "outputs": []
    },
    {
      "cell_type": "code",
      "source": [
        "print(building_X[bin_cols].max() - building_X[bin_cols].min())"
      ],
      "metadata": {
        "id": "sz6eKknZFxq9",
        "colab": {
          "base_uri": "https://localhost:8080/"
        },
        "outputId": "48c9df95-e910-4cbf-b645-e06e27096b64"
      },
      "execution_count": 117,
      "outputs": [
        {
          "output_type": "stream",
          "name": "stdout",
          "text": [
            "has_superstructure_adobe_mud              1\n",
            "has_superstructure_mud_mortar_stone       1\n",
            "has_superstructure_stone_flag             1\n",
            "has_superstructure_cement_mortar_stone    1\n",
            "has_superstructure_mud_mortar_brick       1\n",
            "has_superstructure_cement_mortar_brick    1\n",
            "has_superstructure_timber                 1\n",
            "has_superstructure_bamboo                 1\n",
            "has_superstructure_rc_non_engineered      1\n",
            "has_superstructure_rc_engineered          1\n",
            "has_superstructure_other                  1\n",
            "has_secondary_use                         1\n",
            "has_geotechnical_risk                     1\n",
            "has_geotechnical_risk_land_settlement     1\n",
            "has_geotechnical_risk_fault_crack         1\n",
            "has_geotechnical_risk_landslide           1\n",
            "has_geotechnical_risk_rock_fall           1\n",
            "dtype: int64\n"
          ]
        }
      ]
    },
    {
      "cell_type": "code",
      "source": [
        "#\n",
        "corr_df = X_train[num_cols].corr()\n",
        "corr_df.rename(columns = lambda s: s[0:19], index = lambda s: s[0:19], inplace = True)\n",
        "print(corr_df)\n",
        "\n",
        "#\n",
        "# Do something like Cramer's V for categorical correlation?"
      ],
      "metadata": {
        "id": "xmtM3cYbHBNY",
        "colab": {
          "base_uri": "https://localhost:8080/"
        },
        "outputId": "7cbd0f37-52a2-4015-b736-74f300a2cc04"
      },
      "execution_count": 118,
      "outputs": [
        {
          "output_type": "stream",
          "name": "stdout",
          "text": [
            "                     count_floors_pre_eq  age_building  plinth_area_sq_ft  height_ft_pre_eq  count_families\n",
            "count_floors_pre_eq         1.00              0.18            0.10               0.71             0.09     \n",
            "age_building                0.18              1.00           -0.06               0.11             0.03     \n",
            "plinth_area_sq_ft           0.10             -0.06            1.00               0.20             0.11     \n",
            "height_ft_pre_eq            0.71              0.11            0.20               1.00             0.06     \n",
            "count_families              0.09              0.03            0.11               0.06             1.00     \n"
          ]
        }
      ]
    },
    {
      "cell_type": "code",
      "source": [
        "from IPython.core.pylabtools import figsize\n",
        "# Standardized modeling function, to create and execute a modeling pipeline through\n",
        "#   to model performance metrics\n",
        "def model(algorithm, \n",
        "          iteration, \n",
        "          params, \n",
        "#          classes, \n",
        "          X_tr, y_tr, X_te, y_te, \n",
        "          cv, \n",
        "          plot_cm,\n",
        "          plot_auc):\n",
        "    # Create transformers\n",
        "    cat_encoder = OneHotEncoder(handle_unknown = 'ignore', sparse = False)\n",
        "    standardizer = StandardScaler()\n",
        "    \n",
        "    # Create preprocessor\n",
        "    cat_transformer = make_pipeline(cat_encoder)\n",
        "    num_transformer = make_pipeline(standardizer)\n",
        "    preprocessor = ColumnTransformer(\n",
        "        [('cat', cat_transformer, cat_cols),\n",
        "         ('num', num_transformer, num_cols)]\n",
        "    )\n",
        "\n",
        "    # Prepare algorithm with hyperparameters+\n",
        "    algorithm.set_params(**params)\n",
        "    algorithm_name = type(algorithm).__name__ + ' (iteration ' + str(iteration) + ')'\n",
        "    \n",
        "    # Create pipeline and cross-validate model (for later output)\n",
        "    pipe = make_pipeline(preprocessor, algorithm)\n",
        "    \n",
        "    # Fit model\n",
        "    print('\\n\\n', 'Fitting ' + algorithm_name + '...', end = ' ')\n",
        "    fit_start = time()\n",
        "    pipe.fit(X_tr, y_tr)\n",
        "    fit_time = time() - fit_start\n",
        "    print('done in %0.3fs.' % fit_time)\n",
        "    \n",
        "    # Cross-validate model\n",
        "    scores = []\n",
        "    cv_time = 0\n",
        "    if (cv > 0):\n",
        "        print('Cross-validating ' + algorithm_name + '...', end = ' ')\n",
        "        cv_start = time()\n",
        "        scores = cross_val_score(pipe, X_tr, y_tr, cv = cv, scoring = 'accuracy')\n",
        "        cv_time = time() - cv_start\n",
        "        print('done in %0.3fs.' % cv_time)\n",
        "        print(scores)\n",
        "    \n",
        "    # Validate model\n",
        "    print('Validating ' + algorithm_name + '...', end = ' ')\n",
        "    val_start = time()\n",
        "    y_tr_pred = pipe.predict(X_tr)\n",
        "    y_te_pred = pipe.predict(X_te)\n",
        "    val_time = time() - val_start\n",
        "    print('done in %0.2fs.' % val_time)\n",
        "\n",
        "    # Show validation results\n",
        "    if plot_cm:\n",
        "        fig, ax = plt.subplots()\n",
        "        cmd = ConfusionMatrixDisplay(confusion_matrix(y_te, y_te_pred), display_labels = classes)\n",
        "        cmd.plot(ax = ax)\n",
        "        plt.suptitle(algorithm_name, y = 1)\n",
        "        plt.title(params)\n",
        "        plt.show()\n",
        "\n",
        "    print('\\n', algorithm_name)\n",
        "    print(params)\n",
        "    print(classification_report(y_te, y_te_pred))\n",
        "\n",
        "    # calculate AUC and persist, Show ROC AUC results\n",
        "    roc_auc = 0\n",
        "    if plot_auc:\n",
        "      fpr, tpr, threshold = roc_curve(y_te, y_te_pred)\n",
        "      roc_auc = auc(fpr, tpr)\n",
        "\n",
        "      import matplotlib.pyplot as plt\n",
        "      figure(figsize = [3,2])\n",
        "      plt.title('Receiver Operating Characteristic')\n",
        "      plt.plot(fpr, tpr, 'b', label = 'AUC = %0.2f' % roc_auc)\n",
        "\n",
        "      plt.legend(loc = 'lower right')\n",
        "      plt.plot([0, 1], [0, 1],'r--')\n",
        "      plt.xlim([0, 1])\n",
        "      plt.ylim([0, 1])\n",
        "      plt.ylabel('True Positive Rate')\n",
        "      plt.xlabel('False Positive Rate')\n",
        "      plt.show()\n",
        "    \n",
        "    # Persist pipeline (+model)\n",
        "    pipe_filename = algorithm_name + '.pipe'\n",
        "    joblib.dump(pipe, pipe_filename)\n",
        "    \n",
        "    # Persist results\n",
        "    results = []\n",
        "    results.append ({\n",
        "        'algorithm': algorithm_name,\n",
        "        'parameters': params,\n",
        "        'fit_time': fit_time,\n",
        "        'cv_time': cv_time,\n",
        "        'val_time': val_time,\n",
        "        'scores': tuple(scores),\n",
        "        'train_acc': accuracy_score(y_tr_pred, y_tr),\n",
        "        'test_acc': accuracy_score(y_te_pred, y_te),\n",
        "        'roc_auc': roc_auc\n",
        "    })\n",
        "    results_filename = algorithm_name + '.results'\n",
        "    joblib.dump(results, results_filename)\n",
        "\n",
        "    return pd.DataFrame(results)"
      ],
      "metadata": {
        "id": "QBU8Py3WHBQD"
      },
      "execution_count": 127,
      "outputs": []
    },
    {
      "cell_type": "code",
      "source": [
        "# Iterate on models (preliminary)\n",
        "clf_results = pd.DataFrame()\n",
        "\n",
        "############### Function Structure\n",
        "\n",
        "#def model(algorithm, \n",
        "#          iteration, \n",
        "#          params, \n",
        "#          classes, \n",
        "#          X_tr, y_tr, X_te, y_te, \n",
        "#          cv, \n",
        "#          plot_cm)\n",
        "\n",
        "\n",
        "for depth in range(5, 11):\n",
        "    tree_r = model(DecisionTreeClassifier(),\n",
        "                   (depth - 4),\n",
        "                   {'max_depth': depth},\n",
        "#                   target_classes,\n",
        "                   X_train, y_train, X_test, y_test,\n",
        "                   cv = 0, \n",
        "                   plot_cm = False,\n",
        "                   plot_auc = False)\n",
        "    clf_results = pd.concat([clf_results, tree_r])\n",
        "\n",
        "#\n",
        "perc_r = model(Perceptron(), \n",
        "               1,\n",
        "               {'class_weight': 'balanced'},\n",
        "#               target_classes, \n",
        "               X_train, y_train, X_test, y_test,\n",
        "               cv = 0, \n",
        "               plot_cm = False,\n",
        "               plot_auc = False)\n",
        "clf_results = pd.concat([clf_results, perc_r])\n",
        "\n",
        "#for i in range(1, 3):\n",
        "#    knn_r = model(KNeighborsClassifier(),\n",
        "#                  i,\n",
        "#                  {'n_neighbors': 2 * i + 1},\n",
        "#                  target_classes, \n",
        "#                  X_train, y_train, X_test, y_test,\n",
        "#                  cv = 0, \n",
        "#                  plot_cm = False)\n",
        "#    clf_results = pd.concat([clf_results, knn_r])\n",
        "\n",
        "logr_r = model(LogisticRegression(), \n",
        "               1,\n",
        "               {'solver': 'saga', 'max_iter': 400, 'multi_class': 'multinomial'},\n",
        "#               target_classes, \n",
        "               X_train, y_train, X_test, y_test,\n",
        "               cv = 0,\n",
        "               plot_cm = False,\n",
        "               plot_auc = False)\n",
        "clf_results = pd.concat([clf_results, logr_r])\n",
        "\n",
        "svm_r = model(LinearSVC(), \n",
        "              1,\n",
        "              {'multi_class': 'crammer_singer', 'max_iter': 2000},\n",
        "#              target_classes, \n",
        "              X_train, y_train, X_test, y_test,\n",
        "              cv = 0, \n",
        "              plot_cm = False,\n",
        "              plot_auc = False)\n",
        "clf_results = pd.concat([clf_results, svm_r])\n",
        "\n",
        "clf_results"
      ],
      "metadata": {
        "id": "PYo41AE0HBSo",
        "colab": {
          "base_uri": "https://localhost:8080/",
          "height": 1000
        },
        "outputId": "eafb8025-9234-47fc-ca2f-865f7f72f9b2"
      },
      "execution_count": 128,
      "outputs": [
        {
          "output_type": "stream",
          "name": "stdout",
          "text": [
            "\n",
            "\n",
            " Fitting DecisionTreeClassifier (iteration 1)... done in 0.242s.\n",
            "Validating DecisionTreeClassifier (iteration 1)... done in 0.18s.\n",
            "\n",
            " DecisionTreeClassifier (iteration 1)\n",
            "{'max_depth': 5}\n"
          ]
        },
        {
          "output_type": "stream",
          "name": "stderr",
          "text": [
            "/usr/local/lib/python3.7/dist-packages/sklearn/metrics/_classification.py:1318: UndefinedMetricWarning: Precision and F-score are ill-defined and being set to 0.0 in labels with no predicted samples. Use `zero_division` parameter to control this behavior.\n",
            "  _warn_prf(average, modifier, msg_start, len(result))\n",
            "/usr/local/lib/python3.7/dist-packages/sklearn/metrics/_classification.py:1318: UndefinedMetricWarning: Precision and F-score are ill-defined and being set to 0.0 in labels with no predicted samples. Use `zero_division` parameter to control this behavior.\n",
            "  _warn_prf(average, modifier, msg_start, len(result))\n",
            "/usr/local/lib/python3.7/dist-packages/sklearn/metrics/_classification.py:1318: UndefinedMetricWarning: Precision and F-score are ill-defined and being set to 0.0 in labels with no predicted samples. Use `zero_division` parameter to control this behavior.\n",
            "  _warn_prf(average, modifier, msg_start, len(result))\n"
          ]
        },
        {
          "output_type": "stream",
          "name": "stdout",
          "text": [
            "              precision    recall  f1-score   support\n",
            "\n",
            "           0       0.77      0.53      0.63      9005\n",
            "           1       0.00      0.00      0.00      5507\n",
            "           2       0.46      0.93      0.62      8257\n",
            "\n",
            "    accuracy                           0.55     22769\n",
            "   macro avg       0.41      0.49      0.42     22769\n",
            "weighted avg       0.47      0.55      0.47     22769\n",
            "\n",
            "\n",
            "\n",
            " Fitting DecisionTreeClassifier (iteration 2)... done in 0.275s.\n",
            "Validating DecisionTreeClassifier (iteration 2)... done in 0.17s.\n",
            "\n",
            " DecisionTreeClassifier (iteration 2)\n",
            "{'max_depth': 6}\n",
            "              precision    recall  f1-score   support\n",
            "\n",
            "           0       0.52      0.92      0.66      9005\n",
            "           1       0.21      0.00      0.00      5507\n",
            "           2       0.67      0.55      0.60      8257\n",
            "\n",
            "    accuracy                           0.56     22769\n",
            "   macro avg       0.46      0.49      0.42     22769\n",
            "weighted avg       0.50      0.56      0.48     22769\n",
            "\n",
            "\n",
            "\n",
            " Fitting DecisionTreeClassifier (iteration 3)... done in 0.285s.\n",
            "Validating DecisionTreeClassifier (iteration 3)... done in 0.17s.\n",
            "\n",
            " DecisionTreeClassifier (iteration 3)\n",
            "{'max_depth': 7}\n",
            "              precision    recall  f1-score   support\n",
            "\n",
            "           0       0.52      0.91      0.67      9005\n",
            "           1       0.36      0.03      0.05      5507\n",
            "           2       0.69      0.56      0.62      8257\n",
            "\n",
            "    accuracy                           0.57     22769\n",
            "   macro avg       0.53      0.50      0.44     22769\n",
            "weighted avg       0.54      0.57      0.50     22769\n",
            "\n",
            "\n",
            "\n",
            " Fitting DecisionTreeClassifier (iteration 4)... done in 0.307s.\n",
            "Validating DecisionTreeClassifier (iteration 4)... done in 0.18s.\n",
            "\n",
            " DecisionTreeClassifier (iteration 4)\n",
            "{'max_depth': 8}\n",
            "              precision    recall  f1-score   support\n",
            "\n",
            "           0       0.57      0.84      0.68      9005\n",
            "           1       0.36      0.03      0.06      5507\n",
            "           2       0.62      0.68      0.65      8257\n",
            "\n",
            "    accuracy                           0.59     22769\n",
            "   macro avg       0.52      0.52      0.46     22769\n",
            "weighted avg       0.54      0.59      0.52     22769\n",
            "\n",
            "\n",
            "\n",
            " Fitting DecisionTreeClassifier (iteration 5)... done in 0.312s.\n",
            "Validating DecisionTreeClassifier (iteration 5)... done in 0.17s.\n",
            "\n",
            " DecisionTreeClassifier (iteration 5)\n",
            "{'max_depth': 9}\n",
            "              precision    recall  f1-score   support\n",
            "\n",
            "           0       0.62      0.77      0.68      9005\n",
            "           1       0.27      0.01      0.02      5507\n",
            "           2       0.57      0.79      0.66      8257\n",
            "\n",
            "    accuracy                           0.59     22769\n",
            "   macro avg       0.49      0.52      0.46     22769\n",
            "weighted avg       0.52      0.59      0.52     22769\n",
            "\n",
            "\n",
            "\n",
            " Fitting DecisionTreeClassifier (iteration 6)... done in 0.339s.\n",
            "Validating DecisionTreeClassifier (iteration 6)... done in 0.17s.\n",
            "\n",
            " DecisionTreeClassifier (iteration 6)\n",
            "{'max_depth': 10}\n",
            "              precision    recall  f1-score   support\n",
            "\n",
            "           0       0.61      0.78      0.69      9005\n",
            "           1       0.35      0.16      0.22      5507\n",
            "           2       0.64      0.68      0.66      8257\n",
            "\n",
            "    accuracy                           0.59     22769\n",
            "   macro avg       0.53      0.54      0.52     22769\n",
            "weighted avg       0.56      0.59      0.56     22769\n",
            "\n",
            "\n",
            "\n",
            " Fitting Perceptron (iteration 1)... done in 0.397s.\n",
            "Validating Perceptron (iteration 1)... done in 0.21s.\n",
            "\n",
            " Perceptron (iteration 1)\n",
            "{'class_weight': 'balanced'}\n",
            "              precision    recall  f1-score   support\n",
            "\n",
            "           0       0.69      0.52      0.59      9005\n",
            "           1       0.35      0.09      0.15      5507\n",
            "           2       0.48      0.84      0.61      8257\n",
            "\n",
            "    accuracy                           0.53     22769\n",
            "   macro avg       0.51      0.48      0.45     22769\n",
            "weighted avg       0.53      0.53      0.49     22769\n",
            "\n",
            "\n",
            "\n",
            " Fitting LogisticRegression (iteration 1)... done in 20.167s.\n",
            "Validating LogisticRegression (iteration 1)... done in 0.21s.\n",
            "\n",
            " LogisticRegression (iteration 1)\n",
            "{'solver': 'saga', 'max_iter': 400, 'multi_class': 'multinomial'}\n",
            "              precision    recall  f1-score   support\n",
            "\n",
            "           0       0.64      0.76      0.69      9005\n",
            "           1       0.41      0.10      0.16      5507\n",
            "           2       0.59      0.76      0.67      8257\n",
            "\n",
            "    accuracy                           0.60     22769\n",
            "   macro avg       0.54      0.54      0.51     22769\n",
            "weighted avg       0.56      0.60      0.55     22769\n",
            "\n",
            "\n",
            "\n",
            " Fitting LinearSVC (iteration 1)... done in 16.074s.\n",
            "Validating LinearSVC (iteration 1)... done in 0.22s.\n",
            "\n",
            " LinearSVC (iteration 1)\n",
            "{'multi_class': 'crammer_singer', 'max_iter': 2000}\n",
            "              precision    recall  f1-score   support\n",
            "\n",
            "           0       0.69      0.65      0.67      9005\n",
            "           1       0.32      0.25      0.28      5507\n",
            "           2       0.57      0.69      0.63      8257\n",
            "\n",
            "    accuracy                           0.57     22769\n",
            "   macro avg       0.53      0.53      0.53     22769\n",
            "weighted avg       0.56      0.57      0.56     22769\n",
            "\n"
          ]
        },
        {
          "output_type": "execute_result",
          "data": {
            "text/plain": [
              "                algorithm                                   parameters                      fit_time  cv_time  val_time scores  train_acc  test_acc  roc_auc\n",
              "0  DecisionTreeClassifier (iteration 1)                                   {'max_depth': 5}    0.24       0       0.18     ()      0.55       0.55       0   \n",
              "0  DecisionTreeClassifier (iteration 2)                                   {'max_depth': 6}    0.28       0       0.17     ()      0.56       0.56       0   \n",
              "0  DecisionTreeClassifier (iteration 3)                                   {'max_depth': 7}    0.28       0       0.17     ()      0.57       0.57       0   \n",
              "0  DecisionTreeClassifier (iteration 4)                                   {'max_depth': 8}    0.31       0       0.18     ()      0.59       0.59       0   \n",
              "0  DecisionTreeClassifier (iteration 5)                                   {'max_depth': 9}    0.31       0       0.17     ()      0.60       0.59       0   \n",
              "0  DecisionTreeClassifier (iteration 6)                                  {'max_depth': 10}    0.34       0       0.17     ()      0.61       0.59       0   \n",
              "0              Perceptron (iteration 1)                       {'class_weight': 'balanced'}    0.40       0       0.21     ()      0.53       0.53       0   \n",
              "0      LogisticRegression (iteration 1)  {'solver': 'saga', 'max_iter': 400, 'multi_cla...   20.17       0       0.21     ()      0.60       0.60       0   \n",
              "0               LinearSVC (iteration 1)  {'multi_class': 'crammer_singer', 'max_iter': ...   16.07       0       0.22     ()      0.57       0.57       0   "
            ],
            "text/html": [
              "\n",
              "  <div id=\"df-0248db3d-dcd1-4d8b-9751-df5b4776fe0a\">\n",
              "    <div class=\"colab-df-container\">\n",
              "      <div>\n",
              "<style scoped>\n",
              "    .dataframe tbody tr th:only-of-type {\n",
              "        vertical-align: middle;\n",
              "    }\n",
              "\n",
              "    .dataframe tbody tr th {\n",
              "        vertical-align: top;\n",
              "    }\n",
              "\n",
              "    .dataframe thead th {\n",
              "        text-align: right;\n",
              "    }\n",
              "</style>\n",
              "<table border=\"1\" class=\"dataframe\">\n",
              "  <thead>\n",
              "    <tr style=\"text-align: center;\">\n",
              "      <th></th>\n",
              "      <th>algorithm</th>\n",
              "      <th>parameters</th>\n",
              "      <th>fit_time</th>\n",
              "      <th>cv_time</th>\n",
              "      <th>val_time</th>\n",
              "      <th>scores</th>\n",
              "      <th>train_acc</th>\n",
              "      <th>test_acc</th>\n",
              "      <th>roc_auc</th>\n",
              "    </tr>\n",
              "  </thead>\n",
              "  <tbody>\n",
              "    <tr>\n",
              "      <th>0</th>\n",
              "      <td>DecisionTreeClassifier (iteration 1)</td>\n",
              "      <td>{'max_depth': 5}</td>\n",
              "      <td>0.24</td>\n",
              "      <td>0</td>\n",
              "      <td>0.18</td>\n",
              "      <td>()</td>\n",
              "      <td>0.55</td>\n",
              "      <td>0.55</td>\n",
              "      <td>0</td>\n",
              "    </tr>\n",
              "    <tr>\n",
              "      <th>0</th>\n",
              "      <td>DecisionTreeClassifier (iteration 2)</td>\n",
              "      <td>{'max_depth': 6}</td>\n",
              "      <td>0.28</td>\n",
              "      <td>0</td>\n",
              "      <td>0.17</td>\n",
              "      <td>()</td>\n",
              "      <td>0.56</td>\n",
              "      <td>0.56</td>\n",
              "      <td>0</td>\n",
              "    </tr>\n",
              "    <tr>\n",
              "      <th>0</th>\n",
              "      <td>DecisionTreeClassifier (iteration 3)</td>\n",
              "      <td>{'max_depth': 7}</td>\n",
              "      <td>0.28</td>\n",
              "      <td>0</td>\n",
              "      <td>0.17</td>\n",
              "      <td>()</td>\n",
              "      <td>0.57</td>\n",
              "      <td>0.57</td>\n",
              "      <td>0</td>\n",
              "    </tr>\n",
              "    <tr>\n",
              "      <th>0</th>\n",
              "      <td>DecisionTreeClassifier (iteration 4)</td>\n",
              "      <td>{'max_depth': 8}</td>\n",
              "      <td>0.31</td>\n",
              "      <td>0</td>\n",
              "      <td>0.18</td>\n",
              "      <td>()</td>\n",
              "      <td>0.59</td>\n",
              "      <td>0.59</td>\n",
              "      <td>0</td>\n",
              "    </tr>\n",
              "    <tr>\n",
              "      <th>0</th>\n",
              "      <td>DecisionTreeClassifier (iteration 5)</td>\n",
              "      <td>{'max_depth': 9}</td>\n",
              "      <td>0.31</td>\n",
              "      <td>0</td>\n",
              "      <td>0.17</td>\n",
              "      <td>()</td>\n",
              "      <td>0.60</td>\n",
              "      <td>0.59</td>\n",
              "      <td>0</td>\n",
              "    </tr>\n",
              "    <tr>\n",
              "      <th>0</th>\n",
              "      <td>DecisionTreeClassifier (iteration 6)</td>\n",
              "      <td>{'max_depth': 10}</td>\n",
              "      <td>0.34</td>\n",
              "      <td>0</td>\n",
              "      <td>0.17</td>\n",
              "      <td>()</td>\n",
              "      <td>0.61</td>\n",
              "      <td>0.59</td>\n",
              "      <td>0</td>\n",
              "    </tr>\n",
              "    <tr>\n",
              "      <th>0</th>\n",
              "      <td>Perceptron (iteration 1)</td>\n",
              "      <td>{'class_weight': 'balanced'}</td>\n",
              "      <td>0.40</td>\n",
              "      <td>0</td>\n",
              "      <td>0.21</td>\n",
              "      <td>()</td>\n",
              "      <td>0.53</td>\n",
              "      <td>0.53</td>\n",
              "      <td>0</td>\n",
              "    </tr>\n",
              "    <tr>\n",
              "      <th>0</th>\n",
              "      <td>LogisticRegression (iteration 1)</td>\n",
              "      <td>{'solver': 'saga', 'max_iter': 400, 'multi_cla...</td>\n",
              "      <td>20.17</td>\n",
              "      <td>0</td>\n",
              "      <td>0.21</td>\n",
              "      <td>()</td>\n",
              "      <td>0.60</td>\n",
              "      <td>0.60</td>\n",
              "      <td>0</td>\n",
              "    </tr>\n",
              "    <tr>\n",
              "      <th>0</th>\n",
              "      <td>LinearSVC (iteration 1)</td>\n",
              "      <td>{'multi_class': 'crammer_singer', 'max_iter': ...</td>\n",
              "      <td>16.07</td>\n",
              "      <td>0</td>\n",
              "      <td>0.22</td>\n",
              "      <td>()</td>\n",
              "      <td>0.57</td>\n",
              "      <td>0.57</td>\n",
              "      <td>0</td>\n",
              "    </tr>\n",
              "  </tbody>\n",
              "</table>\n",
              "</div>\n",
              "      <button class=\"colab-df-convert\" onclick=\"convertToInteractive('df-0248db3d-dcd1-4d8b-9751-df5b4776fe0a')\"\n",
              "              title=\"Convert this dataframe to an interactive table.\"\n",
              "              style=\"display:none;\">\n",
              "        \n",
              "  <svg xmlns=\"http://www.w3.org/2000/svg\" height=\"24px\"viewBox=\"0 0 24 24\"\n",
              "       width=\"24px\">\n",
              "    <path d=\"M0 0h24v24H0V0z\" fill=\"none\"/>\n",
              "    <path d=\"M18.56 5.44l.94 2.06.94-2.06 2.06-.94-2.06-.94-.94-2.06-.94 2.06-2.06.94zm-11 1L8.5 8.5l.94-2.06 2.06-.94-2.06-.94L8.5 2.5l-.94 2.06-2.06.94zm10 10l.94 2.06.94-2.06 2.06-.94-2.06-.94-.94-2.06-.94 2.06-2.06.94z\"/><path d=\"M17.41 7.96l-1.37-1.37c-.4-.4-.92-.59-1.43-.59-.52 0-1.04.2-1.43.59L10.3 9.45l-7.72 7.72c-.78.78-.78 2.05 0 2.83L4 21.41c.39.39.9.59 1.41.59.51 0 1.02-.2 1.41-.59l7.78-7.78 2.81-2.81c.8-.78.8-2.07 0-2.86zM5.41 20L4 18.59l7.72-7.72 1.47 1.35L5.41 20z\"/>\n",
              "  </svg>\n",
              "      </button>\n",
              "      \n",
              "  <style>\n",
              "    .colab-df-container {\n",
              "      display:flex;\n",
              "      flex-wrap:wrap;\n",
              "      gap: 12px;\n",
              "    }\n",
              "\n",
              "    .colab-df-convert {\n",
              "      background-color: #E8F0FE;\n",
              "      border: none;\n",
              "      border-radius: 50%;\n",
              "      cursor: pointer;\n",
              "      display: none;\n",
              "      fill: #1967D2;\n",
              "      height: 32px;\n",
              "      padding: 0 0 0 0;\n",
              "      width: 32px;\n",
              "    }\n",
              "\n",
              "    .colab-df-convert:hover {\n",
              "      background-color: #E2EBFA;\n",
              "      box-shadow: 0px 1px 2px rgba(60, 64, 67, 0.3), 0px 1px 3px 1px rgba(60, 64, 67, 0.15);\n",
              "      fill: #174EA6;\n",
              "    }\n",
              "\n",
              "    [theme=dark] .colab-df-convert {\n",
              "      background-color: #3B4455;\n",
              "      fill: #D2E3FC;\n",
              "    }\n",
              "\n",
              "    [theme=dark] .colab-df-convert:hover {\n",
              "      background-color: #434B5C;\n",
              "      box-shadow: 0px 1px 3px 1px rgba(0, 0, 0, 0.15);\n",
              "      filter: drop-shadow(0px 1px 2px rgba(0, 0, 0, 0.3));\n",
              "      fill: #FFFFFF;\n",
              "    }\n",
              "  </style>\n",
              "\n",
              "      <script>\n",
              "        const buttonEl =\n",
              "          document.querySelector('#df-0248db3d-dcd1-4d8b-9751-df5b4776fe0a button.colab-df-convert');\n",
              "        buttonEl.style.display =\n",
              "          google.colab.kernel.accessAllowed ? 'block' : 'none';\n",
              "\n",
              "        async function convertToInteractive(key) {\n",
              "          const element = document.querySelector('#df-0248db3d-dcd1-4d8b-9751-df5b4776fe0a');\n",
              "          const dataTable =\n",
              "            await google.colab.kernel.invokeFunction('convertToInteractive',\n",
              "                                                     [key], {});\n",
              "          if (!dataTable) return;\n",
              "\n",
              "          const docLinkHtml = 'Like what you see? Visit the ' +\n",
              "            '<a target=\"_blank\" href=https://colab.research.google.com/notebooks/data_table.ipynb>data table notebook</a>'\n",
              "            + ' to learn more about interactive tables.';\n",
              "          element.innerHTML = '';\n",
              "          dataTable['output_type'] = 'display_data';\n",
              "          await google.colab.output.renderOutput(dataTable, element);\n",
              "          const docLink = document.createElement('div');\n",
              "          docLink.innerHTML = docLinkHtml;\n",
              "          element.appendChild(docLink);\n",
              "        }\n",
              "      </script>\n",
              "    </div>\n",
              "  </div>\n",
              "  "
            ]
          },
          "metadata": {},
          "execution_count": 128
        }
      ]
    },
    {
      "cell_type": "code",
      "source": [
        "from sklearn.neural_network import MLPClassifier\n",
        "from sklearn.ensemble import RandomForestClassifier\n",
        "from sklearn.linear_model import RidgeClassifier\n",
        "\n",
        "# Iterate on models (preliminary)\n",
        "clf_results2 = pd.DataFrame()\n",
        "\n",
        "############### Function Structure\n",
        "\n",
        "nn_r = model(MLPClassifier(),\n",
        "             1,\n",
        "             {'random_state' : 1, 'max_iter': 300},\n",
        "#             target_classes,\n",
        "             X_train, y_train, X_test, y_test,\n",
        "             cv = 0,\n",
        "             plot_cm = False,\n",
        "             plot_auc = False)\n",
        "clf_results2 = pd.concat([clf_results2, nn_r])\n",
        "\n",
        "rf_r = model(RandomForestClassifier(),\n",
        "             1,\n",
        "             {'max_depth' : 2},\n",
        "#             target_classes,\n",
        "             X_train, y_train, X_test, y_test,\n",
        "             cv = 0,\n",
        "             plot_cm = False,\n",
        "             plot_auc = False)\n",
        "clf_results2 = pd.concat([clf_results2, rf_r])\n",
        "\n",
        "ridge_r = model(RidgeClassifier(),\n",
        "             1,\n",
        "             {'alpha' : 1, 'max_iter': 1000},\n",
        "#             target_classes,\n",
        "             X_train, y_train, X_test, y_test,\n",
        "             cv = 0,\n",
        "             plot_cm = False,\n",
        "             plot_auc = False)\n",
        "clf_results2 = pd.concat([clf_results2, ridge_r])\n",
        "\n",
        "clf_results2"
      ],
      "metadata": {
        "id": "Yfrnef7_BU9P",
        "colab": {
          "base_uri": "https://localhost:8080/",
          "height": 1000
        },
        "outputId": "6acf2edb-9074-447f-9960-4bd476721f32"
      },
      "execution_count": 129,
      "outputs": [
        {
          "output_type": "stream",
          "name": "stdout",
          "text": [
            "\n",
            "\n",
            " Fitting MLPClassifier (iteration 1)... done in 97.982s.\n",
            "Validating MLPClassifier (iteration 1)... done in 0.41s.\n",
            "\n",
            " MLPClassifier (iteration 1)\n",
            "{'random_state': 1, 'max_iter': 300}\n",
            "              precision    recall  f1-score   support\n",
            "\n",
            "           0       0.63      0.79      0.70      9005\n",
            "           1       0.41      0.18      0.25      5507\n",
            "           2       0.64      0.70      0.67      8257\n",
            "\n",
            "    accuracy                           0.61     22769\n",
            "   macro avg       0.56      0.56      0.54     22769\n",
            "weighted avg       0.58      0.61      0.58     22769\n",
            "\n",
            "\n",
            "\n",
            " Fitting RandomForestClassifier (iteration 1)... done in 1.561s.\n",
            "Validating RandomForestClassifier (iteration 1)... done in 0.65s.\n",
            "\n",
            " RandomForestClassifier (iteration 1)\n",
            "{'max_depth': 2}\n",
            "              precision    recall  f1-score   support\n",
            "\n",
            "           0       0.74      0.50      0.60      9005\n",
            "           1       0.00      0.00      0.00      5507\n",
            "           2       0.45      0.91      0.61      8257\n",
            "\n",
            "    accuracy                           0.53     22769\n",
            "   macro avg       0.40      0.47      0.40     22769\n",
            "weighted avg       0.46      0.53      0.46     22769\n",
            "\n",
            "\n",
            "\n",
            " Fitting RidgeClassifier (iteration 1)... "
          ]
        },
        {
          "output_type": "stream",
          "name": "stderr",
          "text": [
            "/usr/local/lib/python3.7/dist-packages/sklearn/metrics/_classification.py:1318: UndefinedMetricWarning: Precision and F-score are ill-defined and being set to 0.0 in labels with no predicted samples. Use `zero_division` parameter to control this behavior.\n",
            "  _warn_prf(average, modifier, msg_start, len(result))\n",
            "/usr/local/lib/python3.7/dist-packages/sklearn/metrics/_classification.py:1318: UndefinedMetricWarning: Precision and F-score are ill-defined and being set to 0.0 in labels with no predicted samples. Use `zero_division` parameter to control this behavior.\n",
            "  _warn_prf(average, modifier, msg_start, len(result))\n",
            "/usr/local/lib/python3.7/dist-packages/sklearn/metrics/_classification.py:1318: UndefinedMetricWarning: Precision and F-score are ill-defined and being set to 0.0 in labels with no predicted samples. Use `zero_division` parameter to control this behavior.\n",
            "  _warn_prf(average, modifier, msg_start, len(result))\n"
          ]
        },
        {
          "output_type": "stream",
          "name": "stdout",
          "text": [
            "done in 0.188s.\n",
            "Validating RidgeClassifier (iteration 1)... done in 0.25s.\n",
            "\n",
            " RidgeClassifier (iteration 1)\n",
            "{'alpha': 1, 'max_iter': 1000}\n",
            "              precision    recall  f1-score   support\n",
            "\n",
            "           0       0.63      0.77      0.69      9005\n",
            "           1       0.41      0.06      0.10      5507\n",
            "           2       0.58      0.78      0.67      8257\n",
            "\n",
            "    accuracy                           0.60     22769\n",
            "   macro avg       0.54      0.53      0.49     22769\n",
            "weighted avg       0.56      0.60      0.54     22769\n",
            "\n"
          ]
        },
        {
          "output_type": "execute_result",
          "data": {
            "text/plain": [
              "                algorithm                             parameters               fit_time  cv_time  val_time scores  train_acc  test_acc  roc_auc\n",
              "0           MLPClassifier (iteration 1)  {'random_state': 1, 'max_iter': 300}   97.98       0       0.41     ()      0.64       0.61       0   \n",
              "0  RandomForestClassifier (iteration 1)                      {'max_depth': 2}    1.56       0       0.65     ()      0.53       0.53       0   \n",
              "0         RidgeClassifier (iteration 1)        {'alpha': 1, 'max_iter': 1000}    0.19       0       0.25     ()      0.60       0.60       0   "
            ],
            "text/html": [
              "\n",
              "  <div id=\"df-dd5391ff-254d-493a-82b5-e3f4273064e2\">\n",
              "    <div class=\"colab-df-container\">\n",
              "      <div>\n",
              "<style scoped>\n",
              "    .dataframe tbody tr th:only-of-type {\n",
              "        vertical-align: middle;\n",
              "    }\n",
              "\n",
              "    .dataframe tbody tr th {\n",
              "        vertical-align: top;\n",
              "    }\n",
              "\n",
              "    .dataframe thead th {\n",
              "        text-align: right;\n",
              "    }\n",
              "</style>\n",
              "<table border=\"1\" class=\"dataframe\">\n",
              "  <thead>\n",
              "    <tr style=\"text-align: center;\">\n",
              "      <th></th>\n",
              "      <th>algorithm</th>\n",
              "      <th>parameters</th>\n",
              "      <th>fit_time</th>\n",
              "      <th>cv_time</th>\n",
              "      <th>val_time</th>\n",
              "      <th>scores</th>\n",
              "      <th>train_acc</th>\n",
              "      <th>test_acc</th>\n",
              "      <th>roc_auc</th>\n",
              "    </tr>\n",
              "  </thead>\n",
              "  <tbody>\n",
              "    <tr>\n",
              "      <th>0</th>\n",
              "      <td>MLPClassifier (iteration 1)</td>\n",
              "      <td>{'random_state': 1, 'max_iter': 300}</td>\n",
              "      <td>97.98</td>\n",
              "      <td>0</td>\n",
              "      <td>0.41</td>\n",
              "      <td>()</td>\n",
              "      <td>0.64</td>\n",
              "      <td>0.61</td>\n",
              "      <td>0</td>\n",
              "    </tr>\n",
              "    <tr>\n",
              "      <th>0</th>\n",
              "      <td>RandomForestClassifier (iteration 1)</td>\n",
              "      <td>{'max_depth': 2}</td>\n",
              "      <td>1.56</td>\n",
              "      <td>0</td>\n",
              "      <td>0.65</td>\n",
              "      <td>()</td>\n",
              "      <td>0.53</td>\n",
              "      <td>0.53</td>\n",
              "      <td>0</td>\n",
              "    </tr>\n",
              "    <tr>\n",
              "      <th>0</th>\n",
              "      <td>RidgeClassifier (iteration 1)</td>\n",
              "      <td>{'alpha': 1, 'max_iter': 1000}</td>\n",
              "      <td>0.19</td>\n",
              "      <td>0</td>\n",
              "      <td>0.25</td>\n",
              "      <td>()</td>\n",
              "      <td>0.60</td>\n",
              "      <td>0.60</td>\n",
              "      <td>0</td>\n",
              "    </tr>\n",
              "  </tbody>\n",
              "</table>\n",
              "</div>\n",
              "      <button class=\"colab-df-convert\" onclick=\"convertToInteractive('df-dd5391ff-254d-493a-82b5-e3f4273064e2')\"\n",
              "              title=\"Convert this dataframe to an interactive table.\"\n",
              "              style=\"display:none;\">\n",
              "        \n",
              "  <svg xmlns=\"http://www.w3.org/2000/svg\" height=\"24px\"viewBox=\"0 0 24 24\"\n",
              "       width=\"24px\">\n",
              "    <path d=\"M0 0h24v24H0V0z\" fill=\"none\"/>\n",
              "    <path d=\"M18.56 5.44l.94 2.06.94-2.06 2.06-.94-2.06-.94-.94-2.06-.94 2.06-2.06.94zm-11 1L8.5 8.5l.94-2.06 2.06-.94-2.06-.94L8.5 2.5l-.94 2.06-2.06.94zm10 10l.94 2.06.94-2.06 2.06-.94-2.06-.94-.94-2.06-.94 2.06-2.06.94z\"/><path d=\"M17.41 7.96l-1.37-1.37c-.4-.4-.92-.59-1.43-.59-.52 0-1.04.2-1.43.59L10.3 9.45l-7.72 7.72c-.78.78-.78 2.05 0 2.83L4 21.41c.39.39.9.59 1.41.59.51 0 1.02-.2 1.41-.59l7.78-7.78 2.81-2.81c.8-.78.8-2.07 0-2.86zM5.41 20L4 18.59l7.72-7.72 1.47 1.35L5.41 20z\"/>\n",
              "  </svg>\n",
              "      </button>\n",
              "      \n",
              "  <style>\n",
              "    .colab-df-container {\n",
              "      display:flex;\n",
              "      flex-wrap:wrap;\n",
              "      gap: 12px;\n",
              "    }\n",
              "\n",
              "    .colab-df-convert {\n",
              "      background-color: #E8F0FE;\n",
              "      border: none;\n",
              "      border-radius: 50%;\n",
              "      cursor: pointer;\n",
              "      display: none;\n",
              "      fill: #1967D2;\n",
              "      height: 32px;\n",
              "      padding: 0 0 0 0;\n",
              "      width: 32px;\n",
              "    }\n",
              "\n",
              "    .colab-df-convert:hover {\n",
              "      background-color: #E2EBFA;\n",
              "      box-shadow: 0px 1px 2px rgba(60, 64, 67, 0.3), 0px 1px 3px 1px rgba(60, 64, 67, 0.15);\n",
              "      fill: #174EA6;\n",
              "    }\n",
              "\n",
              "    [theme=dark] .colab-df-convert {\n",
              "      background-color: #3B4455;\n",
              "      fill: #D2E3FC;\n",
              "    }\n",
              "\n",
              "    [theme=dark] .colab-df-convert:hover {\n",
              "      background-color: #434B5C;\n",
              "      box-shadow: 0px 1px 3px 1px rgba(0, 0, 0, 0.15);\n",
              "      filter: drop-shadow(0px 1px 2px rgba(0, 0, 0, 0.3));\n",
              "      fill: #FFFFFF;\n",
              "    }\n",
              "  </style>\n",
              "\n",
              "      <script>\n",
              "        const buttonEl =\n",
              "          document.querySelector('#df-dd5391ff-254d-493a-82b5-e3f4273064e2 button.colab-df-convert');\n",
              "        buttonEl.style.display =\n",
              "          google.colab.kernel.accessAllowed ? 'block' : 'none';\n",
              "\n",
              "        async function convertToInteractive(key) {\n",
              "          const element = document.querySelector('#df-dd5391ff-254d-493a-82b5-e3f4273064e2');\n",
              "          const dataTable =\n",
              "            await google.colab.kernel.invokeFunction('convertToInteractive',\n",
              "                                                     [key], {});\n",
              "          if (!dataTable) return;\n",
              "\n",
              "          const docLinkHtml = 'Like what you see? Visit the ' +\n",
              "            '<a target=\"_blank\" href=https://colab.research.google.com/notebooks/data_table.ipynb>data table notebook</a>'\n",
              "            + ' to learn more about interactive tables.';\n",
              "          element.innerHTML = '';\n",
              "          dataTable['output_type'] = 'display_data';\n",
              "          await google.colab.output.renderOutput(dataTable, element);\n",
              "          const docLink = document.createElement('div');\n",
              "          docLink.innerHTML = docLinkHtml;\n",
              "          element.appendChild(docLink);\n",
              "        }\n",
              "      </script>\n",
              "    </div>\n",
              "  </div>\n",
              "  "
            ]
          },
          "metadata": {},
          "execution_count": 129
        }
      ]
    },
    {
      "cell_type": "markdown",
      "source": [
        "# Summer's kNN Minkowski\n",
        "## Still need to add a for loop for k"
      ],
      "metadata": {
        "id": "NSrPX_DsFkor"
      }
    },
    {
      "cell_type": "code",
      "source": [
        "from sklearn.naive_bayes import BernoulliNB, GaussianNB, MultinomialNB"
      ],
      "metadata": {
        "id": "2cHO8f5PK0nV"
      },
      "execution_count": 130,
      "outputs": []
    },
    {
      "cell_type": "code",
      "source": [
        "clf_results3 = pd.DataFrame()\n",
        "\n",
        "knnmink_r = model(KNeighborsClassifier(),\n",
        "              1,\n",
        "              {'metric' : 'minkowski', 'n_neighbors' : 5},\n",
        "#              target_classes,\n",
        "              X_train, y_train, X_test, y_test,\n",
        "              cv = 0,\n",
        "              plot_cm = False,\n",
        "              plot_auc = False)\n",
        "clf_results3 = pd.concat([clf_results3, knnmink_r])\n",
        "\n",
        "clf_results3"
      ],
      "metadata": {
        "id": "NixJd-I_BVBU",
        "colab": {
          "base_uri": "https://localhost:8080/",
          "height": 376
        },
        "outputId": "144f371b-c107-4cf9-ebb0-08502e1ee400"
      },
      "execution_count": 131,
      "outputs": [
        {
          "output_type": "stream",
          "name": "stdout",
          "text": [
            "\n",
            "\n",
            " Fitting KNeighborsClassifier (iteration 1)... done in 0.143s.\n",
            "Validating KNeighborsClassifier (iteration 1)... done in 89.02s.\n",
            "\n",
            " KNeighborsClassifier (iteration 1)\n",
            "{'metric': 'minkowski', 'n_neighbors': 5}\n",
            "              precision    recall  f1-score   support\n",
            "\n",
            "           0       0.62      0.73      0.67      9005\n",
            "           1       0.36      0.29      0.32      5507\n",
            "           2       0.64      0.59      0.62      8257\n",
            "\n",
            "    accuracy                           0.58     22769\n",
            "   macro avg       0.54      0.54      0.54     22769\n",
            "weighted avg       0.56      0.58      0.57     22769\n",
            "\n"
          ]
        },
        {
          "output_type": "execute_result",
          "data": {
            "text/plain": [
              "               algorithm                              parameters                  fit_time  cv_time  val_time scores  train_acc  test_acc  roc_auc\n",
              "0  KNeighborsClassifier (iteration 1)  {'metric': 'minkowski', 'n_neighbors': 5}    0.14       0      89.02     ()      0.70       0.58       0   "
            ],
            "text/html": [
              "\n",
              "  <div id=\"df-ffb0ead0-0116-49b6-aae4-5c67dc315138\">\n",
              "    <div class=\"colab-df-container\">\n",
              "      <div>\n",
              "<style scoped>\n",
              "    .dataframe tbody tr th:only-of-type {\n",
              "        vertical-align: middle;\n",
              "    }\n",
              "\n",
              "    .dataframe tbody tr th {\n",
              "        vertical-align: top;\n",
              "    }\n",
              "\n",
              "    .dataframe thead th {\n",
              "        text-align: right;\n",
              "    }\n",
              "</style>\n",
              "<table border=\"1\" class=\"dataframe\">\n",
              "  <thead>\n",
              "    <tr style=\"text-align: center;\">\n",
              "      <th></th>\n",
              "      <th>algorithm</th>\n",
              "      <th>parameters</th>\n",
              "      <th>fit_time</th>\n",
              "      <th>cv_time</th>\n",
              "      <th>val_time</th>\n",
              "      <th>scores</th>\n",
              "      <th>train_acc</th>\n",
              "      <th>test_acc</th>\n",
              "      <th>roc_auc</th>\n",
              "    </tr>\n",
              "  </thead>\n",
              "  <tbody>\n",
              "    <tr>\n",
              "      <th>0</th>\n",
              "      <td>KNeighborsClassifier (iteration 1)</td>\n",
              "      <td>{'metric': 'minkowski', 'n_neighbors': 5}</td>\n",
              "      <td>0.14</td>\n",
              "      <td>0</td>\n",
              "      <td>89.02</td>\n",
              "      <td>()</td>\n",
              "      <td>0.70</td>\n",
              "      <td>0.58</td>\n",
              "      <td>0</td>\n",
              "    </tr>\n",
              "  </tbody>\n",
              "</table>\n",
              "</div>\n",
              "      <button class=\"colab-df-convert\" onclick=\"convertToInteractive('df-ffb0ead0-0116-49b6-aae4-5c67dc315138')\"\n",
              "              title=\"Convert this dataframe to an interactive table.\"\n",
              "              style=\"display:none;\">\n",
              "        \n",
              "  <svg xmlns=\"http://www.w3.org/2000/svg\" height=\"24px\"viewBox=\"0 0 24 24\"\n",
              "       width=\"24px\">\n",
              "    <path d=\"M0 0h24v24H0V0z\" fill=\"none\"/>\n",
              "    <path d=\"M18.56 5.44l.94 2.06.94-2.06 2.06-.94-2.06-.94-.94-2.06-.94 2.06-2.06.94zm-11 1L8.5 8.5l.94-2.06 2.06-.94-2.06-.94L8.5 2.5l-.94 2.06-2.06.94zm10 10l.94 2.06.94-2.06 2.06-.94-2.06-.94-.94-2.06-.94 2.06-2.06.94z\"/><path d=\"M17.41 7.96l-1.37-1.37c-.4-.4-.92-.59-1.43-.59-.52 0-1.04.2-1.43.59L10.3 9.45l-7.72 7.72c-.78.78-.78 2.05 0 2.83L4 21.41c.39.39.9.59 1.41.59.51 0 1.02-.2 1.41-.59l7.78-7.78 2.81-2.81c.8-.78.8-2.07 0-2.86zM5.41 20L4 18.59l7.72-7.72 1.47 1.35L5.41 20z\"/>\n",
              "  </svg>\n",
              "      </button>\n",
              "      \n",
              "  <style>\n",
              "    .colab-df-container {\n",
              "      display:flex;\n",
              "      flex-wrap:wrap;\n",
              "      gap: 12px;\n",
              "    }\n",
              "\n",
              "    .colab-df-convert {\n",
              "      background-color: #E8F0FE;\n",
              "      border: none;\n",
              "      border-radius: 50%;\n",
              "      cursor: pointer;\n",
              "      display: none;\n",
              "      fill: #1967D2;\n",
              "      height: 32px;\n",
              "      padding: 0 0 0 0;\n",
              "      width: 32px;\n",
              "    }\n",
              "\n",
              "    .colab-df-convert:hover {\n",
              "      background-color: #E2EBFA;\n",
              "      box-shadow: 0px 1px 2px rgba(60, 64, 67, 0.3), 0px 1px 3px 1px rgba(60, 64, 67, 0.15);\n",
              "      fill: #174EA6;\n",
              "    }\n",
              "\n",
              "    [theme=dark] .colab-df-convert {\n",
              "      background-color: #3B4455;\n",
              "      fill: #D2E3FC;\n",
              "    }\n",
              "\n",
              "    [theme=dark] .colab-df-convert:hover {\n",
              "      background-color: #434B5C;\n",
              "      box-shadow: 0px 1px 3px 1px rgba(0, 0, 0, 0.15);\n",
              "      filter: drop-shadow(0px 1px 2px rgba(0, 0, 0, 0.3));\n",
              "      fill: #FFFFFF;\n",
              "    }\n",
              "  </style>\n",
              "\n",
              "      <script>\n",
              "        const buttonEl =\n",
              "          document.querySelector('#df-ffb0ead0-0116-49b6-aae4-5c67dc315138 button.colab-df-convert');\n",
              "        buttonEl.style.display =\n",
              "          google.colab.kernel.accessAllowed ? 'block' : 'none';\n",
              "\n",
              "        async function convertToInteractive(key) {\n",
              "          const element = document.querySelector('#df-ffb0ead0-0116-49b6-aae4-5c67dc315138');\n",
              "          const dataTable =\n",
              "            await google.colab.kernel.invokeFunction('convertToInteractive',\n",
              "                                                     [key], {});\n",
              "          if (!dataTable) return;\n",
              "\n",
              "          const docLinkHtml = 'Like what you see? Visit the ' +\n",
              "            '<a target=\"_blank\" href=https://colab.research.google.com/notebooks/data_table.ipynb>data table notebook</a>'\n",
              "            + ' to learn more about interactive tables.';\n",
              "          element.innerHTML = '';\n",
              "          dataTable['output_type'] = 'display_data';\n",
              "          await google.colab.output.renderOutput(dataTable, element);\n",
              "          const docLink = document.createElement('div');\n",
              "          docLink.innerHTML = docLinkHtml;\n",
              "          element.appendChild(docLink);\n",
              "        }\n",
              "      </script>\n",
              "    </div>\n",
              "  </div>\n",
              "  "
            ]
          },
          "metadata": {},
          "execution_count": 131
        }
      ]
    },
    {
      "cell_type": "code",
      "source": [
        "############# Summer's previous kNN\n",
        "'''\n",
        "# creating a function to create and test a KNN model and output accuracy scores \n",
        "def k_nn(xtrain, ytrain, xtest, ytest, kvalues, metric):\n",
        "  knn_accuracy = []\n",
        "  clfs = []\n",
        "  for i in kvalues: \n",
        "    clf = KNeighborsClassifier(metric = metric, n_neighbors = i).fit(X_train, y_train)\n",
        "    clf_train_pred = clf.predict(X_train)\n",
        "    clf_test_pred = clf.predict(X_test)\n",
        "    clfs.append(clf)\n",
        "    knn_accuracy.append({'k-values':i, 'Training Accuracy': accuracy_score(clf_train_pred, y_train), \n",
        "                         'Test Accuracy': accuracy_score(clf_test_pred, y_test) })\n",
        "    print('K-value', i, 'complete')\n",
        "  return pd.DataFrame(knn_accuracy), clfs\n",
        "  '''"
      ],
      "metadata": {
        "id": "uB9JQB9ZBVEm",
        "colab": {
          "base_uri": "https://localhost:8080/",
          "height": 87
        },
        "outputId": "da3937f0-5abb-4944-a4a6-4d1bfd778375"
      },
      "execution_count": 132,
      "outputs": [
        {
          "output_type": "execute_result",
          "data": {
            "text/plain": [
              "\"\\n# creating a function to create and test a KNN model and output accuracy scores \\ndef k_nn(xtrain, ytrain, xtest, ytest, kvalues, metric):\\n  knn_accuracy = []\\n  clfs = []\\n  for i in kvalues: \\n    clf = KNeighborsClassifier(metric = metric, n_neighbors = i).fit(X_train, y_train)\\n    clf_train_pred = clf.predict(X_train)\\n    clf_test_pred = clf.predict(X_test)\\n    clfs.append(clf)\\n    knn_accuracy.append({'k-values':i, 'Training Accuracy': accuracy_score(clf_train_pred, y_train), \\n                         'Test Accuracy': accuracy_score(clf_test_pred, y_test) })\\n    print('K-value', i, 'complete')\\n  return pd.DataFrame(knn_accuracy), clfs\\n  \""
            ],
            "application/vnd.google.colaboratory.intrinsic+json": {
              "type": "string"
            }
          },
          "metadata": {},
          "execution_count": 132
        }
      ]
    },
    {
      "cell_type": "markdown",
      "source": [
        "# Summer's kNN Manhattan\n",
        "## Still need to add a for loop for k"
      ],
      "metadata": {
        "id": "HVOA6hBxOJ1M"
      }
    },
    {
      "cell_type": "code",
      "source": [
        "knnman_r = model(KNeighborsClassifier(),\n",
        "              1,\n",
        "              {'metric' : 'manhattan', 'n_neighbors' : 5},\n",
        "#              target_classes,\n",
        "              X_train, y_train, X_test, y_test,\n",
        "              cv = 0,\n",
        "              plot_cm = False,\n",
        "              plot_auc = False)\n",
        "clf_results3 = pd.concat([clf_results3, knnman_r])\n",
        "\n",
        "clf_results3"
      ],
      "metadata": {
        "id": "q88fHMzTOKEh",
        "colab": {
          "base_uri": "https://localhost:8080/",
          "height": 407
        },
        "outputId": "feef2e3c-634e-4dd2-86ab-62536f9355c3"
      },
      "execution_count": 133,
      "outputs": [
        {
          "output_type": "stream",
          "name": "stdout",
          "text": [
            "\n",
            "\n",
            " Fitting KNeighborsClassifier (iteration 1)... done in 0.133s.\n",
            "Validating KNeighborsClassifier (iteration 1)... done in 197.80s.\n",
            "\n",
            " KNeighborsClassifier (iteration 1)\n",
            "{'metric': 'manhattan', 'n_neighbors': 5}\n",
            "              precision    recall  f1-score   support\n",
            "\n",
            "           0       0.62      0.74      0.67      9005\n",
            "           1       0.37      0.30      0.33      5507\n",
            "           2       0.65      0.59      0.62      8257\n",
            "\n",
            "    accuracy                           0.58     22769\n",
            "   macro avg       0.55      0.54      0.54     22769\n",
            "weighted avg       0.57      0.58      0.57     22769\n",
            "\n"
          ]
        },
        {
          "output_type": "execute_result",
          "data": {
            "text/plain": [
              "               algorithm                              parameters                  fit_time  cv_time  val_time scores  train_acc  test_acc  roc_auc\n",
              "0  KNeighborsClassifier (iteration 1)  {'metric': 'minkowski', 'n_neighbors': 5}    0.14       0       89.02    ()      0.70       0.58       0   \n",
              "0  KNeighborsClassifier (iteration 1)  {'metric': 'manhattan', 'n_neighbors': 5}    0.13       0      197.80    ()      0.70       0.58       0   "
            ],
            "text/html": [
              "\n",
              "  <div id=\"df-b2daad15-814f-4237-ae16-0fc771e5c3c8\">\n",
              "    <div class=\"colab-df-container\">\n",
              "      <div>\n",
              "<style scoped>\n",
              "    .dataframe tbody tr th:only-of-type {\n",
              "        vertical-align: middle;\n",
              "    }\n",
              "\n",
              "    .dataframe tbody tr th {\n",
              "        vertical-align: top;\n",
              "    }\n",
              "\n",
              "    .dataframe thead th {\n",
              "        text-align: right;\n",
              "    }\n",
              "</style>\n",
              "<table border=\"1\" class=\"dataframe\">\n",
              "  <thead>\n",
              "    <tr style=\"text-align: center;\">\n",
              "      <th></th>\n",
              "      <th>algorithm</th>\n",
              "      <th>parameters</th>\n",
              "      <th>fit_time</th>\n",
              "      <th>cv_time</th>\n",
              "      <th>val_time</th>\n",
              "      <th>scores</th>\n",
              "      <th>train_acc</th>\n",
              "      <th>test_acc</th>\n",
              "      <th>roc_auc</th>\n",
              "    </tr>\n",
              "  </thead>\n",
              "  <tbody>\n",
              "    <tr>\n",
              "      <th>0</th>\n",
              "      <td>KNeighborsClassifier (iteration 1)</td>\n",
              "      <td>{'metric': 'minkowski', 'n_neighbors': 5}</td>\n",
              "      <td>0.14</td>\n",
              "      <td>0</td>\n",
              "      <td>89.02</td>\n",
              "      <td>()</td>\n",
              "      <td>0.70</td>\n",
              "      <td>0.58</td>\n",
              "      <td>0</td>\n",
              "    </tr>\n",
              "    <tr>\n",
              "      <th>0</th>\n",
              "      <td>KNeighborsClassifier (iteration 1)</td>\n",
              "      <td>{'metric': 'manhattan', 'n_neighbors': 5}</td>\n",
              "      <td>0.13</td>\n",
              "      <td>0</td>\n",
              "      <td>197.80</td>\n",
              "      <td>()</td>\n",
              "      <td>0.70</td>\n",
              "      <td>0.58</td>\n",
              "      <td>0</td>\n",
              "    </tr>\n",
              "  </tbody>\n",
              "</table>\n",
              "</div>\n",
              "      <button class=\"colab-df-convert\" onclick=\"convertToInteractive('df-b2daad15-814f-4237-ae16-0fc771e5c3c8')\"\n",
              "              title=\"Convert this dataframe to an interactive table.\"\n",
              "              style=\"display:none;\">\n",
              "        \n",
              "  <svg xmlns=\"http://www.w3.org/2000/svg\" height=\"24px\"viewBox=\"0 0 24 24\"\n",
              "       width=\"24px\">\n",
              "    <path d=\"M0 0h24v24H0V0z\" fill=\"none\"/>\n",
              "    <path d=\"M18.56 5.44l.94 2.06.94-2.06 2.06-.94-2.06-.94-.94-2.06-.94 2.06-2.06.94zm-11 1L8.5 8.5l.94-2.06 2.06-.94-2.06-.94L8.5 2.5l-.94 2.06-2.06.94zm10 10l.94 2.06.94-2.06 2.06-.94-2.06-.94-.94-2.06-.94 2.06-2.06.94z\"/><path d=\"M17.41 7.96l-1.37-1.37c-.4-.4-.92-.59-1.43-.59-.52 0-1.04.2-1.43.59L10.3 9.45l-7.72 7.72c-.78.78-.78 2.05 0 2.83L4 21.41c.39.39.9.59 1.41.59.51 0 1.02-.2 1.41-.59l7.78-7.78 2.81-2.81c.8-.78.8-2.07 0-2.86zM5.41 20L4 18.59l7.72-7.72 1.47 1.35L5.41 20z\"/>\n",
              "  </svg>\n",
              "      </button>\n",
              "      \n",
              "  <style>\n",
              "    .colab-df-container {\n",
              "      display:flex;\n",
              "      flex-wrap:wrap;\n",
              "      gap: 12px;\n",
              "    }\n",
              "\n",
              "    .colab-df-convert {\n",
              "      background-color: #E8F0FE;\n",
              "      border: none;\n",
              "      border-radius: 50%;\n",
              "      cursor: pointer;\n",
              "      display: none;\n",
              "      fill: #1967D2;\n",
              "      height: 32px;\n",
              "      padding: 0 0 0 0;\n",
              "      width: 32px;\n",
              "    }\n",
              "\n",
              "    .colab-df-convert:hover {\n",
              "      background-color: #E2EBFA;\n",
              "      box-shadow: 0px 1px 2px rgba(60, 64, 67, 0.3), 0px 1px 3px 1px rgba(60, 64, 67, 0.15);\n",
              "      fill: #174EA6;\n",
              "    }\n",
              "\n",
              "    [theme=dark] .colab-df-convert {\n",
              "      background-color: #3B4455;\n",
              "      fill: #D2E3FC;\n",
              "    }\n",
              "\n",
              "    [theme=dark] .colab-df-convert:hover {\n",
              "      background-color: #434B5C;\n",
              "      box-shadow: 0px 1px 3px 1px rgba(0, 0, 0, 0.15);\n",
              "      filter: drop-shadow(0px 1px 2px rgba(0, 0, 0, 0.3));\n",
              "      fill: #FFFFFF;\n",
              "    }\n",
              "  </style>\n",
              "\n",
              "      <script>\n",
              "        const buttonEl =\n",
              "          document.querySelector('#df-b2daad15-814f-4237-ae16-0fc771e5c3c8 button.colab-df-convert');\n",
              "        buttonEl.style.display =\n",
              "          google.colab.kernel.accessAllowed ? 'block' : 'none';\n",
              "\n",
              "        async function convertToInteractive(key) {\n",
              "          const element = document.querySelector('#df-b2daad15-814f-4237-ae16-0fc771e5c3c8');\n",
              "          const dataTable =\n",
              "            await google.colab.kernel.invokeFunction('convertToInteractive',\n",
              "                                                     [key], {});\n",
              "          if (!dataTable) return;\n",
              "\n",
              "          const docLinkHtml = 'Like what you see? Visit the ' +\n",
              "            '<a target=\"_blank\" href=https://colab.research.google.com/notebooks/data_table.ipynb>data table notebook</a>'\n",
              "            + ' to learn more about interactive tables.';\n",
              "          element.innerHTML = '';\n",
              "          dataTable['output_type'] = 'display_data';\n",
              "          await google.colab.output.renderOutput(dataTable, element);\n",
              "          const docLink = document.createElement('div');\n",
              "          docLink.innerHTML = docLinkHtml;\n",
              "          element.appendChild(docLink);\n",
              "        }\n",
              "      </script>\n",
              "    </div>\n",
              "  </div>\n",
              "  "
            ]
          },
          "metadata": {},
          "execution_count": 133
        }
      ]
    },
    {
      "cell_type": "markdown",
      "source": [
        "# Summer's NB Bernoulli"
      ],
      "metadata": {
        "id": "RGn4yhnPJ2sT"
      }
    },
    {
      "cell_type": "code",
      "source": [
        "alpha = [0.1,1,5,10]\n",
        "for a in alpha:\n",
        "  nbbern_r = model(BernoulliNB(),\n",
        "                   1,\n",
        "                   {'alpha' : a},\n",
        "#                   target_classes,\n",
        "                   X_train, y_train, X_test, y_test,\n",
        "                   cv = 0,\n",
        "                   plot_cm = False,\n",
        "                   plot_auc = False)\n",
        "  clf_results3 = pd.concat([clf_results3, nbbern_r])\n",
        "\n",
        "clf_results3"
      ],
      "metadata": {
        "id": "zg2diUu9J24r",
        "colab": {
          "base_uri": "https://localhost:8080/",
          "height": 1000
        },
        "outputId": "81014e4c-5607-4839-a451-ca076e356288"
      },
      "execution_count": 134,
      "outputs": [
        {
          "output_type": "stream",
          "name": "stdout",
          "text": [
            "\n",
            "\n",
            " Fitting BernoulliNB (iteration 1)... done in 0.190s.\n",
            "Validating BernoulliNB (iteration 1)... done in 0.33s.\n",
            "\n",
            " BernoulliNB (iteration 1)\n",
            "{'alpha': 0.1}\n",
            "              precision    recall  f1-score   support\n",
            "\n",
            "           0       0.72      0.54      0.62      9005\n",
            "           1       0.35      0.36      0.35      5507\n",
            "           2       0.60      0.74      0.66      8257\n",
            "\n",
            "    accuracy                           0.57     22769\n",
            "   macro avg       0.55      0.55      0.54     22769\n",
            "weighted avg       0.58      0.57      0.57     22769\n",
            "\n",
            "\n",
            "\n",
            " Fitting BernoulliNB (iteration 1)... done in 0.194s.\n",
            "Validating BernoulliNB (iteration 1)... done in 0.29s.\n",
            "\n",
            " BernoulliNB (iteration 1)\n",
            "{'alpha': 1}\n",
            "              precision    recall  f1-score   support\n",
            "\n",
            "           0       0.72      0.54      0.62      9005\n",
            "           1       0.35      0.36      0.35      5507\n",
            "           2       0.60      0.74      0.66      8257\n",
            "\n",
            "    accuracy                           0.57     22769\n",
            "   macro avg       0.55      0.55      0.54     22769\n",
            "weighted avg       0.58      0.57      0.57     22769\n",
            "\n",
            "\n",
            "\n",
            " Fitting BernoulliNB (iteration 1)... done in 0.188s.\n",
            "Validating BernoulliNB (iteration 1)... done in 0.29s.\n",
            "\n",
            " BernoulliNB (iteration 1)\n",
            "{'alpha': 5}\n",
            "              precision    recall  f1-score   support\n",
            "\n",
            "           0       0.72      0.54      0.62      9005\n",
            "           1       0.35      0.36      0.35      5507\n",
            "           2       0.60      0.74      0.66      8257\n",
            "\n",
            "    accuracy                           0.57     22769\n",
            "   macro avg       0.55      0.55      0.54     22769\n",
            "weighted avg       0.58      0.57      0.57     22769\n",
            "\n",
            "\n",
            "\n",
            " Fitting BernoulliNB (iteration 1)... done in 0.189s.\n",
            "Validating BernoulliNB (iteration 1)... done in 0.29s.\n",
            "\n",
            " BernoulliNB (iteration 1)\n",
            "{'alpha': 10}\n",
            "              precision    recall  f1-score   support\n",
            "\n",
            "           0       0.72      0.54      0.62      9005\n",
            "           1       0.35      0.36      0.35      5507\n",
            "           2       0.60      0.74      0.66      8257\n",
            "\n",
            "    accuracy                           0.57     22769\n",
            "   macro avg       0.55      0.55      0.54     22769\n",
            "weighted avg       0.58      0.57      0.57     22769\n",
            "\n"
          ]
        },
        {
          "output_type": "execute_result",
          "data": {
            "text/plain": [
              "               algorithm                              parameters                  fit_time  cv_time  val_time scores  train_acc  test_acc  roc_auc\n",
              "0  KNeighborsClassifier (iteration 1)  {'metric': 'minkowski', 'n_neighbors': 5}    0.14       0       89.02    ()      0.70       0.58       0   \n",
              "0  KNeighborsClassifier (iteration 1)  {'metric': 'manhattan', 'n_neighbors': 5}    0.13       0      197.80    ()      0.70       0.58       0   \n",
              "0           BernoulliNB (iteration 1)                             {'alpha': 0.1}    0.19       0        0.33    ()      0.56       0.57       0   \n",
              "0           BernoulliNB (iteration 1)                               {'alpha': 1}    0.19       0        0.29    ()      0.56       0.57       0   \n",
              "0           BernoulliNB (iteration 1)                               {'alpha': 5}    0.19       0        0.29    ()      0.56       0.57       0   \n",
              "0           BernoulliNB (iteration 1)                              {'alpha': 10}    0.19       0        0.29    ()      0.56       0.57       0   "
            ],
            "text/html": [
              "\n",
              "  <div id=\"df-dc157218-0f83-4a4f-9451-c7f1db37f2c6\">\n",
              "    <div class=\"colab-df-container\">\n",
              "      <div>\n",
              "<style scoped>\n",
              "    .dataframe tbody tr th:only-of-type {\n",
              "        vertical-align: middle;\n",
              "    }\n",
              "\n",
              "    .dataframe tbody tr th {\n",
              "        vertical-align: top;\n",
              "    }\n",
              "\n",
              "    .dataframe thead th {\n",
              "        text-align: right;\n",
              "    }\n",
              "</style>\n",
              "<table border=\"1\" class=\"dataframe\">\n",
              "  <thead>\n",
              "    <tr style=\"text-align: center;\">\n",
              "      <th></th>\n",
              "      <th>algorithm</th>\n",
              "      <th>parameters</th>\n",
              "      <th>fit_time</th>\n",
              "      <th>cv_time</th>\n",
              "      <th>val_time</th>\n",
              "      <th>scores</th>\n",
              "      <th>train_acc</th>\n",
              "      <th>test_acc</th>\n",
              "      <th>roc_auc</th>\n",
              "    </tr>\n",
              "  </thead>\n",
              "  <tbody>\n",
              "    <tr>\n",
              "      <th>0</th>\n",
              "      <td>KNeighborsClassifier (iteration 1)</td>\n",
              "      <td>{'metric': 'minkowski', 'n_neighbors': 5}</td>\n",
              "      <td>0.14</td>\n",
              "      <td>0</td>\n",
              "      <td>89.02</td>\n",
              "      <td>()</td>\n",
              "      <td>0.70</td>\n",
              "      <td>0.58</td>\n",
              "      <td>0</td>\n",
              "    </tr>\n",
              "    <tr>\n",
              "      <th>0</th>\n",
              "      <td>KNeighborsClassifier (iteration 1)</td>\n",
              "      <td>{'metric': 'manhattan', 'n_neighbors': 5}</td>\n",
              "      <td>0.13</td>\n",
              "      <td>0</td>\n",
              "      <td>197.80</td>\n",
              "      <td>()</td>\n",
              "      <td>0.70</td>\n",
              "      <td>0.58</td>\n",
              "      <td>0</td>\n",
              "    </tr>\n",
              "    <tr>\n",
              "      <th>0</th>\n",
              "      <td>BernoulliNB (iteration 1)</td>\n",
              "      <td>{'alpha': 0.1}</td>\n",
              "      <td>0.19</td>\n",
              "      <td>0</td>\n",
              "      <td>0.33</td>\n",
              "      <td>()</td>\n",
              "      <td>0.56</td>\n",
              "      <td>0.57</td>\n",
              "      <td>0</td>\n",
              "    </tr>\n",
              "    <tr>\n",
              "      <th>0</th>\n",
              "      <td>BernoulliNB (iteration 1)</td>\n",
              "      <td>{'alpha': 1}</td>\n",
              "      <td>0.19</td>\n",
              "      <td>0</td>\n",
              "      <td>0.29</td>\n",
              "      <td>()</td>\n",
              "      <td>0.56</td>\n",
              "      <td>0.57</td>\n",
              "      <td>0</td>\n",
              "    </tr>\n",
              "    <tr>\n",
              "      <th>0</th>\n",
              "      <td>BernoulliNB (iteration 1)</td>\n",
              "      <td>{'alpha': 5}</td>\n",
              "      <td>0.19</td>\n",
              "      <td>0</td>\n",
              "      <td>0.29</td>\n",
              "      <td>()</td>\n",
              "      <td>0.56</td>\n",
              "      <td>0.57</td>\n",
              "      <td>0</td>\n",
              "    </tr>\n",
              "    <tr>\n",
              "      <th>0</th>\n",
              "      <td>BernoulliNB (iteration 1)</td>\n",
              "      <td>{'alpha': 10}</td>\n",
              "      <td>0.19</td>\n",
              "      <td>0</td>\n",
              "      <td>0.29</td>\n",
              "      <td>()</td>\n",
              "      <td>0.56</td>\n",
              "      <td>0.57</td>\n",
              "      <td>0</td>\n",
              "    </tr>\n",
              "  </tbody>\n",
              "</table>\n",
              "</div>\n",
              "      <button class=\"colab-df-convert\" onclick=\"convertToInteractive('df-dc157218-0f83-4a4f-9451-c7f1db37f2c6')\"\n",
              "              title=\"Convert this dataframe to an interactive table.\"\n",
              "              style=\"display:none;\">\n",
              "        \n",
              "  <svg xmlns=\"http://www.w3.org/2000/svg\" height=\"24px\"viewBox=\"0 0 24 24\"\n",
              "       width=\"24px\">\n",
              "    <path d=\"M0 0h24v24H0V0z\" fill=\"none\"/>\n",
              "    <path d=\"M18.56 5.44l.94 2.06.94-2.06 2.06-.94-2.06-.94-.94-2.06-.94 2.06-2.06.94zm-11 1L8.5 8.5l.94-2.06 2.06-.94-2.06-.94L8.5 2.5l-.94 2.06-2.06.94zm10 10l.94 2.06.94-2.06 2.06-.94-2.06-.94-.94-2.06-.94 2.06-2.06.94z\"/><path d=\"M17.41 7.96l-1.37-1.37c-.4-.4-.92-.59-1.43-.59-.52 0-1.04.2-1.43.59L10.3 9.45l-7.72 7.72c-.78.78-.78 2.05 0 2.83L4 21.41c.39.39.9.59 1.41.59.51 0 1.02-.2 1.41-.59l7.78-7.78 2.81-2.81c.8-.78.8-2.07 0-2.86zM5.41 20L4 18.59l7.72-7.72 1.47 1.35L5.41 20z\"/>\n",
              "  </svg>\n",
              "      </button>\n",
              "      \n",
              "  <style>\n",
              "    .colab-df-container {\n",
              "      display:flex;\n",
              "      flex-wrap:wrap;\n",
              "      gap: 12px;\n",
              "    }\n",
              "\n",
              "    .colab-df-convert {\n",
              "      background-color: #E8F0FE;\n",
              "      border: none;\n",
              "      border-radius: 50%;\n",
              "      cursor: pointer;\n",
              "      display: none;\n",
              "      fill: #1967D2;\n",
              "      height: 32px;\n",
              "      padding: 0 0 0 0;\n",
              "      width: 32px;\n",
              "    }\n",
              "\n",
              "    .colab-df-convert:hover {\n",
              "      background-color: #E2EBFA;\n",
              "      box-shadow: 0px 1px 2px rgba(60, 64, 67, 0.3), 0px 1px 3px 1px rgba(60, 64, 67, 0.15);\n",
              "      fill: #174EA6;\n",
              "    }\n",
              "\n",
              "    [theme=dark] .colab-df-convert {\n",
              "      background-color: #3B4455;\n",
              "      fill: #D2E3FC;\n",
              "    }\n",
              "\n",
              "    [theme=dark] .colab-df-convert:hover {\n",
              "      background-color: #434B5C;\n",
              "      box-shadow: 0px 1px 3px 1px rgba(0, 0, 0, 0.15);\n",
              "      filter: drop-shadow(0px 1px 2px rgba(0, 0, 0, 0.3));\n",
              "      fill: #FFFFFF;\n",
              "    }\n",
              "  </style>\n",
              "\n",
              "      <script>\n",
              "        const buttonEl =\n",
              "          document.querySelector('#df-dc157218-0f83-4a4f-9451-c7f1db37f2c6 button.colab-df-convert');\n",
              "        buttonEl.style.display =\n",
              "          google.colab.kernel.accessAllowed ? 'block' : 'none';\n",
              "\n",
              "        async function convertToInteractive(key) {\n",
              "          const element = document.querySelector('#df-dc157218-0f83-4a4f-9451-c7f1db37f2c6');\n",
              "          const dataTable =\n",
              "            await google.colab.kernel.invokeFunction('convertToInteractive',\n",
              "                                                     [key], {});\n",
              "          if (!dataTable) return;\n",
              "\n",
              "          const docLinkHtml = 'Like what you see? Visit the ' +\n",
              "            '<a target=\"_blank\" href=https://colab.research.google.com/notebooks/data_table.ipynb>data table notebook</a>'\n",
              "            + ' to learn more about interactive tables.';\n",
              "          element.innerHTML = '';\n",
              "          dataTable['output_type'] = 'display_data';\n",
              "          await google.colab.output.renderOutput(dataTable, element);\n",
              "          const docLink = document.createElement('div');\n",
              "          docLink.innerHTML = docLinkHtml;\n",
              "          element.appendChild(docLink);\n",
              "        }\n",
              "      </script>\n",
              "    </div>\n",
              "  </div>\n",
              "  "
            ]
          },
          "metadata": {},
          "execution_count": 134
        }
      ]
    },
    {
      "cell_type": "code",
      "source": [
        "############# Summer's previous NB_bern\n",
        "'''\n",
        "# Bernoulli \n",
        "# creating a function to create and test a Naive Bayes model and output accuracy scores \n",
        "def nb_bern(xtrain, ytrain, xtest, ytest, alpha):\n",
        "  nb_bern_acc = []\n",
        "  clfs_bern = []\n",
        "  for a in alpha: \n",
        "    clf = BernoulliNB(alpha = a).fit(X_train, y_train)\n",
        "    clf_train_pred = clf.predict(X_train)\n",
        "    clf_test_pred = clf.predict(X_test)\n",
        "    clfs_bern.append(clf)\n",
        "    nb_bern_acc.append({'alpha':a, 'Training Accuracy': accuracy_score(clf_train_pred, y_train), \n",
        "                         'Test Accuracy': accuracy_score(clf_test_pred, y_test) })\n",
        "    print('alpha', a, 'complete')\n",
        "  return pd.DataFrame(nb_bern_acc), clfs_bern\n",
        "'''\n"
      ],
      "metadata": {
        "id": "fVvGq0byJ3ht",
        "colab": {
          "base_uri": "https://localhost:8080/",
          "height": 87
        },
        "outputId": "f610c0c4-04d1-4e4e-fcc2-0274d095100a"
      },
      "execution_count": 135,
      "outputs": [
        {
          "output_type": "execute_result",
          "data": {
            "text/plain": [
              "\"\\n# Bernoulli \\n# creating a function to create and test a Naive Bayes model and output accuracy scores \\ndef nb_bern(xtrain, ytrain, xtest, ytest, alpha):\\n  nb_bern_acc = []\\n  clfs_bern = []\\n  for a in alpha: \\n    clf = BernoulliNB(alpha = a).fit(X_train, y_train)\\n    clf_train_pred = clf.predict(X_train)\\n    clf_test_pred = clf.predict(X_test)\\n    clfs_bern.append(clf)\\n    nb_bern_acc.append({'alpha':a, 'Training Accuracy': accuracy_score(clf_train_pred, y_train), \\n                         'Test Accuracy': accuracy_score(clf_test_pred, y_test) })\\n    print('alpha', a, 'complete')\\n  return pd.DataFrame(nb_bern_acc), clfs_bern\\n\""
            ],
            "application/vnd.google.colaboratory.intrinsic+json": {
              "type": "string"
            }
          },
          "metadata": {},
          "execution_count": 135
        }
      ]
    },
    {
      "cell_type": "code",
      "source": [
        "############# Summer's previous NB_bern\n",
        "'''\n",
        "nb_bern_acc, nb_bern_clf = nb_bern(X_train, y_train, X_test, y_test, (np.arange(0,10,.5)))\n",
        "display(nb_bern_acc)\n",
        "'''\n"
      ],
      "metadata": {
        "id": "b38Kb-SKKTz1",
        "colab": {
          "base_uri": "https://localhost:8080/",
          "height": 35
        },
        "outputId": "c9b1ec98-2547-4390-b5c4-f0bb3b06b8f8"
      },
      "execution_count": 136,
      "outputs": [
        {
          "output_type": "execute_result",
          "data": {
            "text/plain": [
              "'\\nnb_bern_acc, nb_bern_clf = nb_bern(X_train, y_train, X_test, y_test, (np.arange(0,10,.5)))\\ndisplay(nb_bern_acc)\\n'"
            ],
            "application/vnd.google.colaboratory.intrinsic+json": {
              "type": "string"
            }
          },
          "metadata": {},
          "execution_count": 136
        }
      ]
    }
  ]
}