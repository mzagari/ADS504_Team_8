{
  "nbformat": 4,
  "nbformat_minor": 0,
  "metadata": {
    "colab": {
      "name": "Post Zoom Version",
      "provenance": [],
      "collapsed_sections": [],
      "mount_file_id": "1URTi9fwkKI0A-QX_702XwZKNkzXd1Ozo",
      "authorship_tag": "ABX9TyNCVHAkwrlzKs7Z4nfp/AIQ",
      "include_colab_link": true
    },
    "kernelspec": {
      "name": "python3",
      "display_name": "Python 3"
    },
    "language_info": {
      "name": "python"
    }
  },
  "cells": [
    {
      "cell_type": "markdown",
      "metadata": {
        "id": "view-in-github",
        "colab_type": "text"
      },
      "source": [
        "<a href=\"https://colab.research.google.com/github/mzagari/ADS504_Team_8/blob/main/Post_Zoom_Version.ipynb\" target=\"_parent\"><img src=\"https://colab.research.google.com/assets/colab-badge.svg\" alt=\"Open In Colab\"/></a>"
      ]
    },
    {
      "cell_type": "code",
      "source": [
        "__author__ = 'Martin Zagari, Summer Purschke, Dave Friesen'\n",
        "__email__ = 'mzagari@sandiego.edu, spurschke@sandiego.edu, dfriesen@sandiego.edu'\n",
        "__version__ = '1.0'\n",
        "__date__ = 'August 2022'\n",
        "__license__ = 'MIT'"
      ],
      "metadata": {
        "id": "JfRb1OwBBYD7"
      },
      "execution_count": 101,
      "outputs": []
    },
    {
      "cell_type": "code",
      "source": [
        "# Basics\n",
        "import numpy as np\n",
        "import pandas as pd\n",
        "\n",
        "# Visualization\n",
        "import matplotlib.pyplot as plt\n",
        "import seaborn as sns\n",
        "\n",
        "# Modeling\n",
        "from sklearn.preprocessing import LabelEncoder, OneHotEncoder, StandardScaler\n",
        "\n",
        "from sklearn.model_selection import train_test_split, GridSearchCV, cross_val_score\n",
        "from sklearn.pipeline import Pipeline, make_pipeline\n",
        "\n",
        "from sklearn.compose import ColumnTransformer\n",
        "\n",
        "from sklearn.tree import DecisionTreeClassifier\n",
        "from sklearn.linear_model import Perceptron\n",
        "from sklearn.neighbors import KNeighborsClassifier\n",
        "from sklearn.linear_model import LogisticRegression\n",
        "from sklearn.svm import LinearSVC\n",
        "\n",
        "from sklearn.metrics import accuracy_score, confusion_matrix, ConfusionMatrixDisplay, classification_report\n",
        "\n",
        "# Utilities\n",
        "import joblib\n",
        "import re\n",
        "from time import time\n",
        "import warnings\n",
        "#warnings.filterwarnings('ignore')\n",
        "#warnings.resetwarnings()\n",
        "\n",
        "# Set basic options for consistent output\n",
        "PRECISION = 2\n",
        "np.set_printoptions(precision = PRECISION)\n",
        "pd.set_option('display.float_format', lambda x: '%.2f' % x)\n",
        "pd.set_option('display.precision', PRECISION)\n",
        "pd.set_option('display.width', 1000)\n",
        "pd.set_option('display.colheader_justify', 'center')\n",
        "\n",
        "# Set Matplotlib defaults for consistent visualization look 'n' feel\n",
        "FONTSIZE_S = 10\n",
        "FONTSIZE_M = 12\n",
        "FONTSIZE_L = 14\n",
        "plt.style.use('default')\n",
        "plt.rcParams['figure.titlesize'] = FONTSIZE_L\n",
        "plt.rcParams['figure.figsize'] = (7, 7 / (16 / 9))\n",
        "plt.rcParams['figure.subplot.left'] = '0.1'\n",
        "plt.rcParams['figure.subplot.bottom'] = '0.1'\n",
        "plt.rcParams['figure.subplot.top'] = '0.9'\n",
        "plt.rcParams['figure.subplot.wspace'] = '0.4'\n",
        "plt.rcParams['lines.linewidth'] = '2'\n",
        "plt.rcParams['axes.linewidth'] = '2'\n",
        "plt.rcParams['axes.titlesize'] = '8'\n",
        "#plt.rcParams['axes.titleweight'] = 'bold'\n",
        "plt.rcParams['axes.labelsize'] = FONTSIZE_M\n",
        "plt.rcParams['xtick.labelsize'] = FONTSIZE_S\n",
        "plt.rcParams['ytick.labelsize'] = FONTSIZE_S\n",
        "plt.rcParams['grid.linewidth'] = '1'\n",
        "plt.rcParams['legend.fontsize'] = FONTSIZE_S\n",
        "plt.rcParams['legend.title_fontsize'] = FONTSIZE_S"
      ],
      "metadata": {
        "id": "6v0SDmdwFwfd"
      },
      "execution_count": 185,
      "outputs": []
    },
    {
      "cell_type": "code",
      "source": [
        "from google.colab import drive\n",
        "drive.mount('/content/drive')"
      ],
      "metadata": {
        "colab": {
          "base_uri": "https://localhost:8080/"
        },
        "id": "MJe-v159IkeM",
        "outputId": "da70ede1-e96a-4737-81bf-0dfa926e7dc3"
      },
      "execution_count": 186,
      "outputs": [
        {
          "output_type": "stream",
          "name": "stdout",
          "text": [
            "Drive already mounted at /content/drive; to attempt to forcibly remount, call drive.mount(\"/content/drive\", force_remount=True).\n"
          ]
        }
      ]
    },
    {
      "cell_type": "markdown",
      "source": [
        "# RUN for Local File Retrieval"
      ],
      "metadata": {
        "id": "_xJ3DhrKKeXA"
      }
    },
    {
      "cell_type": "code",
      "source": [
        "'''\n",
        "# Set working directory (depending on coder)\n",
        "#%cd '/Users/davidfriesen/Desktop/OneDrive/projects/ADS504_Team_8/data'\n",
        "\n",
        "# Set row count control totals\n",
        "structure_ctrl = sum(1 for line in open('csv_building_structure.csv'))\n",
        "ownership_ctrl = sum(1 for line in open('csv_building_ownership_and_use.csv'))\n",
        "damage_ctrl = sum(1 for line in open('csv_building_damage_assessment_featex.csv'))\n",
        "'''"
      ],
      "metadata": {
        "colab": {
          "base_uri": "https://localhost:8080/",
          "height": 70
        },
        "id": "kUUl2lD4Fw6c",
        "outputId": "88a1288d-ba0a-4a59-b902-154856c3c393"
      },
      "execution_count": 104,
      "outputs": [
        {
          "output_type": "execute_result",
          "data": {
            "text/plain": [
              "\"\\n# Set working directory (depending on coder)\\n#%cd '/Users/davidfriesen/Desktop/OneDrive/projects/ADS504_Team_8/data'\\n\\n# Set row count control totals\\nstructure_ctrl = sum(1 for line in open('csv_building_structure.csv'))\\nownership_ctrl = sum(1 for line in open('csv_building_ownership_and_use.csv'))\\ndamage_ctrl = sum(1 for line in open('csv_building_damage_assessment_featex.csv'))\\n\""
            ],
            "application/vnd.google.colaboratory.intrinsic+json": {
              "type": "string"
            }
          },
          "metadata": {},
          "execution_count": 104
        }
      ]
    },
    {
      "cell_type": "code",
      "source": [
        "'''\n",
        "# Read files, accomodating any 'bad' rows\n",
        "structure_df = pd.read_csv('csv_building_structure.csv', on_bad_lines = 'skip', low_memory = False)\n",
        "ownership_df = pd.read_csv('csv_building_ownership_and_use.csv', on_bad_lines = 'skip', low_memory = False)\n",
        "damage_df = pd.read_csv('csv_building_damage_assessment_featex.csv', on_bad_lines = 'skip', low_memory = False)\n",
        "'''"
      ],
      "metadata": {
        "colab": {
          "base_uri": "https://localhost:8080/",
          "height": 70
        },
        "id": "2w01t3YYLY5w",
        "outputId": "495353c9-7c0c-47de-aeca-9c30bf5e82bc"
      },
      "execution_count": 105,
      "outputs": [
        {
          "output_type": "execute_result",
          "data": {
            "text/plain": [
              "\"\\n# Read files, accomodating any 'bad' rows\\nstructure_df = pd.read_csv('csv_building_structure.csv', on_bad_lines = 'skip', low_memory = False)\\nownership_df = pd.read_csv('csv_building_ownership_and_use.csv', on_bad_lines = 'skip', low_memory = False)\\ndamage_df = pd.read_csv('csv_building_damage_assessment_featex.csv', on_bad_lines = 'skip', low_memory = False)\\n\""
            ],
            "application/vnd.google.colaboratory.intrinsic+json": {
              "type": "string"
            }
          },
          "metadata": {},
          "execution_count": 105
        }
      ]
    },
    {
      "cell_type": "markdown",
      "source": [
        "# Run for Google Drive/Colab/Cloud File Retrieval"
      ],
      "metadata": {
        "id": "xweFOlArKjQ4"
      }
    },
    {
      "cell_type": "code",
      "source": [
        "# Set row count control totals\n",
        "structure_ctrl = sum(1 for line in open('drive/MyDrive/ADS504/csv_building_structure.csv'))\n",
        "ownership_ctrl = sum(1 for line in open('drive/MyDrive/ADS504/csv_building_ownership_and_use.csv'))\n",
        "damage_ctrl = sum(1 for line in open('drive/MyDrive/ADS504/csv_building_damage_assessment_featex.csv'))\n",
        "\n",
        "damage_df = pd.read_csv('drive/MyDrive/ADS504/csv_building_damage_assessment_featex.csv', on_bad_lines = 'skip', low_memory = False)\n",
        "ownership_df = pd.read_csv('drive/MyDrive/ADS504/csv_building_ownership_and_use.csv', on_bad_lines = 'skip', low_memory = False)\n",
        "structure_df = pd.read_csv('drive/MyDrive/ADS504/csv_building_structure.csv', on_bad_lines = 'skip', low_memory = False)"
      ],
      "metadata": {
        "id": "52cU5NqRJQqA"
      },
      "execution_count": 187,
      "outputs": []
    },
    {
      "cell_type": "markdown",
      "source": [
        "# Confirm load counts"
      ],
      "metadata": {
        "id": "zoW5s5M7JZV3"
      }
    },
    {
      "cell_type": "code",
      "source": [
        "# Confirm load counts\n",
        "print('Structure: file=%0d, import=%0d, delta=%0d' %\n",
        "      (structure_ctrl, len(structure_df), structure_ctrl - len(structure_df)))\n",
        "print('Ownership: file=%0d, import=%0d, delta=%0d' %\n",
        "      (ownership_ctrl, len(ownership_df), ownership_ctrl - len(ownership_df)))\n",
        "print('Damage: file=%0d, import=%0d, delta=%0d' %\n",
        "      (damage_ctrl, len(damage_df), damage_ctrl - len(damage_df)))"
      ],
      "metadata": {
        "colab": {
          "base_uri": "https://localhost:8080/"
        },
        "id": "R3a74zwRJZv6",
        "outputId": "aac2a6da-35b4-45bc-a32e-413ff803ea0f"
      },
      "execution_count": 188,
      "outputs": [
        {
          "output_type": "stream",
          "name": "stdout",
          "text": [
            "Structure: file=762106, import=762105, delta=1\n",
            "Ownership: file=762106, import=762105, delta=1\n",
            "Damage: file=762106, import=762105, delta=1\n"
          ]
        }
      ]
    },
    {
      "cell_type": "code",
      "source": [
        "structure_df.info()"
      ],
      "metadata": {
        "colab": {
          "base_uri": "https://localhost:8080/"
        },
        "id": "aiCbcNmRFxAV",
        "outputId": "2c0362f9-f4fa-4d06-90c0-eafa73a64cbf"
      },
      "execution_count": 189,
      "outputs": [
        {
          "output_type": "stream",
          "name": "stdout",
          "text": [
            "<class 'pandas.core.frame.DataFrame'>\n",
            "RangeIndex: 762105 entries, 0 to 762104\n",
            "Data columns (total 31 columns):\n",
            " #   Column                                  Non-Null Count   Dtype  \n",
            "---  ------                                  --------------   -----  \n",
            " 0   building_id                             762105 non-null  float64\n",
            " 1   district_id                             762105 non-null  int64  \n",
            " 2   vdcmun_id                               762105 non-null  int64  \n",
            " 3   ward_id                                 762105 non-null  int64  \n",
            " 4   count_floors_pre_eq                     762105 non-null  int64  \n",
            " 5   count_floors_post_eq                    762105 non-null  int64  \n",
            " 6   age_building                            762105 non-null  int64  \n",
            " 7   plinth_area_sq_ft                       762105 non-null  int64  \n",
            " 8   height_ft_pre_eq                        762105 non-null  int64  \n",
            " 9   height_ft_post_eq                       762105 non-null  int64  \n",
            " 10  land_surface_condition                  762105 non-null  object \n",
            " 11  foundation_type                         762105 non-null  object \n",
            " 12  roof_type                               762105 non-null  object \n",
            " 13  ground_floor_type                       762105 non-null  object \n",
            " 14  other_floor_type                        762105 non-null  object \n",
            " 15  position                                762104 non-null  object \n",
            " 16  plan_configuration                      762104 non-null  object \n",
            " 17  has_superstructure_adobe_mud            762105 non-null  int64  \n",
            " 18  has_superstructure_mud_mortar_stone     762105 non-null  int64  \n",
            " 19  has_superstructure_stone_flag           762105 non-null  int64  \n",
            " 20  has_superstructure_cement_mortar_stone  762105 non-null  int64  \n",
            " 21  has_superstructure_mud_mortar_brick     762105 non-null  int64  \n",
            " 22  has_superstructure_cement_mortar_brick  762105 non-null  int64  \n",
            " 23  has_superstructure_timber               762105 non-null  int64  \n",
            " 24  has_superstructure_bamboo               762105 non-null  int64  \n",
            " 25  has_superstructure_rc_non_engineered    762105 non-null  int64  \n",
            " 26  has_superstructure_rc_engineered        762105 non-null  int64  \n",
            " 27  has_superstructure_other                762105 non-null  int64  \n",
            " 28  condition_post_eq                       762105 non-null  object \n",
            " 29  damage_grade                            762093 non-null  object \n",
            " 30  technical_solution_proposed             762093 non-null  object \n",
            "dtypes: float64(1), int64(20), object(10)\n",
            "memory usage: 180.2+ MB\n"
          ]
        }
      ]
    },
    {
      "cell_type": "code",
      "source": [
        "ownership_df.info()"
      ],
      "metadata": {
        "colab": {
          "base_uri": "https://localhost:8080/"
        },
        "id": "_Dg8F8xlFxDC",
        "outputId": "dc84c890-14ab-4f5f-e910-19bd745cd646"
      },
      "execution_count": 190,
      "outputs": [
        {
          "output_type": "stream",
          "name": "stdout",
          "text": [
            "<class 'pandas.core.frame.DataFrame'>\n",
            "RangeIndex: 762105 entries, 0 to 762104\n",
            "Data columns (total 17 columns):\n",
            " #   Column                         Non-Null Count   Dtype  \n",
            "---  ------                         --------------   -----  \n",
            " 0   building_id                    762105 non-null  float64\n",
            " 1   district_id                    762105 non-null  int64  \n",
            " 2   vdcmun_id                      762105 non-null  int64  \n",
            " 3   ward_id                        762105 non-null  int64  \n",
            " 4   legal_ownership_status         762105 non-null  object \n",
            " 5   count_families                 762103 non-null  float64\n",
            " 6   has_secondary_use              762095 non-null  float64\n",
            " 7   has_secondary_use_agriculture  762105 non-null  int64  \n",
            " 8   has_secondary_use_hotel        762105 non-null  int64  \n",
            " 9   has_secondary_use_rental       762105 non-null  int64  \n",
            " 10  has_secondary_use_institution  762105 non-null  int64  \n",
            " 11  has_secondary_use_school       762105 non-null  int64  \n",
            " 12  has_secondary_use_industry     762105 non-null  int64  \n",
            " 13  has_secondary_use_health_post  762105 non-null  int64  \n",
            " 14  has_secondary_use_gov_office   762105 non-null  int64  \n",
            " 15  has_secondary_use_use_police   762105 non-null  int64  \n",
            " 16  has_secondary_use_other        762105 non-null  int64  \n",
            "dtypes: float64(3), int64(13), object(1)\n",
            "memory usage: 98.8+ MB\n"
          ]
        }
      ]
    },
    {
      "cell_type": "code",
      "source": [
        "damage_df.info()"
      ],
      "metadata": {
        "colab": {
          "base_uri": "https://localhost:8080/"
        },
        "id": "91_NSzLSFxFY",
        "outputId": "0b424524-00de-469f-e5ee-45fea2b6b9fe"
      },
      "execution_count": 191,
      "outputs": [
        {
          "output_type": "stream",
          "name": "stdout",
          "text": [
            "<class 'pandas.core.frame.DataFrame'>\n",
            "RangeIndex: 762105 entries, 0 to 762104\n",
            "Data columns (total 17 columns):\n",
            " #   Column                                 Non-Null Count   Dtype  \n",
            "---  ------                                 --------------   -----  \n",
            " 0   building_id                            762105 non-null  float64\n",
            " 1   district_id                            762105 non-null  int64  \n",
            " 2   vdcmun_id                              762105 non-null  int64  \n",
            " 3   ward_id                                762105 non-null  int64  \n",
            " 4   damage_overall_collapse                500743 non-null  object \n",
            " 5   damage_overall_leaning                 500742 non-null  object \n",
            " 6   area_assesed                           762093 non-null  object \n",
            " 7   damage_grade                           762093 non-null  object \n",
            " 8   technical_solution_proposed            762093 non-null  object \n",
            " 9   has_geotechnical_risk                  762093 non-null  float64\n",
            " 10  has_geotechnical_risk_land_settlement  762105 non-null  int64  \n",
            " 11  has_geotechnical_risk_fault_crack      762105 non-null  int64  \n",
            " 12  has_geotechnical_risk_liquefaction     762105 non-null  int64  \n",
            " 13  has_geotechnical_risk_landslide        762105 non-null  int64  \n",
            " 14  has_geotechnical_risk_rock_fall        762105 non-null  int64  \n",
            " 15  has_geotechnical_risk_flood            762105 non-null  int64  \n",
            " 16  has_geotechnical_risk_other            762105 non-null  int64  \n",
            "dtypes: float64(2), int64(10), object(5)\n",
            "memory usage: 98.8+ MB\n"
          ]
        }
      ]
    },
    {
      "cell_type": "markdown",
      "source": [
        "# Build the primary working df for processing: 'building_df'"
      ],
      "metadata": {
        "id": "psN9QpoA65DU"
      }
    },
    {
      "cell_type": "code",
      "source": [
        "# Eliminate features considered n/a to problem statement and hypothesis\n",
        "structure_dr = structure_df.drop(columns = ['vdcmun_id', 'ward_id',\n",
        "                                            'height_ft_post_eq', 'condition_post_eq', 'technical_solution_proposed'])\n",
        "\n",
        "##################Drop Addl Cols\n",
        "structure_dr = structure_dr.drop(columns = ['count_floors_post_eq'])\n",
        "##################\n",
        "\n",
        "ownership_dr = ownership_df.drop(columns = ['district_id', 'vdcmun_id', 'ward_id']\n",
        ")\n",
        "damage_dr = damage_df.drop(columns=['district_id', 'vdcmun_id', 'ward_id', 'damage_grade'])\n",
        "\n",
        "##################Drop Addl Cols\n",
        "damage_dr = damage_dr.drop(columns=['damage_overall_collapse','damage_overall_leaning','technical_solution_proposed'])\n",
        "##################\n",
        "\n",
        "# Merge all three dataframes into common set of label and prospective features\n",
        "temp_df = pd.merge(structure_dr, ownership_dr, how = 'inner', on = 'building_id')\n",
        "building_df = pd.merge(temp_df, damage_dr, how = 'inner', on = 'building_id')\n",
        "building_df.drop('building_id', axis = 1, inplace = True)\n",
        "building_df.info()"
      ],
      "metadata": {
        "colab": {
          "base_uri": "https://localhost:8080/"
        },
        "id": "UXE6_BZcFxHw",
        "outputId": "4460a941-c8cf-4ed1-d666-f4b79d55ad04"
      },
      "execution_count": 347,
      "outputs": [
        {
          "output_type": "stream",
          "name": "stdout",
          "text": [
            "<class 'pandas.core.frame.DataFrame'>\n",
            "Int64Index: 762104 entries, 0 to 762103\n",
            "Data columns (total 46 columns):\n",
            " #   Column                                  Non-Null Count   Dtype  \n",
            "---  ------                                  --------------   -----  \n",
            " 0   district_id                             762104 non-null  int64  \n",
            " 1   count_floors_pre_eq                     762104 non-null  int64  \n",
            " 2   age_building                            762104 non-null  int64  \n",
            " 3   plinth_area_sq_ft                       762104 non-null  int64  \n",
            " 4   height_ft_pre_eq                        762104 non-null  int64  \n",
            " 5   land_surface_condition                  762104 non-null  object \n",
            " 6   foundation_type                         762104 non-null  object \n",
            " 7   roof_type                               762104 non-null  object \n",
            " 8   ground_floor_type                       762104 non-null  object \n",
            " 9   other_floor_type                        762104 non-null  object \n",
            " 10  position                                762103 non-null  object \n",
            " 11  plan_configuration                      762103 non-null  object \n",
            " 12  has_superstructure_adobe_mud            762104 non-null  int64  \n",
            " 13  has_superstructure_mud_mortar_stone     762104 non-null  int64  \n",
            " 14  has_superstructure_stone_flag           762104 non-null  int64  \n",
            " 15  has_superstructure_cement_mortar_stone  762104 non-null  int64  \n",
            " 16  has_superstructure_mud_mortar_brick     762104 non-null  int64  \n",
            " 17  has_superstructure_cement_mortar_brick  762104 non-null  int64  \n",
            " 18  has_superstructure_timber               762104 non-null  int64  \n",
            " 19  has_superstructure_bamboo               762104 non-null  int64  \n",
            " 20  has_superstructure_rc_non_engineered    762104 non-null  int64  \n",
            " 21  has_superstructure_rc_engineered        762104 non-null  int64  \n",
            " 22  has_superstructure_other                762104 non-null  int64  \n",
            " 23  damage_grade                            762092 non-null  object \n",
            " 24  legal_ownership_status                  762104 non-null  object \n",
            " 25  count_families                          762102 non-null  float64\n",
            " 26  has_secondary_use                       762094 non-null  float64\n",
            " 27  has_secondary_use_agriculture           762104 non-null  int64  \n",
            " 28  has_secondary_use_hotel                 762104 non-null  int64  \n",
            " 29  has_secondary_use_rental                762104 non-null  int64  \n",
            " 30  has_secondary_use_institution           762104 non-null  int64  \n",
            " 31  has_secondary_use_school                762104 non-null  int64  \n",
            " 32  has_secondary_use_industry              762104 non-null  int64  \n",
            " 33  has_secondary_use_health_post           762104 non-null  int64  \n",
            " 34  has_secondary_use_gov_office            762104 non-null  int64  \n",
            " 35  has_secondary_use_use_police            762104 non-null  int64  \n",
            " 36  has_secondary_use_other                 762104 non-null  int64  \n",
            " 37  area_assesed                            762092 non-null  object \n",
            " 38  has_geotechnical_risk                   762092 non-null  float64\n",
            " 39  has_geotechnical_risk_land_settlement   762104 non-null  int64  \n",
            " 40  has_geotechnical_risk_fault_crack       762104 non-null  int64  \n",
            " 41  has_geotechnical_risk_liquefaction      762104 non-null  int64  \n",
            " 42  has_geotechnical_risk_landslide         762104 non-null  int64  \n",
            " 43  has_geotechnical_risk_rock_fall         762104 non-null  int64  \n",
            " 44  has_geotechnical_risk_flood             762104 non-null  int64  \n",
            " 45  has_geotechnical_risk_other             762104 non-null  int64  \n",
            "dtypes: float64(3), int64(33), object(10)\n",
            "memory usage: 273.3+ MB\n"
          ]
        }
      ]
    },
    {
      "cell_type": "markdown",
      "source": [
        ""
      ],
      "metadata": {
        "id": "Ei4s_ZavRxF2"
      }
    },
    {
      "cell_type": "code",
      "source": [
        "# Identify target (y)\n",
        "target_col = 'damage_grade'\n",
        "\n",
        "# Summarize target class balance\n",
        "label_count = len(building_df)\n",
        "label_props = (building_df.groupby(target_col, dropna = False)[target_col].count() / label_count * 100).sort_values(ascending = False)\n",
        "print('Target class (label) proportions:'); print(label_props.to_string(header = False))"
      ],
      "metadata": {
        "colab": {
          "base_uri": "https://localhost:8080/"
        },
        "id": "Q-dYPCuORxSn",
        "outputId": "bbfc4726-ce57-4e9d-8b5c-e24db01f17bd"
      },
      "execution_count": 348,
      "outputs": [
        {
          "output_type": "stream",
          "name": "stdout",
          "text": [
            "Target class (label) proportions:\n",
            "Grade 5   36.18\n",
            "Grade 4   24.12\n",
            "Grade 3   17.90\n",
            "Grade 2   11.45\n",
            "Grade 1   10.34\n",
            "NaN        0.00\n"
          ]
        }
      ]
    },
    {
      "cell_type": "markdown",
      "source": [
        ""
      ],
      "metadata": {
        "id": "IvCQxrM8ReNm"
      }
    },
    {
      "cell_type": "code",
      "source": [
        "# Drop (relatively immaterial number of) null labels\n",
        "print('Starting rows:', len(building_df), end = ' ')\n",
        "\n",
        "#building_df.dropna(axis = 0, subset = [target_col], inplace = True)\n",
        "building_df.dropna(axis = 0, inplace = True)\n",
        "\n",
        "print('Ending rows:', len(building_df))\n",
        "\n",
        "target_classes = sorted(building_df[target_col].unique())"
      ],
      "metadata": {
        "colab": {
          "base_uri": "https://localhost:8080/"
        },
        "id": "JNJNwo9CReXY",
        "outputId": "9fb9945b-72e9-4cec-c6df-13e503f2ea0a"
      },
      "execution_count": 349,
      "outputs": [
        {
          "output_type": "stream",
          "name": "stdout",
          "text": [
            "Starting rows: 762104 Ending rows: 762091\n"
          ]
        }
      ]
    },
    {
      "cell_type": "markdown",
      "source": [
        "# Extract Targets after merge"
      ],
      "metadata": {
        "id": "T6ZRIG0MP5-p"
      }
    },
    {
      "cell_type": "code",
      "source": [
        "'''\n",
        "target1_damagegrade = pd.DataFrame(building_df['damage_grade'])\n",
        "target2_collapse = pd.DataFrame(building_df['damage_overall_collapse'])\n",
        "target3_leaning = pd.DataFrame(building_df['damage_overall_leaning'])\n",
        "target4_soln = pd.DataFrame(building_df['technical_solution_proposed'])\n",
        "target5_floors =   pd.DataFrame(building_df['count_floors_post_eq'])\n",
        "\n",
        "targets = pd.DataFrame(building_df[['damage_overall_collapse',\n",
        "                                    'damage_overall_leaning',\n",
        "                                    'damage_grade',\n",
        "                                    'technical_solution_proposed',\n",
        "                                    'count_floors_post_eq']])\n",
        "\n",
        "building_df = building_df.drop(columns=['damage_overall_collapse',\n",
        "                                        'damage_overall_leaning', \n",
        "                                        'damage_grade', \n",
        "                                        'technical_solution_proposed',\n",
        "                                        'count_floors_post_eq'])\n",
        "'''"
      ],
      "metadata": {
        "id": "HfxFEdz3Pm4W",
        "colab": {
          "base_uri": "https://localhost:8080/",
          "height": 156
        },
        "outputId": "0c953888-a27f-44ca-cd66-64fba0db5705"
      },
      "execution_count": 350,
      "outputs": [
        {
          "output_type": "execute_result",
          "data": {
            "text/plain": [
              "\"\\ntarget1_damagegrade = pd.DataFrame(building_df['damage_grade'])\\ntarget2_collapse = pd.DataFrame(building_df['damage_overall_collapse'])\\ntarget3_leaning = pd.DataFrame(building_df['damage_overall_leaning'])\\ntarget4_soln = pd.DataFrame(building_df['technical_solution_proposed'])\\ntarget5_floors =   pd.DataFrame(building_df['count_floors_post_eq'])\\n\\ntargets = pd.DataFrame(building_df[['damage_overall_collapse',\\n                                    'damage_overall_leaning',\\n                                    'damage_grade',\\n                                    'technical_solution_proposed',\\n                                    'count_floors_post_eq']])\\n\\nbuilding_df = building_df.drop(columns=['damage_overall_collapse',\\n                                        'damage_overall_leaning', \\n                                        'damage_grade', \\n                                        'technical_solution_proposed',\\n                                        'count_floors_post_eq'])\\n\""
            ],
            "application/vnd.google.colaboratory.intrinsic+json": {
              "type": "string"
            }
          },
          "metadata": {},
          "execution_count": 350
        }
      ]
    },
    {
      "cell_type": "code",
      "source": [
        "#################### Edited to allow easy selection of features\n",
        "\n",
        "# Identify prospective feature columns by 'type'\n",
        "num_cols = [\n",
        "    'age_building',\n",
        "            'plinth_area_sq_ft',\n",
        "            'height_ft_pre_eq',\n",
        "#            'count_floors_post_eq',\n",
        "            'count_families'\n",
        "            ]\n",
        "cat_cols = [\n",
        "    'land_surface_condition',\n",
        "            'foundation_type',\n",
        "            'roof_type',\n",
        "            'ground_floor_type',\n",
        "            'other_floor_type',\n",
        "            'position',\n",
        "            'plan_configuration',\n",
        "            'legal_ownership_status',\n",
        "            'district_id',\n",
        "#            'damage_overall_collapse',\n",
        "#            'damage_overall_leaning',          \n",
        "#            'technical_solution_proposed',\n",
        "#            'area_assesed'\n",
        "            ]\n",
        "bin_cols = [\n",
        "    'has_superstructure_adobe_mud',\n",
        "            'has_superstructure_mud_mortar_stone',\n",
        "            'has_superstructure_stone_flag',\n",
        "            'has_superstructure_cement_mortar_stone',\n",
        "            'has_superstructure_mud_mortar_brick',\n",
        "            'has_superstructure_cement_mortar_brick',\n",
        "            'has_superstructure_timber',\n",
        "            'has_superstructure_bamboo',\n",
        "            'has_superstructure_rc_non_engineered',\n",
        "            'has_superstructure_rc_engineered',\n",
        "            'has_superstructure_other',\n",
        "            'has_secondary_use',\n",
        " #           'has_secondary_use_agriculture',\n",
        " #           'has_secondary_use_hotel',\n",
        " #           'has_secondary_use_rental',\n",
        " #           'has_secondary_use_institution',\n",
        " #           'has_secondary_use_school',\n",
        " #           'has_secondary_use_industry',\n",
        " #           'has_secondary_use_health_post',\n",
        " #           'has_secondary_use_gov_office',\n",
        " #           'has_secondary_use_use_police',\n",
        " #           'has_secondary_use_other',\n",
        "            'has_geotechnical_risk',\n",
        " #           'has_geotechnical_risk_land_settlement',\n",
        " #           'has_geotechnical_risk_fault_crack',\n",
        " #           'has_geotechnical_risk_liquefaction',\n",
        " #           'has_geotechnical_risk_landslide',\n",
        " #           'has_geotechnical_risk_rock_fall',\n",
        " #           'has_geotechnical_risk_flood',\n",
        " #           'has_geotechnical_risk_other'\n",
        "            ]"
      ],
      "metadata": {
        "id": "fIGa_AaVFxPA"
      },
      "execution_count": 351,
      "outputs": []
    },
    {
      "cell_type": "code",
      "source": [
        "# Confirm [uniform] types\n",
        "print(building_df.dtypes[num_cols].to_string())\n",
        "print(building_df.dtypes[cat_cols].to_string())\n",
        "print(building_df.dtypes[bin_cols].to_string())"
      ],
      "metadata": {
        "colab": {
          "base_uri": "https://localhost:8080/"
        },
        "id": "_SmObLWbFxRa",
        "outputId": "ad63a43d-9831-49fc-80d0-dbfd8a330dc7"
      },
      "execution_count": 352,
      "outputs": [
        {
          "output_type": "stream",
          "name": "stdout",
          "text": [
            "age_building           int64\n",
            "plinth_area_sq_ft      int64\n",
            "height_ft_pre_eq       int64\n",
            "count_families       float64\n",
            "land_surface_condition    object\n",
            "foundation_type           object\n",
            "roof_type                 object\n",
            "ground_floor_type         object\n",
            "other_floor_type          object\n",
            "position                  object\n",
            "plan_configuration        object\n",
            "legal_ownership_status    object\n",
            "district_id                int64\n",
            "has_superstructure_adobe_mud                int64\n",
            "has_superstructure_mud_mortar_stone         int64\n",
            "has_superstructure_stone_flag               int64\n",
            "has_superstructure_cement_mortar_stone      int64\n",
            "has_superstructure_mud_mortar_brick         int64\n",
            "has_superstructure_cement_mortar_brick      int64\n",
            "has_superstructure_timber                   int64\n",
            "has_superstructure_bamboo                   int64\n",
            "has_superstructure_rc_non_engineered        int64\n",
            "has_superstructure_rc_engineered            int64\n",
            "has_superstructure_other                    int64\n",
            "has_secondary_use                         float64\n",
            "has_geotechnical_risk                     float64\n"
          ]
        }
      ]
    },
    {
      "cell_type": "markdown",
      "source": [
        "# Merging only selected features (from lists above)"
      ],
      "metadata": {
        "id": "RppEMfbS1QKl"
      }
    },
    {
      "cell_type": "code",
      "source": [
        "#################### New block that edits out columns with '#' in above block\n",
        "\n",
        "building_df= pd.concat([building_df[num_cols], \n",
        "                        building_df[cat_cols],\n",
        "                        building_df[bin_cols], \n",
        "                        building_df['damage_grade']], axis = 1)\n",
        "building_df.head()"
      ],
      "metadata": {
        "colab": {
          "base_uri": "https://localhost:8080/",
          "height": 386
        },
        "id": "Q0l9hi-npSxB",
        "outputId": "d4cdf147-1cde-4e98-ddc9-a62c45ebbe7a"
      },
      "execution_count": 353,
      "outputs": [
        {
          "output_type": "execute_result",
          "data": {
            "text/plain": [
              "   age_building  plinth_area_sq_ft  height_ft_pre_eq  count_families land_surface_condition foundation_type         roof_type         ground_floor_type other_floor_type    position    ... has_superstructure_mud_mortar_brick has_superstructure_cement_mortar_brick  has_superstructure_timber  has_superstructure_bamboo  has_superstructure_rc_non_engineered  has_superstructure_rc_engineered  has_superstructure_other  has_secondary_use  has_geotechnical_risk  damage_grade\n",
              "0        9              288                 9              1.00               Flat                Other      Bamboo/Timber-Light roof         Mud        Not applicable   Not attached  ...                   0                                    0                                0                          1                                0                                   0                             0                   0.00                 0.00              Grade 3  \n",
              "1       15              364                 9              1.00               Flat                Other      Bamboo/Timber-Light roof         Mud        Not applicable   Not attached  ...                   0                                    0                                0                          1                                0                                   0                             0                   0.00                 0.00              Grade 5  \n",
              "2       20              384                 9              1.00               Flat                Other      Bamboo/Timber-Light roof         Mud        Not applicable   Not attached  ...                   0                                    0                                0                          0                                0                                   0                             0                   0.00                 0.00              Grade 2  \n",
              "3       20              312                 9              1.00               Flat                Other      Bamboo/Timber-Light roof         Mud        Not applicable   Not attached  ...                   0                                    0                                0                          0                                0                                   0                             0                   0.00                 0.00              Grade 2  \n",
              "4       30              308                 9              1.00               Flat                Other      Bamboo/Timber-Light roof         Mud        Not applicable   Not attached  ...                   0                                    0                                0                          0                                0                                   0                             0                   0.00                 0.00              Grade 1  \n",
              "\n",
              "[5 rows x 27 columns]"
            ],
            "text/html": [
              "\n",
              "  <div id=\"df-e7accc83-4441-4899-aab9-d50c48a489b3\">\n",
              "    <div class=\"colab-df-container\">\n",
              "      <div>\n",
              "<style scoped>\n",
              "    .dataframe tbody tr th:only-of-type {\n",
              "        vertical-align: middle;\n",
              "    }\n",
              "\n",
              "    .dataframe tbody tr th {\n",
              "        vertical-align: top;\n",
              "    }\n",
              "\n",
              "    .dataframe thead th {\n",
              "        text-align: right;\n",
              "    }\n",
              "</style>\n",
              "<table border=\"1\" class=\"dataframe\">\n",
              "  <thead>\n",
              "    <tr style=\"text-align: center;\">\n",
              "      <th></th>\n",
              "      <th>age_building</th>\n",
              "      <th>plinth_area_sq_ft</th>\n",
              "      <th>height_ft_pre_eq</th>\n",
              "      <th>count_families</th>\n",
              "      <th>land_surface_condition</th>\n",
              "      <th>foundation_type</th>\n",
              "      <th>roof_type</th>\n",
              "      <th>ground_floor_type</th>\n",
              "      <th>other_floor_type</th>\n",
              "      <th>position</th>\n",
              "      <th>...</th>\n",
              "      <th>has_superstructure_mud_mortar_brick</th>\n",
              "      <th>has_superstructure_cement_mortar_brick</th>\n",
              "      <th>has_superstructure_timber</th>\n",
              "      <th>has_superstructure_bamboo</th>\n",
              "      <th>has_superstructure_rc_non_engineered</th>\n",
              "      <th>has_superstructure_rc_engineered</th>\n",
              "      <th>has_superstructure_other</th>\n",
              "      <th>has_secondary_use</th>\n",
              "      <th>has_geotechnical_risk</th>\n",
              "      <th>damage_grade</th>\n",
              "    </tr>\n",
              "  </thead>\n",
              "  <tbody>\n",
              "    <tr>\n",
              "      <th>0</th>\n",
              "      <td>9</td>\n",
              "      <td>288</td>\n",
              "      <td>9</td>\n",
              "      <td>1.00</td>\n",
              "      <td>Flat</td>\n",
              "      <td>Other</td>\n",
              "      <td>Bamboo/Timber-Light roof</td>\n",
              "      <td>Mud</td>\n",
              "      <td>Not applicable</td>\n",
              "      <td>Not attached</td>\n",
              "      <td>...</td>\n",
              "      <td>0</td>\n",
              "      <td>0</td>\n",
              "      <td>0</td>\n",
              "      <td>1</td>\n",
              "      <td>0</td>\n",
              "      <td>0</td>\n",
              "      <td>0</td>\n",
              "      <td>0.00</td>\n",
              "      <td>0.00</td>\n",
              "      <td>Grade 3</td>\n",
              "    </tr>\n",
              "    <tr>\n",
              "      <th>1</th>\n",
              "      <td>15</td>\n",
              "      <td>364</td>\n",
              "      <td>9</td>\n",
              "      <td>1.00</td>\n",
              "      <td>Flat</td>\n",
              "      <td>Other</td>\n",
              "      <td>Bamboo/Timber-Light roof</td>\n",
              "      <td>Mud</td>\n",
              "      <td>Not applicable</td>\n",
              "      <td>Not attached</td>\n",
              "      <td>...</td>\n",
              "      <td>0</td>\n",
              "      <td>0</td>\n",
              "      <td>0</td>\n",
              "      <td>1</td>\n",
              "      <td>0</td>\n",
              "      <td>0</td>\n",
              "      <td>0</td>\n",
              "      <td>0.00</td>\n",
              "      <td>0.00</td>\n",
              "      <td>Grade 5</td>\n",
              "    </tr>\n",
              "    <tr>\n",
              "      <th>2</th>\n",
              "      <td>20</td>\n",
              "      <td>384</td>\n",
              "      <td>9</td>\n",
              "      <td>1.00</td>\n",
              "      <td>Flat</td>\n",
              "      <td>Other</td>\n",
              "      <td>Bamboo/Timber-Light roof</td>\n",
              "      <td>Mud</td>\n",
              "      <td>Not applicable</td>\n",
              "      <td>Not attached</td>\n",
              "      <td>...</td>\n",
              "      <td>0</td>\n",
              "      <td>0</td>\n",
              "      <td>0</td>\n",
              "      <td>0</td>\n",
              "      <td>0</td>\n",
              "      <td>0</td>\n",
              "      <td>0</td>\n",
              "      <td>0.00</td>\n",
              "      <td>0.00</td>\n",
              "      <td>Grade 2</td>\n",
              "    </tr>\n",
              "    <tr>\n",
              "      <th>3</th>\n",
              "      <td>20</td>\n",
              "      <td>312</td>\n",
              "      <td>9</td>\n",
              "      <td>1.00</td>\n",
              "      <td>Flat</td>\n",
              "      <td>Other</td>\n",
              "      <td>Bamboo/Timber-Light roof</td>\n",
              "      <td>Mud</td>\n",
              "      <td>Not applicable</td>\n",
              "      <td>Not attached</td>\n",
              "      <td>...</td>\n",
              "      <td>0</td>\n",
              "      <td>0</td>\n",
              "      <td>0</td>\n",
              "      <td>0</td>\n",
              "      <td>0</td>\n",
              "      <td>0</td>\n",
              "      <td>0</td>\n",
              "      <td>0.00</td>\n",
              "      <td>0.00</td>\n",
              "      <td>Grade 2</td>\n",
              "    </tr>\n",
              "    <tr>\n",
              "      <th>4</th>\n",
              "      <td>30</td>\n",
              "      <td>308</td>\n",
              "      <td>9</td>\n",
              "      <td>1.00</td>\n",
              "      <td>Flat</td>\n",
              "      <td>Other</td>\n",
              "      <td>Bamboo/Timber-Light roof</td>\n",
              "      <td>Mud</td>\n",
              "      <td>Not applicable</td>\n",
              "      <td>Not attached</td>\n",
              "      <td>...</td>\n",
              "      <td>0</td>\n",
              "      <td>0</td>\n",
              "      <td>0</td>\n",
              "      <td>0</td>\n",
              "      <td>0</td>\n",
              "      <td>0</td>\n",
              "      <td>0</td>\n",
              "      <td>0.00</td>\n",
              "      <td>0.00</td>\n",
              "      <td>Grade 1</td>\n",
              "    </tr>\n",
              "  </tbody>\n",
              "</table>\n",
              "<p>5 rows × 27 columns</p>\n",
              "</div>\n",
              "      <button class=\"colab-df-convert\" onclick=\"convertToInteractive('df-e7accc83-4441-4899-aab9-d50c48a489b3')\"\n",
              "              title=\"Convert this dataframe to an interactive table.\"\n",
              "              style=\"display:none;\">\n",
              "        \n",
              "  <svg xmlns=\"http://www.w3.org/2000/svg\" height=\"24px\"viewBox=\"0 0 24 24\"\n",
              "       width=\"24px\">\n",
              "    <path d=\"M0 0h24v24H0V0z\" fill=\"none\"/>\n",
              "    <path d=\"M18.56 5.44l.94 2.06.94-2.06 2.06-.94-2.06-.94-.94-2.06-.94 2.06-2.06.94zm-11 1L8.5 8.5l.94-2.06 2.06-.94-2.06-.94L8.5 2.5l-.94 2.06-2.06.94zm10 10l.94 2.06.94-2.06 2.06-.94-2.06-.94-.94-2.06-.94 2.06-2.06.94z\"/><path d=\"M17.41 7.96l-1.37-1.37c-.4-.4-.92-.59-1.43-.59-.52 0-1.04.2-1.43.59L10.3 9.45l-7.72 7.72c-.78.78-.78 2.05 0 2.83L4 21.41c.39.39.9.59 1.41.59.51 0 1.02-.2 1.41-.59l7.78-7.78 2.81-2.81c.8-.78.8-2.07 0-2.86zM5.41 20L4 18.59l7.72-7.72 1.47 1.35L5.41 20z\"/>\n",
              "  </svg>\n",
              "      </button>\n",
              "      \n",
              "  <style>\n",
              "    .colab-df-container {\n",
              "      display:flex;\n",
              "      flex-wrap:wrap;\n",
              "      gap: 12px;\n",
              "    }\n",
              "\n",
              "    .colab-df-convert {\n",
              "      background-color: #E8F0FE;\n",
              "      border: none;\n",
              "      border-radius: 50%;\n",
              "      cursor: pointer;\n",
              "      display: none;\n",
              "      fill: #1967D2;\n",
              "      height: 32px;\n",
              "      padding: 0 0 0 0;\n",
              "      width: 32px;\n",
              "    }\n",
              "\n",
              "    .colab-df-convert:hover {\n",
              "      background-color: #E2EBFA;\n",
              "      box-shadow: 0px 1px 2px rgba(60, 64, 67, 0.3), 0px 1px 3px 1px rgba(60, 64, 67, 0.15);\n",
              "      fill: #174EA6;\n",
              "    }\n",
              "\n",
              "    [theme=dark] .colab-df-convert {\n",
              "      background-color: #3B4455;\n",
              "      fill: #D2E3FC;\n",
              "    }\n",
              "\n",
              "    [theme=dark] .colab-df-convert:hover {\n",
              "      background-color: #434B5C;\n",
              "      box-shadow: 0px 1px 3px 1px rgba(0, 0, 0, 0.15);\n",
              "      filter: drop-shadow(0px 1px 2px rgba(0, 0, 0, 0.3));\n",
              "      fill: #FFFFFF;\n",
              "    }\n",
              "  </style>\n",
              "\n",
              "      <script>\n",
              "        const buttonEl =\n",
              "          document.querySelector('#df-e7accc83-4441-4899-aab9-d50c48a489b3 button.colab-df-convert');\n",
              "        buttonEl.style.display =\n",
              "          google.colab.kernel.accessAllowed ? 'block' : 'none';\n",
              "\n",
              "        async function convertToInteractive(key) {\n",
              "          const element = document.querySelector('#df-e7accc83-4441-4899-aab9-d50c48a489b3');\n",
              "          const dataTable =\n",
              "            await google.colab.kernel.invokeFunction('convertToInteractive',\n",
              "                                                     [key], {});\n",
              "          if (!dataTable) return;\n",
              "\n",
              "          const docLinkHtml = 'Like what you see? Visit the ' +\n",
              "            '<a target=\"_blank\" href=https://colab.research.google.com/notebooks/data_table.ipynb>data table notebook</a>'\n",
              "            + ' to learn more about interactive tables.';\n",
              "          element.innerHTML = '';\n",
              "          dataTable['output_type'] = 'display_data';\n",
              "          await google.colab.output.renderOutput(dataTable, element);\n",
              "          const docLink = document.createElement('div');\n",
              "          docLink.innerHTML = docLinkHtml;\n",
              "          element.appendChild(docLink);\n",
              "        }\n",
              "      </script>\n",
              "    </div>\n",
              "  </div>\n",
              "  "
            ]
          },
          "metadata": {},
          "execution_count": 353
        }
      ]
    },
    {
      "cell_type": "code",
      "source": [
        "################# No longer need to name columns\n",
        "\n",
        "# Update types as needed (for consistency)\n",
        "\n",
        "building_df[num_cols] = building_df[num_cols].astype(int)\n",
        "building_df[bin_cols] = building_df[bin_cols].astype(int)\n",
        "#building_df['has_secondary_use'] = building_df['has_secondary_use'].astype(int)\n",
        "#building_df['has_geotechnical_risk'] = building_df['has_geotechnical_risk'].astype(int)"
      ],
      "metadata": {
        "id": "vaT6FQgrmJpf"
      },
      "execution_count": 354,
      "outputs": []
    },
    {
      "cell_type": "code",
      "source": [
        "# Confirm [uniform] types\n",
        "print(building_df.dtypes[num_cols].to_string())\n",
        "print(building_df.dtypes[cat_cols].to_string())\n",
        "print(building_df.dtypes[bin_cols].to_string())"
      ],
      "metadata": {
        "colab": {
          "base_uri": "https://localhost:8080/"
        },
        "id": "1vEHAQPpqrAS",
        "outputId": "744f33c6-c1da-40d6-e2f8-0c8cef086581"
      },
      "execution_count": 355,
      "outputs": [
        {
          "output_type": "stream",
          "name": "stdout",
          "text": [
            "age_building         int64\n",
            "plinth_area_sq_ft    int64\n",
            "height_ft_pre_eq     int64\n",
            "count_families       int64\n",
            "land_surface_condition    object\n",
            "foundation_type           object\n",
            "roof_type                 object\n",
            "ground_floor_type         object\n",
            "other_floor_type          object\n",
            "position                  object\n",
            "plan_configuration        object\n",
            "legal_ownership_status    object\n",
            "district_id                int64\n",
            "has_superstructure_adobe_mud              int64\n",
            "has_superstructure_mud_mortar_stone       int64\n",
            "has_superstructure_stone_flag             int64\n",
            "has_superstructure_cement_mortar_stone    int64\n",
            "has_superstructure_mud_mortar_brick       int64\n",
            "has_superstructure_cement_mortar_brick    int64\n",
            "has_superstructure_timber                 int64\n",
            "has_superstructure_bamboo                 int64\n",
            "has_superstructure_rc_non_engineered      int64\n",
            "has_superstructure_rc_engineered          int64\n",
            "has_superstructure_other                  int64\n",
            "has_secondary_use                         int64\n",
            "has_geotechnical_risk                     int64\n"
          ]
        }
      ]
    },
    {
      "cell_type": "code",
      "source": [
        "'''\n",
        "# Update types as needed (for consistency)\n",
        "\n",
        "building_df['count_families'] = building_df['count_families'].astype(int)\n",
        "building_df['has_superstructure_other'] = building_df['has_superstructure_other'].astype(int)\n",
        "building_df['has_secondary_use'] = building_df['has_secondary_use'].astype(int)\n",
        "building_df['has_geotechnical_risk'] = building_df['has_geotechnical_risk'].astype(int)"
      ],
      "metadata": {
        "id": "HJ3Xr79sFxUW",
        "colab": {
          "base_uri": "https://localhost:8080/",
          "height": 149
        },
        "outputId": "2bd3e0ab-5691-420d-86e2-c5cb2973bf9d"
      },
      "execution_count": 356,
      "outputs": [
        {
          "output_type": "error",
          "ename": "SyntaxError",
          "evalue": "ignored",
          "traceback": [
            "\u001b[0;36m  File \u001b[0;32m\"<ipython-input-356-fe0398674a92>\"\u001b[0;36m, line \u001b[0;32m7\u001b[0m\n\u001b[0;31m    building_df['has_geotechnical_risk'] = building_df['has_geotechnical_risk'].astype(int)\u001b[0m\n\u001b[0m                                                                                           \n^\u001b[0m\n\u001b[0;31mSyntaxError\u001b[0m\u001b[0;31m:\u001b[0m EOF while scanning triple-quoted string literal\n"
          ]
        }
      ]
    },
    {
      "cell_type": "markdown",
      "source": [
        "# Sample the full df to run model tests"
      ],
      "metadata": {
        "id": "cO_F8-3ZziS7"
      }
    },
    {
      "cell_type": "code",
      "source": [
        "building_df = building_df.sample(frac=.1, random_state=42)"
      ],
      "metadata": {
        "id": "3z1Y8uWPzh27"
      },
      "execution_count": 357,
      "outputs": []
    },
    {
      "cell_type": "markdown",
      "source": [
        "#Remap the target before splitting"
      ],
      "metadata": {
        "id": "5XWH8heN2kij"
      }
    },
    {
      "cell_type": "code",
      "source": [
        "####################### Remap the target\n",
        "\n",
        "dict = {'Grade 1' : 0, \n",
        "        'Grade 2' : 0,\n",
        "        'Grade 3' : 0,\n",
        "        'Grade 4' : 1,\n",
        "        'Grade 5' : 2\n",
        "        }\n",
        "  \n",
        "# Remap the values of the dataframe\n",
        "building_df = building_df.replace({'damage_grade': dict})"
      ],
      "metadata": {
        "id": "GX6ImTn-2kun"
      },
      "execution_count": 358,
      "outputs": []
    },
    {
      "cell_type": "code",
      "source": [
        "\n",
        "\n",
        "# Segregate data into predictor (X) and target (y) dataframes\n",
        "building_X = building_df.loc[:, building_df.columns != 'damage_grade'].copy()\n",
        "building_y = building_df['damage_grade']\n",
        "\n",
        "# Partition data 70/30, stratifying for class balance (ref. above)\n",
        "X_train, X_test, y_train, y_test = train_test_split(\n",
        "    building_X, building_y, test_size = 0.3, random_state = 42, stratify = building_y\n",
        ")"
      ],
      "metadata": {
        "id": "MF-t6OqwFxXF"
      },
      "execution_count": 359,
      "outputs": []
    },
    {
      "cell_type": "code",
      "source": [
        "building_y.head()"
      ],
      "metadata": {
        "colab": {
          "base_uri": "https://localhost:8080/"
        },
        "id": "GPSOwFfO3nlL",
        "outputId": "cd6a41cf-3032-4622-8c8b-62a555fcb22c"
      },
      "execution_count": 360,
      "outputs": [
        {
          "output_type": "execute_result",
          "data": {
            "text/plain": [
              "7532      0\n",
              "336294    1\n",
              "266036    2\n",
              "225007    2\n",
              "132635    1\n",
              "Name: damage_grade, dtype: int64"
            ]
          },
          "metadata": {},
          "execution_count": 360
        }
      ]
    },
    {
      "cell_type": "code",
      "source": [
        "na_df = pd.DataFrame(X_train[num_cols + cat_cols + bin_cols].isna().sum()) / len(X_train) * 100\n",
        "na_df.index.name = 'column'; na_df.reset_index(inplace = True)\n",
        "print('Proportion of nulls:'); print(na_df[na_df[0] > 0].to_string(index = False, header = False))"
      ],
      "metadata": {
        "id": "DLhJGx_HFxZk",
        "colab": {
          "base_uri": "https://localhost:8080/"
        },
        "outputId": "c42fc7c1-b4cb-4688-a1a6-e58330307f2b"
      },
      "execution_count": 361,
      "outputs": [
        {
          "output_type": "stream",
          "name": "stdout",
          "text": [
            "Proportion of nulls:\n",
            "Empty DataFrame\n",
            "Columns: [column, 0]\n",
            "Index: []\n"
          ]
        }
      ]
    },
    {
      "cell_type": "code",
      "source": [
        "# Address missing/null values here? Or, pipeline? For both train, test. . .\n",
        "\n",
        "############## Eliminated\n",
        "'''\n",
        "X_train['damage_overall_collapse'].fillna('[missing]', inplace = True)\n",
        "X_test['damage_overall_collapse'].fillna('[missing]', inplace = True)\n",
        "\n",
        "X_train['damage_overall_leaning'].fillna('[missing]', inplace = True)\n",
        "X_test['damage_overall_leaning'].fillna('[missing]', inplace = True)\n",
        "'''"
      ],
      "metadata": {
        "id": "mOXnTJiSFxcK"
      },
      "execution_count": null,
      "outputs": []
    },
    {
      "cell_type": "code",
      "source": [
        "cat_count = len(X_train)\n",
        "for cc in cat_cols:\n",
        "    print()\n",
        "    print(cc, '-')\n",
        "    for cv in pd.unique(X_train[cc]):\n",
        "        if isinstance(cv, float) != True:\n",
        "            print(cv, '(%.2f)' % (X_train[X_train[cc] == cv][cc].count() / cat_count * 100))"
      ],
      "metadata": {
        "id": "Xh1R8Iu8Fxes",
        "colab": {
          "base_uri": "https://localhost:8080/"
        },
        "outputId": "8b9feeba-24d5-4511-d2ba-6b18f58e5d75"
      },
      "execution_count": 362,
      "outputs": [
        {
          "output_type": "stream",
          "name": "stdout",
          "text": [
            "\n",
            "land_surface_condition -\n",
            "Flat (82.81)\n",
            "Moderate slope (13.78)\n",
            "Steep slope (3.42)\n",
            "\n",
            "foundation_type -\n",
            "Mud mortar-Stone/Brick (82.36)\n",
            "Bamboo/Timber (7.52)\n",
            "Other (0.61)\n",
            "RC (4.20)\n",
            "Cement-Stone/Brick (5.31)\n",
            "\n",
            "roof_type -\n",
            "Bamboo/Timber-Light roof (65.93)\n",
            "Bamboo/Timber-Heavy roof (28.17)\n",
            "RCC/RB/RBC (5.90)\n",
            "\n",
            "ground_floor_type -\n",
            "Mud (81.00)\n",
            "RC (9.60)\n",
            "Brick/Stone (8.80)\n",
            "Timber (0.49)\n",
            "Other (0.12)\n",
            "\n",
            "other_floor_type -\n",
            "TImber/Bamboo-Mud (63.55)\n",
            "Timber-Planck (16.60)\n",
            "Not applicable (15.56)\n",
            "RCC/RB/RBC (4.29)\n",
            "\n",
            "position -\n",
            "Not attached (79.13)\n",
            "Attached-2 side (3.59)\n",
            "Attached-1 side (17.09)\n",
            "Attached-3 side (0.19)\n",
            "\n",
            "plan_configuration -\n",
            "Rectangular (95.82)\n",
            "L-shape (1.42)\n",
            "Square (2.34)\n",
            "Multi-projected (0.14)\n",
            "T-shape (0.12)\n",
            "U-shape (0.06)\n",
            "Others (0.07)\n",
            "E-shape (0.01)\n",
            "H-shape (0.01)\n",
            "Building with Central Courtyard (0.01)\n",
            "\n",
            "legal_ownership_status -\n",
            "Private (96.06)\n",
            "Institutional (1.00)\n",
            "Public (2.49)\n",
            "Other (0.44)\n",
            "\n",
            "district_id -\n",
            "23 (11.66)\n",
            "28 (10.30)\n",
            "24 (12.96)\n",
            "20 (9.09)\n",
            "12 (5.03)\n",
            "36 (10.12)\n",
            "29 (1.69)\n",
            "21 (7.74)\n",
            "22 (7.91)\n",
            "31 (11.84)\n",
            "30 (11.65)\n"
          ]
        }
      ]
    },
    {
      "cell_type": "code",
      "source": [
        "# Encode categorical label (y)\n",
        "label_enc = LabelEncoder().fit(y_train)\n",
        "y_train = label_enc.transform(y_train)\n",
        "y_test = label_enc.transform(y_test)\n",
        "\n",
        "# Encode other here? Or, pipeline (currently handled in pipeline)?"
      ],
      "metadata": {
        "id": "wTg0PXWfFxhR"
      },
      "execution_count": 363,
      "outputs": []
    },
    {
      "cell_type": "code",
      "source": [
        "print('Skewness:'); print(pd.DataFrame(building_X[num_cols].skew()).to_string(header = False))"
      ],
      "metadata": {
        "id": "BVlW6dmLFxjs",
        "colab": {
          "base_uri": "https://localhost:8080/"
        },
        "outputId": "b3803423-3481-4ee6-c38e-87c78c1bb924"
      },
      "execution_count": 364,
      "outputs": [
        {
          "output_type": "stream",
          "name": "stdout",
          "text": [
            "Skewness:\n",
            "age_building      13.82\n",
            "plinth_area_sq_ft  3.77\n",
            "height_ft_pre_eq   2.53\n",
            "count_families     1.35\n"
          ]
        }
      ]
    },
    {
      "cell_type": "code",
      "source": [
        "# Address outliers here?"
      ],
      "metadata": {
        "id": "9xA9K9NeFxl2"
      },
      "execution_count": null,
      "outputs": []
    },
    {
      "cell_type": "code",
      "source": [
        "# Address centering/scaling here? Or, pipeline (currently handled in pipeline)?"
      ],
      "metadata": {
        "id": "9-u2iv_fFxob"
      },
      "execution_count": null,
      "outputs": []
    },
    {
      "cell_type": "code",
      "source": [
        "print(building_X[bin_cols].max() - building_X[bin_cols].min())"
      ],
      "metadata": {
        "id": "sz6eKknZFxq9",
        "colab": {
          "base_uri": "https://localhost:8080/"
        },
        "outputId": "18b6437d-9649-456f-8eb0-01a3bc6e6222"
      },
      "execution_count": 365,
      "outputs": [
        {
          "output_type": "stream",
          "name": "stdout",
          "text": [
            "has_superstructure_adobe_mud              1\n",
            "has_superstructure_mud_mortar_stone       1\n",
            "has_superstructure_stone_flag             1\n",
            "has_superstructure_cement_mortar_stone    1\n",
            "has_superstructure_mud_mortar_brick       1\n",
            "has_superstructure_cement_mortar_brick    1\n",
            "has_superstructure_timber                 1\n",
            "has_superstructure_bamboo                 1\n",
            "has_superstructure_rc_non_engineered      1\n",
            "has_superstructure_rc_engineered          1\n",
            "has_superstructure_other                  1\n",
            "has_secondary_use                         1\n",
            "has_geotechnical_risk                     1\n",
            "dtype: int64\n"
          ]
        }
      ]
    },
    {
      "cell_type": "code",
      "source": [
        "#\n",
        "corr_df = X_train[num_cols].corr()\n",
        "corr_df.rename(columns = lambda s: s[0:19], index = lambda s: s[0:19], inplace = True)\n",
        "print(corr_df)\n",
        "\n",
        "#\n",
        "# Do something like Cramer's V for categorical correlation?"
      ],
      "metadata": {
        "id": "xmtM3cYbHBNY",
        "colab": {
          "base_uri": "https://localhost:8080/"
        },
        "outputId": "a1ea6402-440f-4d13-e133-689218db184a"
      },
      "execution_count": 366,
      "outputs": [
        {
          "output_type": "stream",
          "name": "stdout",
          "text": [
            "                   age_building  plinth_area_sq_ft  height_ft_pre_eq  count_families\n",
            "age_building           1.00           -0.01               0.03             0.00     \n",
            "plinth_area_sq_ft     -0.01            1.00               0.20             0.10     \n",
            "height_ft_pre_eq       0.03            0.20               1.00             0.06     \n",
            "count_families         0.00            0.10               0.06             1.00     \n"
          ]
        }
      ]
    },
    {
      "cell_type": "code",
      "source": [
        "# Standardized modeling function, to create and execute a modeling pipeline through\n",
        "#   to model performance metrics\n",
        "def model(algorithm, \n",
        "          iteration, \n",
        "          params, \n",
        "#          classes, \n",
        "          X_tr, y_tr, X_te, y_te, \n",
        "          cv, \n",
        "          plot_cm):\n",
        "    # Create transformers\n",
        "    cat_encoder = OneHotEncoder(handle_unknown = 'ignore', sparse = False)\n",
        "    standardizer = StandardScaler()\n",
        "    \n",
        "    # Create preprocessor\n",
        "    cat_transformer = make_pipeline(cat_encoder)\n",
        "    num_transformer = make_pipeline(standardizer)\n",
        "    preprocessor = ColumnTransformer(\n",
        "        [('cat', cat_transformer, cat_cols),\n",
        "         ('num', num_transformer, num_cols)]\n",
        "    )\n",
        "\n",
        "    # Prepare algorithm with hyperparameters+\n",
        "    algorithm.set_params(**params)\n",
        "    algorithm_name = type(algorithm).__name__ + ' (iteration ' + str(iteration) + ')'\n",
        "    \n",
        "    # Create pipeline and cross-validate model (for later output)\n",
        "    pipe = make_pipeline(preprocessor, algorithm)\n",
        "    \n",
        "    # Fit model\n",
        "    print('\\n\\n', 'Fitting ' + algorithm_name + '...', end = ' ')\n",
        "    fit_start = time()\n",
        "    pipe.fit(X_tr, y_tr)\n",
        "    fit_time = time() - fit_start\n",
        "    print('done in %0.3fs.' % fit_time)\n",
        "    \n",
        "    # Cross-validate model\n",
        "    scores = []\n",
        "    cv_time = 0\n",
        "    if (cv > 0):\n",
        "        print('Cross-validating ' + algorithm_name + '...', end = ' ')\n",
        "        cv_start = time()\n",
        "        scores = cross_val_score(pipe, X_tr, y_tr, cv = cv, scoring = 'accuracy')\n",
        "        cv_time = time() - cv_start\n",
        "        print('done in %0.3fs.' % cv_time)\n",
        "        print(scores)\n",
        "    \n",
        "    # Validate model\n",
        "    print('Validating ' + algorithm_name + '...', end = ' ')\n",
        "    val_start = time()\n",
        "    y_tr_pred = pipe.predict(X_tr)\n",
        "    y_te_pred = pipe.predict(X_te)\n",
        "    val_time = time() - val_start\n",
        "    print('done in %0.2fs.' % val_time)\n",
        "\n",
        "    # Show validation results\n",
        "    if plot_cm:\n",
        "        fig, ax = plt.subplots()\n",
        "        cmd = ConfusionMatrixDisplay(confusion_matrix(y_te, y_te_pred), display_labels = classes)\n",
        "        cmd.plot(ax = ax)\n",
        "        plt.suptitle(algorithm_name, y = 1)\n",
        "        plt.title(params)\n",
        "        plt.show()\n",
        "\n",
        "    print('\\n', algorithm_name)\n",
        "    print(params)\n",
        "    print(classification_report(y_te, y_te_pred))    \n",
        "    \n",
        "    # Persist pipeline (+model)\n",
        "    pipe_filename = algorithm_name + '.pipe'\n",
        "    joblib.dump(pipe, pipe_filename)\n",
        "    \n",
        "    # Persist results\n",
        "    results = []\n",
        "    results.append ({\n",
        "        'algorithm': algorithm_name,\n",
        "        'parameters': params,\n",
        "        'fit_time': fit_time,\n",
        "        'cv_time': cv_time,\n",
        "        'val_time': val_time,\n",
        "        'scores': tuple(scores),\n",
        "        'train_acc': accuracy_score(y_tr_pred, y_tr),\n",
        "        'test_acc': accuracy_score(y_te_pred, y_te)\n",
        "    })\n",
        "    results_filename = algorithm_name + '.results'\n",
        "    joblib.dump(results, results_filename)\n",
        "\n",
        "    return pd.DataFrame(results)"
      ],
      "metadata": {
        "id": "QBU8Py3WHBQD"
      },
      "execution_count": 367,
      "outputs": []
    },
    {
      "cell_type": "code",
      "source": [
        "# Iterate on models (preliminary)\n",
        "clf_results = pd.DataFrame()\n",
        "\n",
        "############### Function Structure\n",
        "\n",
        "#def model(algorithm, \n",
        "#          iteration, \n",
        "#          params, \n",
        "#          classes, \n",
        "#          X_tr, y_tr, X_te, y_te, \n",
        "#          cv, \n",
        "#          plot_cm)\n",
        "\n",
        "\n",
        "for depth in range(5, 11):\n",
        "    tree_r = model(DecisionTreeClassifier(),\n",
        "                   (depth - 4),\n",
        "                   {'max_depth': depth},\n",
        "#                   target_classes,\n",
        "                   X_train, y_train, X_test, y_test,\n",
        "                   cv = 0, \n",
        "                   plot_cm = False)\n",
        "    clf_results = pd.concat([clf_results, tree_r])\n",
        "\n",
        "#\n",
        "perc_r = model(Perceptron(), \n",
        "               1,\n",
        "               {'class_weight': 'balanced'},\n",
        "#               target_classes, \n",
        "               X_train, y_train, X_test, y_test,\n",
        "               cv = 0, \n",
        "               plot_cm = False)\n",
        "clf_results = pd.concat([clf_results, perc_r])\n",
        "\n",
        "#for i in range(1, 3):\n",
        "#    knn_r = model(KNeighborsClassifier(),\n",
        "#                  i,\n",
        "#                  {'n_neighbors': 2 * i + 1},\n",
        "#                  target_classes, \n",
        "#                  X_train, y_train, X_test, y_test,\n",
        "#                  cv = 0, \n",
        "#                  plot_cm = False)\n",
        "#    clf_results = pd.concat([clf_results, knn_r])\n",
        "\n",
        "logr_r = model(LogisticRegression(), \n",
        "               1,\n",
        "               {'solver': 'saga', 'max_iter': 400, 'multi_class': 'multinomial'},\n",
        "#               target_classes, \n",
        "               X_train, y_train, X_test, y_test,\n",
        "               cv = 0, plot_cm = False)\n",
        "clf_results = pd.concat([clf_results, logr_r])\n",
        "\n",
        "svm_r = model(LinearSVC(), \n",
        "              1,\n",
        "              {'multi_class': 'crammer_singer', 'max_iter': 2000},\n",
        "#              target_classes, \n",
        "              X_train, y_train, X_test, y_test,\n",
        "              cv = 0, \n",
        "              plot_cm = False)\n",
        "clf_results = pd.concat([clf_results, svm_r])\n",
        "\n",
        "clf_results"
      ],
      "metadata": {
        "id": "PYo41AE0HBSo",
        "colab": {
          "base_uri": "https://localhost:8080/",
          "height": 1000
        },
        "outputId": "6f401062-13ed-45f9-d511-cf7d18ca2968"
      },
      "execution_count": 368,
      "outputs": [
        {
          "output_type": "stream",
          "name": "stdout",
          "text": [
            "\n",
            "\n",
            " Fitting DecisionTreeClassifier (iteration 1)... done in 0.364s.\n",
            "Validating DecisionTreeClassifier (iteration 1)... done in 0.22s.\n",
            "\n",
            " DecisionTreeClassifier (iteration 1)\n",
            "{'max_depth': 5}\n",
            "              precision    recall  f1-score   support\n",
            "\n",
            "           0       0.77      0.53      0.63      9110\n",
            "           1       0.00      0.00      0.00      5499\n",
            "           2       0.46      0.93      0.62      8254\n",
            "\n",
            "    accuracy                           0.55     22863\n",
            "   macro avg       0.41      0.49      0.41     22863\n",
            "weighted avg       0.47      0.55      0.47     22863\n",
            "\n",
            "\n",
            "\n",
            " Fitting DecisionTreeClassifier (iteration 2)... done in 0.374s.\n",
            "Validating DecisionTreeClassifier (iteration 2)... done in 0.21s.\n",
            "\n",
            " DecisionTreeClassifier (iteration 2)\n",
            "{'max_depth': 6}\n",
            "              precision    recall  f1-score   support\n",
            "\n",
            "           0       0.52      0.92      0.66      9110\n",
            "           1       0.11      0.00      0.00      5499\n",
            "           2       0.68      0.54      0.60      8254\n",
            "\n",
            "    accuracy                           0.56     22863\n",
            "   macro avg       0.43      0.49      0.42     22863\n",
            "weighted avg       0.48      0.56      0.48     22863\n",
            "\n",
            "\n",
            "\n",
            " Fitting DecisionTreeClassifier (iteration 3)... done in 0.416s.\n",
            "Validating DecisionTreeClassifier (iteration 3)... done in 0.21s.\n",
            "\n",
            " DecisionTreeClassifier (iteration 3)\n",
            "{'max_depth': 7}\n",
            "              precision    recall  f1-score   support\n",
            "\n",
            "           0       0.53      0.92      0.67      9110\n",
            "           1       0.35      0.00      0.01      5499\n",
            "           2       0.68      0.57      0.62      8254\n",
            "\n",
            "    accuracy                           0.57     22863\n",
            "   macro avg       0.52      0.50      0.43     22863\n",
            "weighted avg       0.54      0.57      0.49     22863\n",
            "\n",
            "\n",
            "\n",
            " Fitting DecisionTreeClassifier (iteration 4)... done in 0.421s.\n",
            "Validating DecisionTreeClassifier (iteration 4)... done in 0.22s.\n",
            "\n",
            " DecisionTreeClassifier (iteration 4)\n",
            "{'max_depth': 8}\n",
            "              precision    recall  f1-score   support\n",
            "\n",
            "           0       0.57      0.84      0.68      9110\n",
            "           1       0.27      0.01      0.02      5499\n",
            "           2       0.62      0.70      0.65      8254\n",
            "\n",
            "    accuracy                           0.59     22863\n",
            "   macro avg       0.49      0.52      0.45     22863\n",
            "weighted avg       0.52      0.59      0.51     22863\n",
            "\n",
            "\n",
            "\n",
            " Fitting DecisionTreeClassifier (iteration 5)... done in 0.456s.\n",
            "Validating DecisionTreeClassifier (iteration 5)... done in 0.20s.\n",
            "\n",
            " DecisionTreeClassifier (iteration 5)\n",
            "{'max_depth': 9}\n",
            "              precision    recall  f1-score   support\n",
            "\n",
            "           0       0.62      0.77      0.68      9110\n",
            "           1       0.34      0.03      0.05      5499\n",
            "           2       0.58      0.77      0.66      8254\n",
            "\n",
            "    accuracy                           0.59     22863\n",
            "   macro avg       0.51      0.52      0.46     22863\n",
            "weighted avg       0.54      0.59      0.52     22863\n",
            "\n",
            "\n",
            "\n",
            " Fitting DecisionTreeClassifier (iteration 6)... done in 0.458s.\n",
            "Validating DecisionTreeClassifier (iteration 6)... done in 0.21s.\n",
            "\n",
            " DecisionTreeClassifier (iteration 6)\n",
            "{'max_depth': 10}\n",
            "              precision    recall  f1-score   support\n",
            "\n",
            "           0       0.61      0.78      0.68      9110\n",
            "           1       0.34      0.11      0.17      5499\n",
            "           2       0.62      0.70      0.66      8254\n",
            "\n",
            "    accuracy                           0.59     22863\n",
            "   macro avg       0.52      0.53      0.50     22863\n",
            "weighted avg       0.55      0.59      0.55     22863\n",
            "\n",
            "\n",
            "\n",
            " Fitting Perceptron (iteration 1)... done in 0.570s.\n",
            "Validating Perceptron (iteration 1)... done in 0.25s.\n",
            "\n",
            " Perceptron (iteration 1)\n",
            "{'class_weight': 'balanced'}\n",
            "              precision    recall  f1-score   support\n",
            "\n",
            "           0       0.74      0.42      0.53      9110\n",
            "           1       0.29      0.69      0.41      5499\n",
            "           2       0.59      0.33      0.42      8254\n",
            "\n",
            "    accuracy                           0.45     22863\n",
            "   macro avg       0.54      0.48      0.45     22863\n",
            "weighted avg       0.58      0.45      0.46     22863\n",
            "\n",
            "\n",
            "\n",
            " Fitting LogisticRegression (iteration 1)... done in 38.812s.\n",
            "Validating LogisticRegression (iteration 1)... done in 0.25s.\n",
            "\n",
            " LogisticRegression (iteration 1)\n",
            "{'solver': 'saga', 'max_iter': 400, 'multi_class': 'multinomial'}\n",
            "              precision    recall  f1-score   support\n",
            "\n",
            "           0       0.62      0.77      0.69      9110\n",
            "           1       0.41      0.06      0.11      5499\n",
            "           2       0.59      0.77      0.67      8254\n",
            "\n",
            "    accuracy                           0.60     22863\n",
            "   macro avg       0.54      0.53      0.49     22863\n",
            "weighted avg       0.56      0.60      0.54     22863\n",
            "\n",
            "\n",
            "\n",
            " Fitting LinearSVC (iteration 1)... "
          ]
        },
        {
          "output_type": "stream",
          "name": "stderr",
          "text": [
            "/usr/local/lib/python3.7/dist-packages/sklearn/svm/_base.py:1208: ConvergenceWarning: Liblinear failed to converge, increase the number of iterations.\n",
            "  ConvergenceWarning,\n"
          ]
        },
        {
          "output_type": "stream",
          "name": "stdout",
          "text": [
            "done in 41.857s.\n",
            "Validating LinearSVC (iteration 1)... done in 0.25s.\n",
            "\n",
            " LinearSVC (iteration 1)\n",
            "{'multi_class': 'crammer_singer', 'max_iter': 2000}\n",
            "              precision    recall  f1-score   support\n",
            "\n",
            "           0       0.62      0.75      0.68      9110\n",
            "           1       0.33      0.27      0.30      5499\n",
            "           2       0.67      0.60      0.63      8254\n",
            "\n",
            "    accuracy                           0.58     22863\n",
            "   macro avg       0.54      0.54      0.54     22863\n",
            "weighted avg       0.57      0.58      0.57     22863\n",
            "\n"
          ]
        },
        {
          "output_type": "execute_result",
          "data": {
            "text/plain": [
              "                algorithm                                   parameters                      fit_time  cv_time  val_time scores  train_acc  test_acc\n",
              "0  DecisionTreeClassifier (iteration 1)                                   {'max_depth': 5}    0.36       0       0.22     ()      0.55       0.55  \n",
              "0  DecisionTreeClassifier (iteration 2)                                   {'max_depth': 6}    0.37       0       0.21     ()      0.56       0.56  \n",
              "0  DecisionTreeClassifier (iteration 3)                                   {'max_depth': 7}    0.42       0       0.21     ()      0.57       0.57  \n",
              "0  DecisionTreeClassifier (iteration 4)                                   {'max_depth': 8}    0.42       0       0.22     ()      0.59       0.59  \n",
              "0  DecisionTreeClassifier (iteration 5)                                   {'max_depth': 9}    0.46       0       0.20     ()      0.60       0.59  \n",
              "0  DecisionTreeClassifier (iteration 6)                                  {'max_depth': 10}    0.46       0       0.21     ()      0.61       0.59  \n",
              "0              Perceptron (iteration 1)                       {'class_weight': 'balanced'}    0.57       0       0.25     ()      0.45       0.45  \n",
              "0      LogisticRegression (iteration 1)  {'solver': 'saga', 'max_iter': 400, 'multi_cla...   38.81       0       0.25     ()      0.60       0.60  \n",
              "0               LinearSVC (iteration 1)  {'multi_class': 'crammer_singer', 'max_iter': ...   41.86       0       0.25     ()      0.58       0.58  "
            ],
            "text/html": [
              "\n",
              "  <div id=\"df-1bee2737-0d2c-4f6a-835a-5d5e05646588\">\n",
              "    <div class=\"colab-df-container\">\n",
              "      <div>\n",
              "<style scoped>\n",
              "    .dataframe tbody tr th:only-of-type {\n",
              "        vertical-align: middle;\n",
              "    }\n",
              "\n",
              "    .dataframe tbody tr th {\n",
              "        vertical-align: top;\n",
              "    }\n",
              "\n",
              "    .dataframe thead th {\n",
              "        text-align: right;\n",
              "    }\n",
              "</style>\n",
              "<table border=\"1\" class=\"dataframe\">\n",
              "  <thead>\n",
              "    <tr style=\"text-align: center;\">\n",
              "      <th></th>\n",
              "      <th>algorithm</th>\n",
              "      <th>parameters</th>\n",
              "      <th>fit_time</th>\n",
              "      <th>cv_time</th>\n",
              "      <th>val_time</th>\n",
              "      <th>scores</th>\n",
              "      <th>train_acc</th>\n",
              "      <th>test_acc</th>\n",
              "    </tr>\n",
              "  </thead>\n",
              "  <tbody>\n",
              "    <tr>\n",
              "      <th>0</th>\n",
              "      <td>DecisionTreeClassifier (iteration 1)</td>\n",
              "      <td>{'max_depth': 5}</td>\n",
              "      <td>0.36</td>\n",
              "      <td>0</td>\n",
              "      <td>0.22</td>\n",
              "      <td>()</td>\n",
              "      <td>0.55</td>\n",
              "      <td>0.55</td>\n",
              "    </tr>\n",
              "    <tr>\n",
              "      <th>0</th>\n",
              "      <td>DecisionTreeClassifier (iteration 2)</td>\n",
              "      <td>{'max_depth': 6}</td>\n",
              "      <td>0.37</td>\n",
              "      <td>0</td>\n",
              "      <td>0.21</td>\n",
              "      <td>()</td>\n",
              "      <td>0.56</td>\n",
              "      <td>0.56</td>\n",
              "    </tr>\n",
              "    <tr>\n",
              "      <th>0</th>\n",
              "      <td>DecisionTreeClassifier (iteration 3)</td>\n",
              "      <td>{'max_depth': 7}</td>\n",
              "      <td>0.42</td>\n",
              "      <td>0</td>\n",
              "      <td>0.21</td>\n",
              "      <td>()</td>\n",
              "      <td>0.57</td>\n",
              "      <td>0.57</td>\n",
              "    </tr>\n",
              "    <tr>\n",
              "      <th>0</th>\n",
              "      <td>DecisionTreeClassifier (iteration 4)</td>\n",
              "      <td>{'max_depth': 8}</td>\n",
              "      <td>0.42</td>\n",
              "      <td>0</td>\n",
              "      <td>0.22</td>\n",
              "      <td>()</td>\n",
              "      <td>0.59</td>\n",
              "      <td>0.59</td>\n",
              "    </tr>\n",
              "    <tr>\n",
              "      <th>0</th>\n",
              "      <td>DecisionTreeClassifier (iteration 5)</td>\n",
              "      <td>{'max_depth': 9}</td>\n",
              "      <td>0.46</td>\n",
              "      <td>0</td>\n",
              "      <td>0.20</td>\n",
              "      <td>()</td>\n",
              "      <td>0.60</td>\n",
              "      <td>0.59</td>\n",
              "    </tr>\n",
              "    <tr>\n",
              "      <th>0</th>\n",
              "      <td>DecisionTreeClassifier (iteration 6)</td>\n",
              "      <td>{'max_depth': 10}</td>\n",
              "      <td>0.46</td>\n",
              "      <td>0</td>\n",
              "      <td>0.21</td>\n",
              "      <td>()</td>\n",
              "      <td>0.61</td>\n",
              "      <td>0.59</td>\n",
              "    </tr>\n",
              "    <tr>\n",
              "      <th>0</th>\n",
              "      <td>Perceptron (iteration 1)</td>\n",
              "      <td>{'class_weight': 'balanced'}</td>\n",
              "      <td>0.57</td>\n",
              "      <td>0</td>\n",
              "      <td>0.25</td>\n",
              "      <td>()</td>\n",
              "      <td>0.45</td>\n",
              "      <td>0.45</td>\n",
              "    </tr>\n",
              "    <tr>\n",
              "      <th>0</th>\n",
              "      <td>LogisticRegression (iteration 1)</td>\n",
              "      <td>{'solver': 'saga', 'max_iter': 400, 'multi_cla...</td>\n",
              "      <td>38.81</td>\n",
              "      <td>0</td>\n",
              "      <td>0.25</td>\n",
              "      <td>()</td>\n",
              "      <td>0.60</td>\n",
              "      <td>0.60</td>\n",
              "    </tr>\n",
              "    <tr>\n",
              "      <th>0</th>\n",
              "      <td>LinearSVC (iteration 1)</td>\n",
              "      <td>{'multi_class': 'crammer_singer', 'max_iter': ...</td>\n",
              "      <td>41.86</td>\n",
              "      <td>0</td>\n",
              "      <td>0.25</td>\n",
              "      <td>()</td>\n",
              "      <td>0.58</td>\n",
              "      <td>0.58</td>\n",
              "    </tr>\n",
              "  </tbody>\n",
              "</table>\n",
              "</div>\n",
              "      <button class=\"colab-df-convert\" onclick=\"convertToInteractive('df-1bee2737-0d2c-4f6a-835a-5d5e05646588')\"\n",
              "              title=\"Convert this dataframe to an interactive table.\"\n",
              "              style=\"display:none;\">\n",
              "        \n",
              "  <svg xmlns=\"http://www.w3.org/2000/svg\" height=\"24px\"viewBox=\"0 0 24 24\"\n",
              "       width=\"24px\">\n",
              "    <path d=\"M0 0h24v24H0V0z\" fill=\"none\"/>\n",
              "    <path d=\"M18.56 5.44l.94 2.06.94-2.06 2.06-.94-2.06-.94-.94-2.06-.94 2.06-2.06.94zm-11 1L8.5 8.5l.94-2.06 2.06-.94-2.06-.94L8.5 2.5l-.94 2.06-2.06.94zm10 10l.94 2.06.94-2.06 2.06-.94-2.06-.94-.94-2.06-.94 2.06-2.06.94z\"/><path d=\"M17.41 7.96l-1.37-1.37c-.4-.4-.92-.59-1.43-.59-.52 0-1.04.2-1.43.59L10.3 9.45l-7.72 7.72c-.78.78-.78 2.05 0 2.83L4 21.41c.39.39.9.59 1.41.59.51 0 1.02-.2 1.41-.59l7.78-7.78 2.81-2.81c.8-.78.8-2.07 0-2.86zM5.41 20L4 18.59l7.72-7.72 1.47 1.35L5.41 20z\"/>\n",
              "  </svg>\n",
              "      </button>\n",
              "      \n",
              "  <style>\n",
              "    .colab-df-container {\n",
              "      display:flex;\n",
              "      flex-wrap:wrap;\n",
              "      gap: 12px;\n",
              "    }\n",
              "\n",
              "    .colab-df-convert {\n",
              "      background-color: #E8F0FE;\n",
              "      border: none;\n",
              "      border-radius: 50%;\n",
              "      cursor: pointer;\n",
              "      display: none;\n",
              "      fill: #1967D2;\n",
              "      height: 32px;\n",
              "      padding: 0 0 0 0;\n",
              "      width: 32px;\n",
              "    }\n",
              "\n",
              "    .colab-df-convert:hover {\n",
              "      background-color: #E2EBFA;\n",
              "      box-shadow: 0px 1px 2px rgba(60, 64, 67, 0.3), 0px 1px 3px 1px rgba(60, 64, 67, 0.15);\n",
              "      fill: #174EA6;\n",
              "    }\n",
              "\n",
              "    [theme=dark] .colab-df-convert {\n",
              "      background-color: #3B4455;\n",
              "      fill: #D2E3FC;\n",
              "    }\n",
              "\n",
              "    [theme=dark] .colab-df-convert:hover {\n",
              "      background-color: #434B5C;\n",
              "      box-shadow: 0px 1px 3px 1px rgba(0, 0, 0, 0.15);\n",
              "      filter: drop-shadow(0px 1px 2px rgba(0, 0, 0, 0.3));\n",
              "      fill: #FFFFFF;\n",
              "    }\n",
              "  </style>\n",
              "\n",
              "      <script>\n",
              "        const buttonEl =\n",
              "          document.querySelector('#df-1bee2737-0d2c-4f6a-835a-5d5e05646588 button.colab-df-convert');\n",
              "        buttonEl.style.display =\n",
              "          google.colab.kernel.accessAllowed ? 'block' : 'none';\n",
              "\n",
              "        async function convertToInteractive(key) {\n",
              "          const element = document.querySelector('#df-1bee2737-0d2c-4f6a-835a-5d5e05646588');\n",
              "          const dataTable =\n",
              "            await google.colab.kernel.invokeFunction('convertToInteractive',\n",
              "                                                     [key], {});\n",
              "          if (!dataTable) return;\n",
              "\n",
              "          const docLinkHtml = 'Like what you see? Visit the ' +\n",
              "            '<a target=\"_blank\" href=https://colab.research.google.com/notebooks/data_table.ipynb>data table notebook</a>'\n",
              "            + ' to learn more about interactive tables.';\n",
              "          element.innerHTML = '';\n",
              "          dataTable['output_type'] = 'display_data';\n",
              "          await google.colab.output.renderOutput(dataTable, element);\n",
              "          const docLink = document.createElement('div');\n",
              "          docLink.innerHTML = docLinkHtml;\n",
              "          element.appendChild(docLink);\n",
              "        }\n",
              "      </script>\n",
              "    </div>\n",
              "  </div>\n",
              "  "
            ]
          },
          "metadata": {},
          "execution_count": 368
        }
      ]
    },
    {
      "cell_type": "code",
      "source": [
        "from sklearn.neural_network import MLPClassifier\n",
        "from sklearn.ensemble import RandomForestClassifier\n",
        "from sklearn.linear_model import RidgeClassifier\n",
        "\n",
        "# Iterate on models (preliminary)\n",
        "clf_results2 = pd.DataFrame()\n",
        "\n",
        "############### Function Structure\n",
        "\n",
        "nn_r = model(MLPClassifier(),\n",
        "             1,\n",
        "             {'random_state' : 1, 'max_iter': 300},\n",
        "#             target_classes,\n",
        "             X_train, y_train, X_test, y_test,\n",
        "             cv = 0,\n",
        "             plot_cm = False)\n",
        "clf_results2 = pd.concat([clf_results2, nn_r])\n",
        "\n",
        "rf_r = model(RandomForestClassifier(),\n",
        "             1,\n",
        "             {'max_depth' : 2},\n",
        "#             target_classes,\n",
        "             X_train, y_train, X_test, y_test,\n",
        "             cv = 0,\n",
        "             plot_cm = False)\n",
        "clf_results2 = pd.concat([clf_results2, rf_r])\n",
        "\n",
        "ridge_r = model(RidgeClassifier(),\n",
        "             1,\n",
        "             {'alpha' : 1, 'max_iter': 1000},\n",
        "#             target_classes,\n",
        "             X_train, y_train, X_test, y_test,\n",
        "             cv = 0,\n",
        "             plot_cm = False)\n",
        "clf_results2 = pd.concat([clf_results2, ridge_r])\n",
        "\n",
        "clf_results2"
      ],
      "metadata": {
        "id": "Yfrnef7_BU9P"
      },
      "execution_count": null,
      "outputs": []
    },
    {
      "cell_type": "markdown",
      "source": [
        "# Summer's kNN Minkowski\n",
        "## Still need to add a for loop for k"
      ],
      "metadata": {
        "id": "NSrPX_DsFkor"
      }
    },
    {
      "cell_type": "code",
      "source": [
        "from sklearn.naive_bayes import BernoulliNB, GaussianNB, MultinomialNB"
      ],
      "metadata": {
        "id": "2cHO8f5PK0nV"
      },
      "execution_count": null,
      "outputs": []
    },
    {
      "cell_type": "code",
      "source": [
        "clf_results3 = pd.DataFrame()\n",
        "\n",
        "knnmink_r = model(KNeighborsClassifier(),\n",
        "              1,\n",
        "              {'metric' : 'minkowski', 'n_neighbors' : 5},\n",
        "#              target_classes,\n",
        "              X_train, y_train, X_test, y_test,\n",
        "              cv = 0,\n",
        "              plot_cm = False)\n",
        "clf_results3 = pd.concat([clf_results3, knnmink_r])\n",
        "\n",
        "clf_results3"
      ],
      "metadata": {
        "id": "NixJd-I_BVBU"
      },
      "execution_count": null,
      "outputs": []
    },
    {
      "cell_type": "code",
      "source": [
        "############# Summer's previous kNN\n",
        "'''\n",
        "# creating a function to create and test a KNN model and output accuracy scores \n",
        "def k_nn(xtrain, ytrain, xtest, ytest, kvalues, metric):\n",
        "  knn_accuracy = []\n",
        "  clfs = []\n",
        "  for i in kvalues: \n",
        "    clf = KNeighborsClassifier(metric = metric, n_neighbors = i).fit(X_train, y_train)\n",
        "    clf_train_pred = clf.predict(X_train)\n",
        "    clf_test_pred = clf.predict(X_test)\n",
        "    clfs.append(clf)\n",
        "    knn_accuracy.append({'k-values':i, 'Training Accuracy': accuracy_score(clf_train_pred, y_train), \n",
        "                         'Test Accuracy': accuracy_score(clf_test_pred, y_test) })\n",
        "    print('K-value', i, 'complete')\n",
        "  return pd.DataFrame(knn_accuracy), clfs"
      ],
      "metadata": {
        "id": "uB9JQB9ZBVEm"
      },
      "execution_count": null,
      "outputs": []
    },
    {
      "cell_type": "markdown",
      "source": [
        "# Summer's kNN Manhattan\n",
        "## Still need to add a for loop for k"
      ],
      "metadata": {
        "id": "HVOA6hBxOJ1M"
      }
    },
    {
      "cell_type": "code",
      "source": [
        "knnman_r = model(KNeighborsClassifier(),\n",
        "              1,\n",
        "              {'metric' : 'manhattan', 'n_neighbors' : 5},\n",
        "#              target_classes,\n",
        "              X_train, y_train, X_test, y_test,\n",
        "              cv = 0,\n",
        "              plot_cm = False)\n",
        "clf_results3 = pd.concat([clf_results3, knnman_r])\n",
        "\n",
        "clf_results3"
      ],
      "metadata": {
        "id": "q88fHMzTOKEh"
      },
      "execution_count": null,
      "outputs": []
    },
    {
      "cell_type": "markdown",
      "source": [
        "# Summer's NB Bernoulli"
      ],
      "metadata": {
        "id": "RGn4yhnPJ2sT"
      }
    },
    {
      "cell_type": "code",
      "source": [
        "alpha = [0.1,1,5,10]\n",
        "for a in alpha:\n",
        "  nbbern_r = model(BernoulliNB(),\n",
        "                   1,\n",
        "                   {'alpha' : a},\n",
        "#                   target_classes,\n",
        "                   X_train, y_train, X_test, y_test,\n",
        "                   cv = 0,\n",
        "                   plot_cm = False)\n",
        "  clf_results3 = pd.concat([clf_results3, nbbern_r])\n",
        "\n",
        "clf_results3"
      ],
      "metadata": {
        "id": "zg2diUu9J24r"
      },
      "execution_count": null,
      "outputs": []
    },
    {
      "cell_type": "code",
      "source": [
        "############# Summer's previous NB_bern\n",
        "\n",
        "# Bernoulli \n",
        "# creating a function to create and test a Naive Bayes model and output accuracy scores \n",
        "def nb_bern(xtrain, ytrain, xtest, ytest, alpha):\n",
        "  nb_bern_acc = []\n",
        "  clfs_bern = []\n",
        "  for a in alpha: \n",
        "    clf = BernoulliNB(alpha = a).fit(X_train, y_train)\n",
        "    clf_train_pred = clf.predict(X_train)\n",
        "    clf_test_pred = clf.predict(X_test)\n",
        "    clfs_bern.append(clf)\n",
        "    nb_bern_acc.append({'alpha':a, 'Training Accuracy': accuracy_score(clf_train_pred, y_train), \n",
        "                         'Test Accuracy': accuracy_score(clf_test_pred, y_test) })\n",
        "    print('alpha', a, 'complete')\n",
        "  return pd.DataFrame(nb_bern_acc), clfs_bern\n",
        "\n"
      ],
      "metadata": {
        "id": "fVvGq0byJ3ht"
      },
      "execution_count": null,
      "outputs": []
    },
    {
      "cell_type": "code",
      "source": [
        "############# Summer's previous NB_bern\n",
        "\n",
        "nb_bern_acc, nb_bern_clf = nb_bern(X_train, y_train, X_test, y_test, (np.arange(0,10,.5)))\n",
        "display(nb_bern_acc)\n",
        "\n"
      ],
      "metadata": {
        "id": "b38Kb-SKKTz1"
      },
      "execution_count": null,
      "outputs": []
    }
  ]
}